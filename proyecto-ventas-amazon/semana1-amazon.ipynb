{
  "cells": [
    {
      "cell_type": "markdown",
      "metadata": {
        "id": "view-in-github",
        "colab_type": "text"
      },
      "source": [
        "<a href=\"https://colab.research.google.com/github/PosgradoMNA/actividades-del-projecto-teammexcol/blob/main/proyecto-ventas-amazon/semana1-amazon.ipynb\" target=\"_parent\"><img src=\"https://colab.research.google.com/assets/colab-badge.svg\" alt=\"Open In Colab\"/></a>"
      ]
    },
    {
      "cell_type": "markdown",
      "source": [
        "# Equipo 40 **Análisis de ventas de Amazon**\n",
        "\n",
        "Por:\n",
        "*   Víctor Alejandro Regueira Romero - A01794404\n",
        "*   Carlos Julio León Caicedo - A01793947\n",
        "\n",
        "Profesor asignado:\n",
        "*   Roberto Antonio Guevara González\n",
        "\n",
        "---\n",
        "\n"
      ],
      "metadata": {
        "id": "xF4SA9LZInnG"
      }
    },
    {
      "cell_type": "markdown",
      "source": [
        "## Actividad 1"
      ],
      "metadata": {
        "id": "gEM_AVJnJiCQ"
      }
    },
    {
      "cell_type": "markdown",
      "source": [
        "### **El nombre que caracteriza el conjunto de datos.**\n",
        "\n"
      ],
      "metadata": {
        "id": "6mosIJ5fJvl9"
      }
    },
    {
      "cell_type": "markdown",
      "source": [
        "Amazon All Categories Best Sellers + Reviews"
      ],
      "metadata": {
        "id": "cjK8FzxvKIOp"
      }
    },
    {
      "cell_type": "markdown",
      "source": [
        "### **La organización que lo generó.**"
      ],
      "metadata": {
        "id": "znFPp8nHKIFa"
      }
    },
    {
      "cell_type": "markdown",
      "source": [
        "amazon.com"
      ],
      "metadata": {
        "id": "TjSd0VAeKH8X"
      }
    },
    {
      "cell_type": "markdown",
      "source": [
        "### **Incluya un enlace de Internet donde se puedan descargar en línea y enviar como una hoja de cálculo junto con su informe correspondiente.**"
      ],
      "metadata": {
        "id": "nW6zpKj0KHvq"
      }
    },
    {
      "cell_type": "markdown",
      "source": [
        "https://www.kaggle.com/datasets/tigboatnc/amazon-all-categories-best-sellers-reviews"
      ],
      "metadata": {
        "id": "P7c6_AHuKGcM"
      }
    },
    {
      "cell_type": "markdown",
      "source": [
        "### **Describe el conjunto de datos. ¿Qué datos contiene?**"
      ],
      "metadata": {
        "id": "Np-02BYaKQKB"
      }
    },
    {
      "cell_type": "markdown",
      "source": [
        "Son **1316 registros** de Datos de Amazon EE. UU. sobre **los 50 productos más vendidos** para las 40 categorías enumeradas.\n",
        "\n",
        "Incluye:\n",
        "\n",
        "1.     nombre del producto\n",
        "2.     Categorías de Producto\n",
        "3.     Ranking de producto en su categoría\n",
        "4.     Recuento de reseñas de productos (Número de reseñas)\n",
        "5.     Revisión del producto (primera página de revisiones)\n",
        "       Incluye Meta + Revisión completa + Calificación otorgada por revisión\n",
        "6.     Coste del artículo en el momento del raspado.\n",
        "7.    URL del producto\n",
        "\n",
        "\n",
        "\n"
      ],
      "metadata": {
        "id": "53sh_cbzKQA7"
      }
    },
    {
      "cell_type": "markdown",
      "source": [
        "### **¿Cuáles son algunas de las preguntas de investigación que podría responder con estos datos? Enumere al menos OCHO (no responda las preguntas).**"
      ],
      "metadata": {
        "id": "vmpiH-uDKP9i"
      }
    },
    {
      "cell_type": "markdown",
      "source": [
        "\n",
        "\n",
        "1.   ¿Cúal es el producto más vendido?\n",
        "2.   Elemento de lista\n",
        "\n"
      ],
      "metadata": {
        "id": "ZHFyBke2KP4e"
      }
    },
    {
      "cell_type": "markdown",
      "source": [],
      "metadata": {
        "id": "-j0TKuoBKts5"
      }
    },
    {
      "cell_type": "markdown",
      "metadata": {
        "id": "hv-FTwyWCt3G"
      },
      "source": [
        "# Proyecto Amazon Review\n",
        "\n"
      ]
    },
    {
      "cell_type": "markdown",
      "source": [
        "## Conexión a Google Drive"
      ],
      "metadata": {
        "id": "cBNMGsm3NeJS"
      }
    },
    {
      "cell_type": "code",
      "source": [
        "from google.colab import drive\n",
        "drive.mount('/content/drive')"
      ],
      "metadata": {
        "colab": {
          "base_uri": "https://localhost:8080/"
        },
        "id": "xvUba9EFCyzK",
        "outputId": "db0e0967-e56b-4d7c-ba67-38cb17e90641"
      },
      "execution_count": 29,
      "outputs": [
        {
          "output_type": "stream",
          "name": "stdout",
          "text": [
            "Drive already mounted at /content/drive; to attempt to forcibly remount, call drive.mount(\"/content/drive\", force_remount=True).\n"
          ]
        }
      ]
    },
    {
      "cell_type": "markdown",
      "metadata": {
        "id": "fZpnhqE9Ct3N"
      },
      "source": [
        "## Importando Librerías"
      ]
    },
    {
      "cell_type": "code",
      "execution_count": 30,
      "metadata": {
        "id": "G_iTRvnKCt3R"
      },
      "outputs": [],
      "source": [
        "import numpy as np # linear algebra\n",
        "import pandas as pd # data processing, CSV file I/O (e.g. pd.read_csv)\n",
        "import matplotlib.pyplot as plt\n",
        "import seaborn as sns\n",
        "%matplotlib inline"
      ]
    },
    {
      "cell_type": "markdown",
      "source": [
        "## Leyendo información"
      ],
      "metadata": {
        "id": "Gc8hrU1XNwpk"
      }
    },
    {
      "cell_type": "code",
      "source": [
        "df = pd.read_csv('/content/drive/MyDrive/Colab Notebooks/abs080922 - clear.csv')\n",
        "df.head()"
      ],
      "metadata": {
        "id": "MZ8z1SJSN49g",
        "colab": {
          "base_uri": "https://localhost:8080/",
          "height": 441
        },
        "outputId": "f46863b2-fb83-4fd9-a610-d98b9bfc3445"
      },
      "execution_count": 36,
      "outputs": [
        {
          "output_type": "execute_result",
          "data": {
            "text/plain": [
              "   Unnamed: 0                                       product_name  \\\n",
              "0           0  Fire TV Stick with Alexa Voice Remote (include...   \n",
              "1           1  All-new Ring Video Doorbell (2nd Gen) – 1080p ...   \n",
              "2           2  Echo Dot (3rd Gen, 2018 release) - Smart speak...   \n",
              "3           3  Fire TV Stick 4K Max streaming device, Wi-Fi 6...   \n",
              "4           4                                  Amazon Smart Plug   \n",
              "\n",
              "                       category categoryRank noRatings              cost  \\\n",
              "0  Amazon Devices & Accessories           #1   256,226            $39.99   \n",
              "1  Amazon Devices & Accessories           #2   112,689  $89.99 - $199.98   \n",
              "2  Amazon Devices & Accessories           #3   936,447            $29.99   \n",
              "3  Amazon Devices & Accessories           #4    69,684            $54.99   \n",
              "4  Amazon Devices & Accessories           #5   508,565            $24.99   \n",
              "\n",
              "                                          REVIEWLIST  \\\n",
              "0  [{'review_meta': 'Reviewed in the United State...   \n",
              "1  [{'review_meta': 'Reviewed in the United State...   \n",
              "2  [{'review_meta': 'Reviewed in the United State...   \n",
              "3  [{'review_meta': 'Reviewed in the United State...   \n",
              "4  [{'review_meta': 'Reviewed in the United State...   \n",
              "\n",
              "                                         product_url  \n",
              "0  https://www.amazon.com/fire-tv-stick-with-3rd-...  \n",
              "1  https://www.amazon.com/All-new-Ring-Video-Door...  \n",
              "2  https://www.amazon.com/Echo-Dot/dp/B07FZ8S74R/...  \n",
              "3  https://www.amazon.com/fire-tv-stick-4k-max-wi...  \n",
              "4  https://www.amazon.com/Amazon-Smart-Plug/dp/B0...  "
            ],
            "text/html": [
              "\n",
              "  <div id=\"df-1ebf2ecc-aac7-4efe-b388-e5d750ad2736\">\n",
              "    <div class=\"colab-df-container\">\n",
              "      <div>\n",
              "<style scoped>\n",
              "    .dataframe tbody tr th:only-of-type {\n",
              "        vertical-align: middle;\n",
              "    }\n",
              "\n",
              "    .dataframe tbody tr th {\n",
              "        vertical-align: top;\n",
              "    }\n",
              "\n",
              "    .dataframe thead th {\n",
              "        text-align: right;\n",
              "    }\n",
              "</style>\n",
              "<table border=\"1\" class=\"dataframe\">\n",
              "  <thead>\n",
              "    <tr style=\"text-align: right;\">\n",
              "      <th></th>\n",
              "      <th>Unnamed: 0</th>\n",
              "      <th>product_name</th>\n",
              "      <th>category</th>\n",
              "      <th>categoryRank</th>\n",
              "      <th>noRatings</th>\n",
              "      <th>cost</th>\n",
              "      <th>REVIEWLIST</th>\n",
              "      <th>product_url</th>\n",
              "    </tr>\n",
              "  </thead>\n",
              "  <tbody>\n",
              "    <tr>\n",
              "      <th>0</th>\n",
              "      <td>0</td>\n",
              "      <td>Fire TV Stick with Alexa Voice Remote (include...</td>\n",
              "      <td>Amazon Devices &amp; Accessories</td>\n",
              "      <td>#1</td>\n",
              "      <td>256,226</td>\n",
              "      <td>$39.99</td>\n",
              "      <td>[{'review_meta': 'Reviewed in the United State...</td>\n",
              "      <td>https://www.amazon.com/fire-tv-stick-with-3rd-...</td>\n",
              "    </tr>\n",
              "    <tr>\n",
              "      <th>1</th>\n",
              "      <td>1</td>\n",
              "      <td>All-new Ring Video Doorbell (2nd Gen) – 1080p ...</td>\n",
              "      <td>Amazon Devices &amp; Accessories</td>\n",
              "      <td>#2</td>\n",
              "      <td>112,689</td>\n",
              "      <td>$89.99 - $199.98</td>\n",
              "      <td>[{'review_meta': 'Reviewed in the United State...</td>\n",
              "      <td>https://www.amazon.com/All-new-Ring-Video-Door...</td>\n",
              "    </tr>\n",
              "    <tr>\n",
              "      <th>2</th>\n",
              "      <td>2</td>\n",
              "      <td>Echo Dot (3rd Gen, 2018 release) - Smart speak...</td>\n",
              "      <td>Amazon Devices &amp; Accessories</td>\n",
              "      <td>#3</td>\n",
              "      <td>936,447</td>\n",
              "      <td>$29.99</td>\n",
              "      <td>[{'review_meta': 'Reviewed in the United State...</td>\n",
              "      <td>https://www.amazon.com/Echo-Dot/dp/B07FZ8S74R/...</td>\n",
              "    </tr>\n",
              "    <tr>\n",
              "      <th>3</th>\n",
              "      <td>3</td>\n",
              "      <td>Fire TV Stick 4K Max streaming device, Wi-Fi 6...</td>\n",
              "      <td>Amazon Devices &amp; Accessories</td>\n",
              "      <td>#4</td>\n",
              "      <td>69,684</td>\n",
              "      <td>$54.99</td>\n",
              "      <td>[{'review_meta': 'Reviewed in the United State...</td>\n",
              "      <td>https://www.amazon.com/fire-tv-stick-4k-max-wi...</td>\n",
              "    </tr>\n",
              "    <tr>\n",
              "      <th>4</th>\n",
              "      <td>4</td>\n",
              "      <td>Amazon Smart Plug</td>\n",
              "      <td>Amazon Devices &amp; Accessories</td>\n",
              "      <td>#5</td>\n",
              "      <td>508,565</td>\n",
              "      <td>$24.99</td>\n",
              "      <td>[{'review_meta': 'Reviewed in the United State...</td>\n",
              "      <td>https://www.amazon.com/Amazon-Smart-Plug/dp/B0...</td>\n",
              "    </tr>\n",
              "  </tbody>\n",
              "</table>\n",
              "</div>\n",
              "      <button class=\"colab-df-convert\" onclick=\"convertToInteractive('df-1ebf2ecc-aac7-4efe-b388-e5d750ad2736')\"\n",
              "              title=\"Convert this dataframe to an interactive table.\"\n",
              "              style=\"display:none;\">\n",
              "        \n",
              "  <svg xmlns=\"http://www.w3.org/2000/svg\" height=\"24px\"viewBox=\"0 0 24 24\"\n",
              "       width=\"24px\">\n",
              "    <path d=\"M0 0h24v24H0V0z\" fill=\"none\"/>\n",
              "    <path d=\"M18.56 5.44l.94 2.06.94-2.06 2.06-.94-2.06-.94-.94-2.06-.94 2.06-2.06.94zm-11 1L8.5 8.5l.94-2.06 2.06-.94-2.06-.94L8.5 2.5l-.94 2.06-2.06.94zm10 10l.94 2.06.94-2.06 2.06-.94-2.06-.94-.94-2.06-.94 2.06-2.06.94z\"/><path d=\"M17.41 7.96l-1.37-1.37c-.4-.4-.92-.59-1.43-.59-.52 0-1.04.2-1.43.59L10.3 9.45l-7.72 7.72c-.78.78-.78 2.05 0 2.83L4 21.41c.39.39.9.59 1.41.59.51 0 1.02-.2 1.41-.59l7.78-7.78 2.81-2.81c.8-.78.8-2.07 0-2.86zM5.41 20L4 18.59l7.72-7.72 1.47 1.35L5.41 20z\"/>\n",
              "  </svg>\n",
              "      </button>\n",
              "      \n",
              "  <style>\n",
              "    .colab-df-container {\n",
              "      display:flex;\n",
              "      flex-wrap:wrap;\n",
              "      gap: 12px;\n",
              "    }\n",
              "\n",
              "    .colab-df-convert {\n",
              "      background-color: #E8F0FE;\n",
              "      border: none;\n",
              "      border-radius: 50%;\n",
              "      cursor: pointer;\n",
              "      display: none;\n",
              "      fill: #1967D2;\n",
              "      height: 32px;\n",
              "      padding: 0 0 0 0;\n",
              "      width: 32px;\n",
              "    }\n",
              "\n",
              "    .colab-df-convert:hover {\n",
              "      background-color: #E2EBFA;\n",
              "      box-shadow: 0px 1px 2px rgba(60, 64, 67, 0.3), 0px 1px 3px 1px rgba(60, 64, 67, 0.15);\n",
              "      fill: #174EA6;\n",
              "    }\n",
              "\n",
              "    [theme=dark] .colab-df-convert {\n",
              "      background-color: #3B4455;\n",
              "      fill: #D2E3FC;\n",
              "    }\n",
              "\n",
              "    [theme=dark] .colab-df-convert:hover {\n",
              "      background-color: #434B5C;\n",
              "      box-shadow: 0px 1px 3px 1px rgba(0, 0, 0, 0.15);\n",
              "      filter: drop-shadow(0px 1px 2px rgba(0, 0, 0, 0.3));\n",
              "      fill: #FFFFFF;\n",
              "    }\n",
              "  </style>\n",
              "\n",
              "      <script>\n",
              "        const buttonEl =\n",
              "          document.querySelector('#df-1ebf2ecc-aac7-4efe-b388-e5d750ad2736 button.colab-df-convert');\n",
              "        buttonEl.style.display =\n",
              "          google.colab.kernel.accessAllowed ? 'block' : 'none';\n",
              "\n",
              "        async function convertToInteractive(key) {\n",
              "          const element = document.querySelector('#df-1ebf2ecc-aac7-4efe-b388-e5d750ad2736');\n",
              "          const dataTable =\n",
              "            await google.colab.kernel.invokeFunction('convertToInteractive',\n",
              "                                                     [key], {});\n",
              "          if (!dataTable) return;\n",
              "\n",
              "          const docLinkHtml = 'Like what you see? Visit the ' +\n",
              "            '<a target=\"_blank\" href=https://colab.research.google.com/notebooks/data_table.ipynb>data table notebook</a>'\n",
              "            + ' to learn more about interactive tables.';\n",
              "          element.innerHTML = '';\n",
              "          dataTable['output_type'] = 'display_data';\n",
              "          await google.colab.output.renderOutput(dataTable, element);\n",
              "          const docLink = document.createElement('div');\n",
              "          docLink.innerHTML = docLinkHtml;\n",
              "          element.appendChild(docLink);\n",
              "        }\n",
              "      </script>\n",
              "    </div>\n",
              "  </div>\n",
              "  "
            ]
          },
          "metadata": {},
          "execution_count": 36
        }
      ]
    },
    {
      "cell_type": "markdown",
      "metadata": {
        "id": "PaqlfhiLCt3V"
      },
      "source": [
        "## Preparación de datos"
      ]
    },
    {
      "cell_type": "code",
      "source": [
        "df.shape"
      ],
      "metadata": {
        "colab": {
          "base_uri": "https://localhost:8080/"
        },
        "id": "IFfe47b8DK7J",
        "outputId": "f0fe2b28-9ac6-4e87-ea24-74615b6fb070"
      },
      "execution_count": 37,
      "outputs": [
        {
          "output_type": "execute_result",
          "data": {
            "text/plain": [
              "(1316, 8)"
            ]
          },
          "metadata": {},
          "execution_count": 37
        }
      ]
    },
    {
      "cell_type": "code",
      "source": [
        "print('Son ',df.shape[0], 'filas\\n y ', df.shape[1], 'atributos')"
      ],
      "metadata": {
        "id": "MmMSpODnVlIO",
        "outputId": "f2ea23e9-7f37-4ab8-dd45-dc9c2cf18bd1",
        "colab": {
          "base_uri": "https://localhost:8080/"
        }
      },
      "execution_count": 38,
      "outputs": [
        {
          "output_type": "stream",
          "name": "stdout",
          "text": [
            "Son  1316 filas\n",
            " y  8 atributos\n"
          ]
        }
      ]
    }
  ],
  "metadata": {
    "kernelspec": {
      "display_name": "Python 3.10.6 64-bit",
      "language": "python",
      "name": "python3"
    },
    "language_info": {
      "codemirror_mode": {
        "name": "ipython",
        "version": 3
      },
      "file_extension": ".py",
      "mimetype": "text/x-python",
      "name": "python",
      "nbconvert_exporter": "python",
      "pygments_lexer": "ipython3",
      "version": "3.10.6"
    },
    "orig_nbformat": 4,
    "vscode": {
      "interpreter": {
        "hash": "b27fa327a95f0eef0f878177ae37ed790559c26732ddc28a8c687325a6119dd9"
      }
    },
    "colab": {
      "provenance": [],
      "collapsed_sections": [],
      "include_colab_link": true
    }
  },
  "nbformat": 4,
  "nbformat_minor": 0
}