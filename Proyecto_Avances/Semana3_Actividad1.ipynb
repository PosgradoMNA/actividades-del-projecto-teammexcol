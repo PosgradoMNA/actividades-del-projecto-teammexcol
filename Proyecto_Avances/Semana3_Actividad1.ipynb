{
  "nbformat": 4,
  "nbformat_minor": 0,
  "metadata": {
    "colab": {
      "provenance": [],
      "collapsed_sections": [],
      "toc_visible": true,
      "authorship_tag": "ABX9TyMJa+4LVe4Q1Z+qulw/gJ6F",
      "include_colab_link": true
    },
    "kernelspec": {
      "name": "python3",
      "display_name": "Python 3"
    },
    "language_info": {
      "name": "python"
    }
  },
  "cells": [
    {
      "cell_type": "markdown",
      "metadata": {
        "id": "view-in-github",
        "colab_type": "text"
      },
      "source": [
        "<a href=\"https://colab.research.google.com/github/PosgradoMNA/actividades-del-projecto-teammexcol/blob/main/Proyecto_Avances/Semana3_Actividad1.ipynb\" target=\"_parent\"><img src=\"https://colab.research.google.com/assets/colab-badge.svg\" alt=\"Open In Colab\"/></a>"
      ]
    },
    {
      "cell_type": "markdown",
      "source": [
        "# Presentación\n",
        "\n",
        "**Equipo 40**\n",
        "\n",
        "Por:\n",
        "\n",
        "* Víctor Alejandro Regueira Romero - A01794404\n",
        "* Carlos Julio León Caicedo - A01793947\n",
        "\n",
        "Profesor asignado:\n",
        "\n",
        "* Roberto Antonio Guevara González\n"
      ],
      "metadata": {
        "id": "v2FIw3j1JTL2"
      }
    },
    {
      "cell_type": "markdown",
      "source": [
        "---"
      ],
      "metadata": {
        "id": "ooMRF8rnJpbP"
      }
    },
    {
      "cell_type": "markdown",
      "source": [
        "# Parte 1: Fundamentos de bases de datos"
      ],
      "metadata": {
        "id": "FAogU9nGaxvG"
      }
    },
    {
      "cell_type": "markdown",
      "source": [
        "## 1. Fundamentos de bases de datos y para ciencia de datos.\n",
        "\n",
        "Las bases de datos tiene un valor primitivo que conocemos como dato, el conjunto de datos nos genera un registro, el conjunto de registros nos genera tablas y este conjunto de datos lo conocemos como **base de datos (BD)**.\n",
        "\n",
        "Las BD se dividen en relacionales y no relacionales, para las BD relacionales existe algo llamado normalización de BD, el cual se encuentra dividido en 1era, 2da y 3ra forma normal. Para las BD no relacionales se utilizan otro tipo de técnicas para distribución de la información.\n",
        "\n",
        "Para la Ciencia de Datos, el 80% del análisis se basa en la limpieza y filtrado de los datos a utilizar, es por eso que se le da tanta importancia a el conjunto de datos con el que estemos trabajando. Dependiendo de la calidad de información que suministremos será igual a la calidad de insights generados.\n",
        "\n",
        "Existen puestos claves como lo es el Data Engineer, quien se encarga de realiar la normalización de las BD y brindarle al científico de datos la información limpia. Sin embargo, en la mayoría de estos casos, es el mismo Científico de Datos quien debe de hacer un filtrado y limpieza para que las varibles que tomemos del dataset puedan brindar información fidedigna y aproximar los estándares de calidad de modelos de predicción a lo más alto.\n"
      ],
      "metadata": {
        "id": "s7XJLCAobIXM"
      }
    },
    {
      "cell_type": "markdown",
      "source": [
        "## 2. Fundamentos de almacenes de datos (Data Warehouse) para ciencia de datos.\n",
        "\n",
        "Un Data Warehouse a groso modo, es un conjunto exuberante de datos que proveienen de distintas fuentes de información y que son centralizadas en un único sitio para poder tener acceso desde distintas herramientas.\n",
        "\n",
        "Importante saber que el Data Warehouse tiene la función sólamnte de almacenar, esto no implica limpiar la información que está entrando. Para esto existen dos principales métodos para realizar la limpieza de los datos. Estos métodos son el ETL y ELT.\n",
        "\n",
        "ETL (Extract, Transform, Load) se refieren a un proceso de integración de datos en el que la transformación tiene lugar en un servidor intermedio antes de que se cargue en el destino (Data Warehouse). Por el contrario, ELT permite que los datos sin procesar se carguen directamente en el Data Warehouse y se transformen allí."
      ],
      "metadata": {
        "id": "y4SvAe0481UV"
      }
    },
    {
      "cell_type": "markdown",
      "source": [
        "---"
      ],
      "metadata": {
        "id": "TbQkStFS5dJK"
      }
    },
    {
      "cell_type": "markdown",
      "source": [
        "# Parte 2: Selección y limpieza de los Datos en Python"
      ],
      "metadata": {
        "id": "CEgFMGQIbBSt"
      }
    },
    {
      "cell_type": "code",
      "execution_count": 1,
      "metadata": {
        "id": "0HC3Y6NQQEUF"
      },
      "outputs": [],
      "source": [
        "input = \"https://raw.githubusercontent.com/PosgradoMNA/Actividades_Aprendizaje-/main/default%20of%20credit%20card%20clients.csv\""
      ]
    },
    {
      "cell_type": "code",
      "source": [
        "import pandas as pd\n",
        "import matplotlib.pyplot as plt\n",
        "df = pd.read_csv(input)\n",
        "df.head()"
      ],
      "metadata": {
        "colab": {
          "base_uri": "https://localhost:8080/",
          "height": 235
        },
        "id": "I3cwjRuwQGDk",
        "outputId": "170abd98-b3c9-4ffe-df2e-1abb5c78464a"
      },
      "execution_count": 2,
      "outputs": [
        {
          "output_type": "execute_result",
          "data": {
            "text/plain": [
              "   ID      X1   X2   X3   X4    X5   X6   X7   X8   X9  ...      X15      X16  \\\n",
              "0   1   20000  2.0  2.0  1.0  24.0  2.0  2.0 -1.0 -1.0  ...      0.0      0.0   \n",
              "1   2  120000  2.0  2.0  2.0  26.0 -1.0  2.0  0.0  0.0  ...   3272.0   3455.0   \n",
              "2   3   90000  2.0  2.0  2.0  34.0  0.0  0.0  0.0  0.0  ...  14331.0  14948.0   \n",
              "3   4   50000  2.0  2.0  1.0  37.0  0.0  0.0  0.0  0.0  ...  28314.0  28959.0   \n",
              "4   5   50000  1.0  2.0  1.0  57.0 -1.0  0.0 -1.0  0.0  ...  20940.0  19146.0   \n",
              "\n",
              "       X17     X18      X19      X20     X21     X22     X23    Y  \n",
              "0      0.0     0.0    689.0      0.0     0.0     0.0     0.0  1.0  \n",
              "1   3261.0     0.0   1000.0   1000.0  1000.0     0.0  2000.0  1.0  \n",
              "2  15549.0  1518.0   1500.0   1000.0  1000.0  1000.0  5000.0  0.0  \n",
              "3  29547.0  2000.0   2019.0   1200.0  1100.0  1069.0  1000.0  0.0  \n",
              "4  19131.0  2000.0  36681.0  10000.0  9000.0   689.0   679.0  0.0  \n",
              "\n",
              "[5 rows x 25 columns]"
            ],
            "text/html": [
              "\n",
              "  <div id=\"df-a74f4eb2-903f-461a-91f9-59ecd1954395\">\n",
              "    <div class=\"colab-df-container\">\n",
              "      <div>\n",
              "<style scoped>\n",
              "    .dataframe tbody tr th:only-of-type {\n",
              "        vertical-align: middle;\n",
              "    }\n",
              "\n",
              "    .dataframe tbody tr th {\n",
              "        vertical-align: top;\n",
              "    }\n",
              "\n",
              "    .dataframe thead th {\n",
              "        text-align: right;\n",
              "    }\n",
              "</style>\n",
              "<table border=\"1\" class=\"dataframe\">\n",
              "  <thead>\n",
              "    <tr style=\"text-align: right;\">\n",
              "      <th></th>\n",
              "      <th>ID</th>\n",
              "      <th>X1</th>\n",
              "      <th>X2</th>\n",
              "      <th>X3</th>\n",
              "      <th>X4</th>\n",
              "      <th>X5</th>\n",
              "      <th>X6</th>\n",
              "      <th>X7</th>\n",
              "      <th>X8</th>\n",
              "      <th>X9</th>\n",
              "      <th>...</th>\n",
              "      <th>X15</th>\n",
              "      <th>X16</th>\n",
              "      <th>X17</th>\n",
              "      <th>X18</th>\n",
              "      <th>X19</th>\n",
              "      <th>X20</th>\n",
              "      <th>X21</th>\n",
              "      <th>X22</th>\n",
              "      <th>X23</th>\n",
              "      <th>Y</th>\n",
              "    </tr>\n",
              "  </thead>\n",
              "  <tbody>\n",
              "    <tr>\n",
              "      <th>0</th>\n",
              "      <td>1</td>\n",
              "      <td>20000</td>\n",
              "      <td>2.0</td>\n",
              "      <td>2.0</td>\n",
              "      <td>1.0</td>\n",
              "      <td>24.0</td>\n",
              "      <td>2.0</td>\n",
              "      <td>2.0</td>\n",
              "      <td>-1.0</td>\n",
              "      <td>-1.0</td>\n",
              "      <td>...</td>\n",
              "      <td>0.0</td>\n",
              "      <td>0.0</td>\n",
              "      <td>0.0</td>\n",
              "      <td>0.0</td>\n",
              "      <td>689.0</td>\n",
              "      <td>0.0</td>\n",
              "      <td>0.0</td>\n",
              "      <td>0.0</td>\n",
              "      <td>0.0</td>\n",
              "      <td>1.0</td>\n",
              "    </tr>\n",
              "    <tr>\n",
              "      <th>1</th>\n",
              "      <td>2</td>\n",
              "      <td>120000</td>\n",
              "      <td>2.0</td>\n",
              "      <td>2.0</td>\n",
              "      <td>2.0</td>\n",
              "      <td>26.0</td>\n",
              "      <td>-1.0</td>\n",
              "      <td>2.0</td>\n",
              "      <td>0.0</td>\n",
              "      <td>0.0</td>\n",
              "      <td>...</td>\n",
              "      <td>3272.0</td>\n",
              "      <td>3455.0</td>\n",
              "      <td>3261.0</td>\n",
              "      <td>0.0</td>\n",
              "      <td>1000.0</td>\n",
              "      <td>1000.0</td>\n",
              "      <td>1000.0</td>\n",
              "      <td>0.0</td>\n",
              "      <td>2000.0</td>\n",
              "      <td>1.0</td>\n",
              "    </tr>\n",
              "    <tr>\n",
              "      <th>2</th>\n",
              "      <td>3</td>\n",
              "      <td>90000</td>\n",
              "      <td>2.0</td>\n",
              "      <td>2.0</td>\n",
              "      <td>2.0</td>\n",
              "      <td>34.0</td>\n",
              "      <td>0.0</td>\n",
              "      <td>0.0</td>\n",
              "      <td>0.0</td>\n",
              "      <td>0.0</td>\n",
              "      <td>...</td>\n",
              "      <td>14331.0</td>\n",
              "      <td>14948.0</td>\n",
              "      <td>15549.0</td>\n",
              "      <td>1518.0</td>\n",
              "      <td>1500.0</td>\n",
              "      <td>1000.0</td>\n",
              "      <td>1000.0</td>\n",
              "      <td>1000.0</td>\n",
              "      <td>5000.0</td>\n",
              "      <td>0.0</td>\n",
              "    </tr>\n",
              "    <tr>\n",
              "      <th>3</th>\n",
              "      <td>4</td>\n",
              "      <td>50000</td>\n",
              "      <td>2.0</td>\n",
              "      <td>2.0</td>\n",
              "      <td>1.0</td>\n",
              "      <td>37.0</td>\n",
              "      <td>0.0</td>\n",
              "      <td>0.0</td>\n",
              "      <td>0.0</td>\n",
              "      <td>0.0</td>\n",
              "      <td>...</td>\n",
              "      <td>28314.0</td>\n",
              "      <td>28959.0</td>\n",
              "      <td>29547.0</td>\n",
              "      <td>2000.0</td>\n",
              "      <td>2019.0</td>\n",
              "      <td>1200.0</td>\n",
              "      <td>1100.0</td>\n",
              "      <td>1069.0</td>\n",
              "      <td>1000.0</td>\n",
              "      <td>0.0</td>\n",
              "    </tr>\n",
              "    <tr>\n",
              "      <th>4</th>\n",
              "      <td>5</td>\n",
              "      <td>50000</td>\n",
              "      <td>1.0</td>\n",
              "      <td>2.0</td>\n",
              "      <td>1.0</td>\n",
              "      <td>57.0</td>\n",
              "      <td>-1.0</td>\n",
              "      <td>0.0</td>\n",
              "      <td>-1.0</td>\n",
              "      <td>0.0</td>\n",
              "      <td>...</td>\n",
              "      <td>20940.0</td>\n",
              "      <td>19146.0</td>\n",
              "      <td>19131.0</td>\n",
              "      <td>2000.0</td>\n",
              "      <td>36681.0</td>\n",
              "      <td>10000.0</td>\n",
              "      <td>9000.0</td>\n",
              "      <td>689.0</td>\n",
              "      <td>679.0</td>\n",
              "      <td>0.0</td>\n",
              "    </tr>\n",
              "  </tbody>\n",
              "</table>\n",
              "<p>5 rows × 25 columns</p>\n",
              "</div>\n",
              "      <button class=\"colab-df-convert\" onclick=\"convertToInteractive('df-a74f4eb2-903f-461a-91f9-59ecd1954395')\"\n",
              "              title=\"Convert this dataframe to an interactive table.\"\n",
              "              style=\"display:none;\">\n",
              "        \n",
              "  <svg xmlns=\"http://www.w3.org/2000/svg\" height=\"24px\"viewBox=\"0 0 24 24\"\n",
              "       width=\"24px\">\n",
              "    <path d=\"M0 0h24v24H0V0z\" fill=\"none\"/>\n",
              "    <path d=\"M18.56 5.44l.94 2.06.94-2.06 2.06-.94-2.06-.94-.94-2.06-.94 2.06-2.06.94zm-11 1L8.5 8.5l.94-2.06 2.06-.94-2.06-.94L8.5 2.5l-.94 2.06-2.06.94zm10 10l.94 2.06.94-2.06 2.06-.94-2.06-.94-.94-2.06-.94 2.06-2.06.94z\"/><path d=\"M17.41 7.96l-1.37-1.37c-.4-.4-.92-.59-1.43-.59-.52 0-1.04.2-1.43.59L10.3 9.45l-7.72 7.72c-.78.78-.78 2.05 0 2.83L4 21.41c.39.39.9.59 1.41.59.51 0 1.02-.2 1.41-.59l7.78-7.78 2.81-2.81c.8-.78.8-2.07 0-2.86zM5.41 20L4 18.59l7.72-7.72 1.47 1.35L5.41 20z\"/>\n",
              "  </svg>\n",
              "      </button>\n",
              "      \n",
              "  <style>\n",
              "    .colab-df-container {\n",
              "      display:flex;\n",
              "      flex-wrap:wrap;\n",
              "      gap: 12px;\n",
              "    }\n",
              "\n",
              "    .colab-df-convert {\n",
              "      background-color: #E8F0FE;\n",
              "      border: none;\n",
              "      border-radius: 50%;\n",
              "      cursor: pointer;\n",
              "      display: none;\n",
              "      fill: #1967D2;\n",
              "      height: 32px;\n",
              "      padding: 0 0 0 0;\n",
              "      width: 32px;\n",
              "    }\n",
              "\n",
              "    .colab-df-convert:hover {\n",
              "      background-color: #E2EBFA;\n",
              "      box-shadow: 0px 1px 2px rgba(60, 64, 67, 0.3), 0px 1px 3px 1px rgba(60, 64, 67, 0.15);\n",
              "      fill: #174EA6;\n",
              "    }\n",
              "\n",
              "    [theme=dark] .colab-df-convert {\n",
              "      background-color: #3B4455;\n",
              "      fill: #D2E3FC;\n",
              "    }\n",
              "\n",
              "    [theme=dark] .colab-df-convert:hover {\n",
              "      background-color: #434B5C;\n",
              "      box-shadow: 0px 1px 3px 1px rgba(0, 0, 0, 0.15);\n",
              "      filter: drop-shadow(0px 1px 2px rgba(0, 0, 0, 0.3));\n",
              "      fill: #FFFFFF;\n",
              "    }\n",
              "  </style>\n",
              "\n",
              "      <script>\n",
              "        const buttonEl =\n",
              "          document.querySelector('#df-a74f4eb2-903f-461a-91f9-59ecd1954395 button.colab-df-convert');\n",
              "        buttonEl.style.display =\n",
              "          google.colab.kernel.accessAllowed ? 'block' : 'none';\n",
              "\n",
              "        async function convertToInteractive(key) {\n",
              "          const element = document.querySelector('#df-a74f4eb2-903f-461a-91f9-59ecd1954395');\n",
              "          const dataTable =\n",
              "            await google.colab.kernel.invokeFunction('convertToInteractive',\n",
              "                                                     [key], {});\n",
              "          if (!dataTable) return;\n",
              "\n",
              "          const docLinkHtml = 'Like what you see? Visit the ' +\n",
              "            '<a target=\"_blank\" href=https://colab.research.google.com/notebooks/data_table.ipynb>data table notebook</a>'\n",
              "            + ' to learn more about interactive tables.';\n",
              "          element.innerHTML = '';\n",
              "          dataTable['output_type'] = 'display_data';\n",
              "          await google.colab.output.renderOutput(dataTable, element);\n",
              "          const docLink = document.createElement('div');\n",
              "          docLink.innerHTML = docLinkHtml;\n",
              "          element.appendChild(docLink);\n",
              "        }\n",
              "      </script>\n",
              "    </div>\n",
              "  </div>\n",
              "  "
            ]
          },
          "metadata": {},
          "execution_count": 2
        }
      ]
    },
    {
      "cell_type": "code",
      "source": [
        "df.tail()"
      ],
      "metadata": {
        "colab": {
          "base_uri": "https://localhost:8080/",
          "height": 279
        },
        "id": "xOMllRod76P2",
        "outputId": "5b41900e-1dd3-479a-9ecc-8f2654340eb4"
      },
      "execution_count": 3,
      "outputs": [
        {
          "output_type": "execute_result",
          "data": {
            "text/plain": [
              "          ID      X1   X2   X3   X4    X5   X6   X7   X8   X9  ...      X15  \\\n",
              "29995  29996  220000  1.0  3.0  1.0  39.0  0.0  0.0  0.0  0.0  ...  88004.0   \n",
              "29996  29997  150000  1.0  3.0  2.0  43.0 -1.0 -1.0 -1.0 -1.0  ...   8979.0   \n",
              "29997  29998   30000  1.0  2.0  2.0  37.0  4.0  3.0  2.0 -1.0  ...  20878.0   \n",
              "29998  29999   80000  1.0  3.0  1.0  41.0  1.0 -1.0  0.0  0.0  ...  52774.0   \n",
              "29999  30000   50000  1.0  2.0  1.0  46.0  0.0  0.0  0.0  0.0  ...  36535.0   \n",
              "\n",
              "           X16      X17      X18      X19      X20     X21      X22     X23  \\\n",
              "29995  31237.0  15980.0   8500.0  20000.0   5003.0  3047.0   5000.0  1000.0   \n",
              "29996   5190.0      0.0   1837.0   3526.0   8998.0   129.0      0.0     0.0   \n",
              "29997  20582.0  19357.0      0.0      0.0  22000.0  4200.0   2000.0  3100.0   \n",
              "29998  11855.0  48944.0  85900.0   3409.0   1178.0  1926.0  52964.0  1804.0   \n",
              "29999  32428.0  15313.0   2078.0   1800.0   1430.0  1000.0   1000.0  1000.0   \n",
              "\n",
              "         Y  \n",
              "29995  0.0  \n",
              "29996  0.0  \n",
              "29997  1.0  \n",
              "29998  1.0  \n",
              "29999  1.0  \n",
              "\n",
              "[5 rows x 25 columns]"
            ],
            "text/html": [
              "\n",
              "  <div id=\"df-58fe6f0e-d636-46e1-856e-6ec03e9b2a60\">\n",
              "    <div class=\"colab-df-container\">\n",
              "      <div>\n",
              "<style scoped>\n",
              "    .dataframe tbody tr th:only-of-type {\n",
              "        vertical-align: middle;\n",
              "    }\n",
              "\n",
              "    .dataframe tbody tr th {\n",
              "        vertical-align: top;\n",
              "    }\n",
              "\n",
              "    .dataframe thead th {\n",
              "        text-align: right;\n",
              "    }\n",
              "</style>\n",
              "<table border=\"1\" class=\"dataframe\">\n",
              "  <thead>\n",
              "    <tr style=\"text-align: right;\">\n",
              "      <th></th>\n",
              "      <th>ID</th>\n",
              "      <th>X1</th>\n",
              "      <th>X2</th>\n",
              "      <th>X3</th>\n",
              "      <th>X4</th>\n",
              "      <th>X5</th>\n",
              "      <th>X6</th>\n",
              "      <th>X7</th>\n",
              "      <th>X8</th>\n",
              "      <th>X9</th>\n",
              "      <th>...</th>\n",
              "      <th>X15</th>\n",
              "      <th>X16</th>\n",
              "      <th>X17</th>\n",
              "      <th>X18</th>\n",
              "      <th>X19</th>\n",
              "      <th>X20</th>\n",
              "      <th>X21</th>\n",
              "      <th>X22</th>\n",
              "      <th>X23</th>\n",
              "      <th>Y</th>\n",
              "    </tr>\n",
              "  </thead>\n",
              "  <tbody>\n",
              "    <tr>\n",
              "      <th>29995</th>\n",
              "      <td>29996</td>\n",
              "      <td>220000</td>\n",
              "      <td>1.0</td>\n",
              "      <td>3.0</td>\n",
              "      <td>1.0</td>\n",
              "      <td>39.0</td>\n",
              "      <td>0.0</td>\n",
              "      <td>0.0</td>\n",
              "      <td>0.0</td>\n",
              "      <td>0.0</td>\n",
              "      <td>...</td>\n",
              "      <td>88004.0</td>\n",
              "      <td>31237.0</td>\n",
              "      <td>15980.0</td>\n",
              "      <td>8500.0</td>\n",
              "      <td>20000.0</td>\n",
              "      <td>5003.0</td>\n",
              "      <td>3047.0</td>\n",
              "      <td>5000.0</td>\n",
              "      <td>1000.0</td>\n",
              "      <td>0.0</td>\n",
              "    </tr>\n",
              "    <tr>\n",
              "      <th>29996</th>\n",
              "      <td>29997</td>\n",
              "      <td>150000</td>\n",
              "      <td>1.0</td>\n",
              "      <td>3.0</td>\n",
              "      <td>2.0</td>\n",
              "      <td>43.0</td>\n",
              "      <td>-1.0</td>\n",
              "      <td>-1.0</td>\n",
              "      <td>-1.0</td>\n",
              "      <td>-1.0</td>\n",
              "      <td>...</td>\n",
              "      <td>8979.0</td>\n",
              "      <td>5190.0</td>\n",
              "      <td>0.0</td>\n",
              "      <td>1837.0</td>\n",
              "      <td>3526.0</td>\n",
              "      <td>8998.0</td>\n",
              "      <td>129.0</td>\n",
              "      <td>0.0</td>\n",
              "      <td>0.0</td>\n",
              "      <td>0.0</td>\n",
              "    </tr>\n",
              "    <tr>\n",
              "      <th>29997</th>\n",
              "      <td>29998</td>\n",
              "      <td>30000</td>\n",
              "      <td>1.0</td>\n",
              "      <td>2.0</td>\n",
              "      <td>2.0</td>\n",
              "      <td>37.0</td>\n",
              "      <td>4.0</td>\n",
              "      <td>3.0</td>\n",
              "      <td>2.0</td>\n",
              "      <td>-1.0</td>\n",
              "      <td>...</td>\n",
              "      <td>20878.0</td>\n",
              "      <td>20582.0</td>\n",
              "      <td>19357.0</td>\n",
              "      <td>0.0</td>\n",
              "      <td>0.0</td>\n",
              "      <td>22000.0</td>\n",
              "      <td>4200.0</td>\n",
              "      <td>2000.0</td>\n",
              "      <td>3100.0</td>\n",
              "      <td>1.0</td>\n",
              "    </tr>\n",
              "    <tr>\n",
              "      <th>29998</th>\n",
              "      <td>29999</td>\n",
              "      <td>80000</td>\n",
              "      <td>1.0</td>\n",
              "      <td>3.0</td>\n",
              "      <td>1.0</td>\n",
              "      <td>41.0</td>\n",
              "      <td>1.0</td>\n",
              "      <td>-1.0</td>\n",
              "      <td>0.0</td>\n",
              "      <td>0.0</td>\n",
              "      <td>...</td>\n",
              "      <td>52774.0</td>\n",
              "      <td>11855.0</td>\n",
              "      <td>48944.0</td>\n",
              "      <td>85900.0</td>\n",
              "      <td>3409.0</td>\n",
              "      <td>1178.0</td>\n",
              "      <td>1926.0</td>\n",
              "      <td>52964.0</td>\n",
              "      <td>1804.0</td>\n",
              "      <td>1.0</td>\n",
              "    </tr>\n",
              "    <tr>\n",
              "      <th>29999</th>\n",
              "      <td>30000</td>\n",
              "      <td>50000</td>\n",
              "      <td>1.0</td>\n",
              "      <td>2.0</td>\n",
              "      <td>1.0</td>\n",
              "      <td>46.0</td>\n",
              "      <td>0.0</td>\n",
              "      <td>0.0</td>\n",
              "      <td>0.0</td>\n",
              "      <td>0.0</td>\n",
              "      <td>...</td>\n",
              "      <td>36535.0</td>\n",
              "      <td>32428.0</td>\n",
              "      <td>15313.0</td>\n",
              "      <td>2078.0</td>\n",
              "      <td>1800.0</td>\n",
              "      <td>1430.0</td>\n",
              "      <td>1000.0</td>\n",
              "      <td>1000.0</td>\n",
              "      <td>1000.0</td>\n",
              "      <td>1.0</td>\n",
              "    </tr>\n",
              "  </tbody>\n",
              "</table>\n",
              "<p>5 rows × 25 columns</p>\n",
              "</div>\n",
              "      <button class=\"colab-df-convert\" onclick=\"convertToInteractive('df-58fe6f0e-d636-46e1-856e-6ec03e9b2a60')\"\n",
              "              title=\"Convert this dataframe to an interactive table.\"\n",
              "              style=\"display:none;\">\n",
              "        \n",
              "  <svg xmlns=\"http://www.w3.org/2000/svg\" height=\"24px\"viewBox=\"0 0 24 24\"\n",
              "       width=\"24px\">\n",
              "    <path d=\"M0 0h24v24H0V0z\" fill=\"none\"/>\n",
              "    <path d=\"M18.56 5.44l.94 2.06.94-2.06 2.06-.94-2.06-.94-.94-2.06-.94 2.06-2.06.94zm-11 1L8.5 8.5l.94-2.06 2.06-.94-2.06-.94L8.5 2.5l-.94 2.06-2.06.94zm10 10l.94 2.06.94-2.06 2.06-.94-2.06-.94-.94-2.06-.94 2.06-2.06.94z\"/><path d=\"M17.41 7.96l-1.37-1.37c-.4-.4-.92-.59-1.43-.59-.52 0-1.04.2-1.43.59L10.3 9.45l-7.72 7.72c-.78.78-.78 2.05 0 2.83L4 21.41c.39.39.9.59 1.41.59.51 0 1.02-.2 1.41-.59l7.78-7.78 2.81-2.81c.8-.78.8-2.07 0-2.86zM5.41 20L4 18.59l7.72-7.72 1.47 1.35L5.41 20z\"/>\n",
              "  </svg>\n",
              "      </button>\n",
              "      \n",
              "  <style>\n",
              "    .colab-df-container {\n",
              "      display:flex;\n",
              "      flex-wrap:wrap;\n",
              "      gap: 12px;\n",
              "    }\n",
              "\n",
              "    .colab-df-convert {\n",
              "      background-color: #E8F0FE;\n",
              "      border: none;\n",
              "      border-radius: 50%;\n",
              "      cursor: pointer;\n",
              "      display: none;\n",
              "      fill: #1967D2;\n",
              "      height: 32px;\n",
              "      padding: 0 0 0 0;\n",
              "      width: 32px;\n",
              "    }\n",
              "\n",
              "    .colab-df-convert:hover {\n",
              "      background-color: #E2EBFA;\n",
              "      box-shadow: 0px 1px 2px rgba(60, 64, 67, 0.3), 0px 1px 3px 1px rgba(60, 64, 67, 0.15);\n",
              "      fill: #174EA6;\n",
              "    }\n",
              "\n",
              "    [theme=dark] .colab-df-convert {\n",
              "      background-color: #3B4455;\n",
              "      fill: #D2E3FC;\n",
              "    }\n",
              "\n",
              "    [theme=dark] .colab-df-convert:hover {\n",
              "      background-color: #434B5C;\n",
              "      box-shadow: 0px 1px 3px 1px rgba(0, 0, 0, 0.15);\n",
              "      filter: drop-shadow(0px 1px 2px rgba(0, 0, 0, 0.3));\n",
              "      fill: #FFFFFF;\n",
              "    }\n",
              "  </style>\n",
              "\n",
              "      <script>\n",
              "        const buttonEl =\n",
              "          document.querySelector('#df-58fe6f0e-d636-46e1-856e-6ec03e9b2a60 button.colab-df-convert');\n",
              "        buttonEl.style.display =\n",
              "          google.colab.kernel.accessAllowed ? 'block' : 'none';\n",
              "\n",
              "        async function convertToInteractive(key) {\n",
              "          const element = document.querySelector('#df-58fe6f0e-d636-46e1-856e-6ec03e9b2a60');\n",
              "          const dataTable =\n",
              "            await google.colab.kernel.invokeFunction('convertToInteractive',\n",
              "                                                     [key], {});\n",
              "          if (!dataTable) return;\n",
              "\n",
              "          const docLinkHtml = 'Like what you see? Visit the ' +\n",
              "            '<a target=\"_blank\" href=https://colab.research.google.com/notebooks/data_table.ipynb>data table notebook</a>'\n",
              "            + ' to learn more about interactive tables.';\n",
              "          element.innerHTML = '';\n",
              "          dataTable['output_type'] = 'display_data';\n",
              "          await google.colab.output.renderOutput(dataTable, element);\n",
              "          const docLink = document.createElement('div');\n",
              "          docLink.innerHTML = docLinkHtml;\n",
              "          element.appendChild(docLink);\n",
              "        }\n",
              "      </script>\n",
              "    </div>\n",
              "  </div>\n",
              "  "
            ]
          },
          "metadata": {},
          "execution_count": 3
        }
      ]
    },
    {
      "cell_type": "markdown",
      "source": [
        "Como primera observación, notamos que los nombres de las columnas utilizan valores predeterminados de X1 a X23, por lo que es importante asignarles un nombre para entender las variables que estamos trabjando."
      ],
      "metadata": {
        "id": "Bt1lXaiSLzsi"
      }
    },
    {
      "cell_type": "markdown",
      "source": [
        "## Dar nombre a las columnas\n",
        "\n",
        "Información de los atributos:\n",
        "\n",
        "This research employed a binary variable, default payment (Yes = 1, No = 0), as the response variable. This study reviewed the literature and used the following 23 variables as explanatory variables: \n",
        "\n",
        "1. X1: Amount of the given credit (NT dollar): it includes both the individual consumer credit and his/her family (supplementary) credit. \n",
        "2. X2: Gender (1 = male; 2 = female). \n",
        "3. X3: Education (1 = graduate school; 2 = university; 3 = high school; 4 = others). \n",
        "4. X4: Marital status (1 = married; 2 = single; 3 = others). \n",
        "5. X5: Age (year). \n",
        "6. X6 - X11: History of past payment. We tracked the past monthly payment records (from April to September, 2005) as follows: X6 = the repayment status in September, 2005; X7 = the repayment status in August, 2005; . . .;X11 = the repayment status in April, 2005. The measurement scale for the repayment status is: -1 = pay duly; 1 = payment delay for one month; 2 = payment delay for two months; . . .; 8 = payment delay for eight months; 9 = payment delay for nine months and above. \n",
        "7. X12-X17: Amount of bill statement (NT dollar). X12 = amount of bill statement in September, 2005; X13 = amount of bill statement in August, 2005; . . .; X17 = amount of bill statement in April, 2005. \n",
        "8. X18-X23: Amount of previous payment (NT dollar). X18 = amount paid in September, 2005; X19 = amount paid in August, 2005; . . .;X23 = amount paid in April, 2005."
      ],
      "metadata": {
        "id": "i9gZGJ7cMHzI"
      }
    },
    {
      "cell_type": "markdown",
      "source": [
        "Reemplazamos los nombres de columna por:\n",
        "\n",
        "* x1 = amount_credit\n",
        "* x2 = gender\n",
        "* x3 = education\n",
        "* x4 = marital_status\n",
        "* x5 = age\n",
        "* x6-x11 = hry_sep, hry_aug, hry_jul, hry_jun, hry_may and hry_apl\n",
        "* x12-x17 = amt_sep, amt_aug, amt_jul, amt_jun, amt_may and amt_apl\n",
        "* x18-x23 = paid_sep, paid_aug, paid_jul, paid_jun, paid_may and paid_apl"
      ],
      "metadata": {
        "id": "suj5QkMzMpHq"
      }
    },
    {
      "cell_type": "code",
      "source": [
        "df.columns = ['ID','amount_credit','gender','education','marital_status','age',\n",
        "              'hry_sep', 'hry_aug', 'hry_jul', 'hry_jun', 'hry_may', 'hry_apl',\n",
        "              'amt_sep', 'amt_aug', 'amt_jul', 'amt_jun', 'amt_may', 'amt_apl',\n",
        "               'paid_sep', 'paid_aug', 'paid_jul', 'paid_jun', 'paid_may', 'paid_apl','Y']\n",
        "#Mostramos el Datafame con las nuevas columnas\n",
        "df.head()"
      ],
      "metadata": {
        "colab": {
          "base_uri": "https://localhost:8080/",
          "height": 299
        },
        "id": "f6YR9BjSne6k",
        "outputId": "168b06b4-cbe0-479e-d7da-0679ff854414"
      },
      "execution_count": 4,
      "outputs": [
        {
          "output_type": "execute_result",
          "data": {
            "text/plain": [
              "   ID  amount_credit  gender  education  marital_status   age  hry_sep  \\\n",
              "0   1          20000     2.0        2.0             1.0  24.0      2.0   \n",
              "1   2         120000     2.0        2.0             2.0  26.0     -1.0   \n",
              "2   3          90000     2.0        2.0             2.0  34.0      0.0   \n",
              "3   4          50000     2.0        2.0             1.0  37.0      0.0   \n",
              "4   5          50000     1.0        2.0             1.0  57.0     -1.0   \n",
              "\n",
              "   hry_aug  hry_jul  hry_jun  ...  amt_jun  amt_may  amt_apl  paid_sep  \\\n",
              "0      2.0     -1.0     -1.0  ...      0.0      0.0      0.0       0.0   \n",
              "1      2.0      0.0      0.0  ...   3272.0   3455.0   3261.0       0.0   \n",
              "2      0.0      0.0      0.0  ...  14331.0  14948.0  15549.0    1518.0   \n",
              "3      0.0      0.0      0.0  ...  28314.0  28959.0  29547.0    2000.0   \n",
              "4      0.0     -1.0      0.0  ...  20940.0  19146.0  19131.0    2000.0   \n",
              "\n",
              "   paid_aug  paid_jul  paid_jun  paid_may  paid_apl    Y  \n",
              "0     689.0       0.0       0.0       0.0       0.0  1.0  \n",
              "1    1000.0    1000.0    1000.0       0.0    2000.0  1.0  \n",
              "2    1500.0    1000.0    1000.0    1000.0    5000.0  0.0  \n",
              "3    2019.0    1200.0    1100.0    1069.0    1000.0  0.0  \n",
              "4   36681.0   10000.0    9000.0     689.0     679.0  0.0  \n",
              "\n",
              "[5 rows x 25 columns]"
            ],
            "text/html": [
              "\n",
              "  <div id=\"df-fa179867-9103-4dfe-9d2e-2f96fdf0ed84\">\n",
              "    <div class=\"colab-df-container\">\n",
              "      <div>\n",
              "<style scoped>\n",
              "    .dataframe tbody tr th:only-of-type {\n",
              "        vertical-align: middle;\n",
              "    }\n",
              "\n",
              "    .dataframe tbody tr th {\n",
              "        vertical-align: top;\n",
              "    }\n",
              "\n",
              "    .dataframe thead th {\n",
              "        text-align: right;\n",
              "    }\n",
              "</style>\n",
              "<table border=\"1\" class=\"dataframe\">\n",
              "  <thead>\n",
              "    <tr style=\"text-align: right;\">\n",
              "      <th></th>\n",
              "      <th>ID</th>\n",
              "      <th>amount_credit</th>\n",
              "      <th>gender</th>\n",
              "      <th>education</th>\n",
              "      <th>marital_status</th>\n",
              "      <th>age</th>\n",
              "      <th>hry_sep</th>\n",
              "      <th>hry_aug</th>\n",
              "      <th>hry_jul</th>\n",
              "      <th>hry_jun</th>\n",
              "      <th>...</th>\n",
              "      <th>amt_jun</th>\n",
              "      <th>amt_may</th>\n",
              "      <th>amt_apl</th>\n",
              "      <th>paid_sep</th>\n",
              "      <th>paid_aug</th>\n",
              "      <th>paid_jul</th>\n",
              "      <th>paid_jun</th>\n",
              "      <th>paid_may</th>\n",
              "      <th>paid_apl</th>\n",
              "      <th>Y</th>\n",
              "    </tr>\n",
              "  </thead>\n",
              "  <tbody>\n",
              "    <tr>\n",
              "      <th>0</th>\n",
              "      <td>1</td>\n",
              "      <td>20000</td>\n",
              "      <td>2.0</td>\n",
              "      <td>2.0</td>\n",
              "      <td>1.0</td>\n",
              "      <td>24.0</td>\n",
              "      <td>2.0</td>\n",
              "      <td>2.0</td>\n",
              "      <td>-1.0</td>\n",
              "      <td>-1.0</td>\n",
              "      <td>...</td>\n",
              "      <td>0.0</td>\n",
              "      <td>0.0</td>\n",
              "      <td>0.0</td>\n",
              "      <td>0.0</td>\n",
              "      <td>689.0</td>\n",
              "      <td>0.0</td>\n",
              "      <td>0.0</td>\n",
              "      <td>0.0</td>\n",
              "      <td>0.0</td>\n",
              "      <td>1.0</td>\n",
              "    </tr>\n",
              "    <tr>\n",
              "      <th>1</th>\n",
              "      <td>2</td>\n",
              "      <td>120000</td>\n",
              "      <td>2.0</td>\n",
              "      <td>2.0</td>\n",
              "      <td>2.0</td>\n",
              "      <td>26.0</td>\n",
              "      <td>-1.0</td>\n",
              "      <td>2.0</td>\n",
              "      <td>0.0</td>\n",
              "      <td>0.0</td>\n",
              "      <td>...</td>\n",
              "      <td>3272.0</td>\n",
              "      <td>3455.0</td>\n",
              "      <td>3261.0</td>\n",
              "      <td>0.0</td>\n",
              "      <td>1000.0</td>\n",
              "      <td>1000.0</td>\n",
              "      <td>1000.0</td>\n",
              "      <td>0.0</td>\n",
              "      <td>2000.0</td>\n",
              "      <td>1.0</td>\n",
              "    </tr>\n",
              "    <tr>\n",
              "      <th>2</th>\n",
              "      <td>3</td>\n",
              "      <td>90000</td>\n",
              "      <td>2.0</td>\n",
              "      <td>2.0</td>\n",
              "      <td>2.0</td>\n",
              "      <td>34.0</td>\n",
              "      <td>0.0</td>\n",
              "      <td>0.0</td>\n",
              "      <td>0.0</td>\n",
              "      <td>0.0</td>\n",
              "      <td>...</td>\n",
              "      <td>14331.0</td>\n",
              "      <td>14948.0</td>\n",
              "      <td>15549.0</td>\n",
              "      <td>1518.0</td>\n",
              "      <td>1500.0</td>\n",
              "      <td>1000.0</td>\n",
              "      <td>1000.0</td>\n",
              "      <td>1000.0</td>\n",
              "      <td>5000.0</td>\n",
              "      <td>0.0</td>\n",
              "    </tr>\n",
              "    <tr>\n",
              "      <th>3</th>\n",
              "      <td>4</td>\n",
              "      <td>50000</td>\n",
              "      <td>2.0</td>\n",
              "      <td>2.0</td>\n",
              "      <td>1.0</td>\n",
              "      <td>37.0</td>\n",
              "      <td>0.0</td>\n",
              "      <td>0.0</td>\n",
              "      <td>0.0</td>\n",
              "      <td>0.0</td>\n",
              "      <td>...</td>\n",
              "      <td>28314.0</td>\n",
              "      <td>28959.0</td>\n",
              "      <td>29547.0</td>\n",
              "      <td>2000.0</td>\n",
              "      <td>2019.0</td>\n",
              "      <td>1200.0</td>\n",
              "      <td>1100.0</td>\n",
              "      <td>1069.0</td>\n",
              "      <td>1000.0</td>\n",
              "      <td>0.0</td>\n",
              "    </tr>\n",
              "    <tr>\n",
              "      <th>4</th>\n",
              "      <td>5</td>\n",
              "      <td>50000</td>\n",
              "      <td>1.0</td>\n",
              "      <td>2.0</td>\n",
              "      <td>1.0</td>\n",
              "      <td>57.0</td>\n",
              "      <td>-1.0</td>\n",
              "      <td>0.0</td>\n",
              "      <td>-1.0</td>\n",
              "      <td>0.0</td>\n",
              "      <td>...</td>\n",
              "      <td>20940.0</td>\n",
              "      <td>19146.0</td>\n",
              "      <td>19131.0</td>\n",
              "      <td>2000.0</td>\n",
              "      <td>36681.0</td>\n",
              "      <td>10000.0</td>\n",
              "      <td>9000.0</td>\n",
              "      <td>689.0</td>\n",
              "      <td>679.0</td>\n",
              "      <td>0.0</td>\n",
              "    </tr>\n",
              "  </tbody>\n",
              "</table>\n",
              "<p>5 rows × 25 columns</p>\n",
              "</div>\n",
              "      <button class=\"colab-df-convert\" onclick=\"convertToInteractive('df-fa179867-9103-4dfe-9d2e-2f96fdf0ed84')\"\n",
              "              title=\"Convert this dataframe to an interactive table.\"\n",
              "              style=\"display:none;\">\n",
              "        \n",
              "  <svg xmlns=\"http://www.w3.org/2000/svg\" height=\"24px\"viewBox=\"0 0 24 24\"\n",
              "       width=\"24px\">\n",
              "    <path d=\"M0 0h24v24H0V0z\" fill=\"none\"/>\n",
              "    <path d=\"M18.56 5.44l.94 2.06.94-2.06 2.06-.94-2.06-.94-.94-2.06-.94 2.06-2.06.94zm-11 1L8.5 8.5l.94-2.06 2.06-.94-2.06-.94L8.5 2.5l-.94 2.06-2.06.94zm10 10l.94 2.06.94-2.06 2.06-.94-2.06-.94-.94-2.06-.94 2.06-2.06.94z\"/><path d=\"M17.41 7.96l-1.37-1.37c-.4-.4-.92-.59-1.43-.59-.52 0-1.04.2-1.43.59L10.3 9.45l-7.72 7.72c-.78.78-.78 2.05 0 2.83L4 21.41c.39.39.9.59 1.41.59.51 0 1.02-.2 1.41-.59l7.78-7.78 2.81-2.81c.8-.78.8-2.07 0-2.86zM5.41 20L4 18.59l7.72-7.72 1.47 1.35L5.41 20z\"/>\n",
              "  </svg>\n",
              "      </button>\n",
              "      \n",
              "  <style>\n",
              "    .colab-df-container {\n",
              "      display:flex;\n",
              "      flex-wrap:wrap;\n",
              "      gap: 12px;\n",
              "    }\n",
              "\n",
              "    .colab-df-convert {\n",
              "      background-color: #E8F0FE;\n",
              "      border: none;\n",
              "      border-radius: 50%;\n",
              "      cursor: pointer;\n",
              "      display: none;\n",
              "      fill: #1967D2;\n",
              "      height: 32px;\n",
              "      padding: 0 0 0 0;\n",
              "      width: 32px;\n",
              "    }\n",
              "\n",
              "    .colab-df-convert:hover {\n",
              "      background-color: #E2EBFA;\n",
              "      box-shadow: 0px 1px 2px rgba(60, 64, 67, 0.3), 0px 1px 3px 1px rgba(60, 64, 67, 0.15);\n",
              "      fill: #174EA6;\n",
              "    }\n",
              "\n",
              "    [theme=dark] .colab-df-convert {\n",
              "      background-color: #3B4455;\n",
              "      fill: #D2E3FC;\n",
              "    }\n",
              "\n",
              "    [theme=dark] .colab-df-convert:hover {\n",
              "      background-color: #434B5C;\n",
              "      box-shadow: 0px 1px 3px 1px rgba(0, 0, 0, 0.15);\n",
              "      filter: drop-shadow(0px 1px 2px rgba(0, 0, 0, 0.3));\n",
              "      fill: #FFFFFF;\n",
              "    }\n",
              "  </style>\n",
              "\n",
              "      <script>\n",
              "        const buttonEl =\n",
              "          document.querySelector('#df-fa179867-9103-4dfe-9d2e-2f96fdf0ed84 button.colab-df-convert');\n",
              "        buttonEl.style.display =\n",
              "          google.colab.kernel.accessAllowed ? 'block' : 'none';\n",
              "\n",
              "        async function convertToInteractive(key) {\n",
              "          const element = document.querySelector('#df-fa179867-9103-4dfe-9d2e-2f96fdf0ed84');\n",
              "          const dataTable =\n",
              "            await google.colab.kernel.invokeFunction('convertToInteractive',\n",
              "                                                     [key], {});\n",
              "          if (!dataTable) return;\n",
              "\n",
              "          const docLinkHtml = 'Like what you see? Visit the ' +\n",
              "            '<a target=\"_blank\" href=https://colab.research.google.com/notebooks/data_table.ipynb>data table notebook</a>'\n",
              "            + ' to learn more about interactive tables.';\n",
              "          element.innerHTML = '';\n",
              "          dataTable['output_type'] = 'display_data';\n",
              "          await google.colab.output.renderOutput(dataTable, element);\n",
              "          const docLink = document.createElement('div');\n",
              "          docLink.innerHTML = docLinkHtml;\n",
              "          element.appendChild(docLink);\n",
              "        }\n",
              "      </script>\n",
              "    </div>\n",
              "  </div>\n",
              "  "
            ]
          },
          "metadata": {},
          "execution_count": 4
        }
      ]
    },
    {
      "cell_type": "markdown",
      "source": [
        "## Valores nulos"
      ],
      "metadata": {
        "id": "I-VHTimvWC67"
      }
    },
    {
      "cell_type": "markdown",
      "source": [
        "Se debe de identificar el volúmen de valores nulos que se tiene el dataset para escoger una estrategia ya sea de eliminación o imputación de valores."
      ],
      "metadata": {
        "id": "5dZfGjiKWMs7"
      }
    },
    {
      "cell_type": "code",
      "source": [
        "df.isna().sum().sort_values(ascending = False)"
      ],
      "metadata": {
        "colab": {
          "base_uri": "https://localhost:8080/"
        },
        "id": "ohVdm-MNQoJb",
        "outputId": "35f2780d-b55c-42b3-c3d6-845f90893d6e"
      },
      "execution_count": 5,
      "outputs": [
        {
          "output_type": "execute_result",
          "data": {
            "text/plain": [
              "amt_may           17\n",
              "hry_may           16\n",
              "amt_jun           15\n",
              "hry_apl           14\n",
              "amt_jul           13\n",
              "amt_sep           11\n",
              "paid_may          11\n",
              "paid_jun          11\n",
              "amt_aug           11\n",
              "amt_apl           10\n",
              "paid_aug           9\n",
              "hry_jun            9\n",
              "paid_sep           8\n",
              "paid_jul           8\n",
              "hry_jul            7\n",
              "hry_aug            5\n",
              "age                5\n",
              "paid_apl           5\n",
              "Y                  3\n",
              "hry_sep            3\n",
              "marital_status     2\n",
              "education          2\n",
              "gender             1\n",
              "amount_credit      0\n",
              "ID                 0\n",
              "dtype: int64"
            ]
          },
          "metadata": {},
          "execution_count": 5
        }
      ]
    },
    {
      "cell_type": "code",
      "source": [
        "#Total de registros vs registros nulos \n",
        "print('El total de registros es de: ' + str(df.shape[0]) +\n",
        "      '\\nEl total de valores nulos es de: ' + str(df.isna().sum().sum()))\n",
        "#Porcentaje de registros nulos\n",
        "print('Los valores nulos representan el ' + str(round(df.isna().sum().sum()/df.shape[0] * 100,2)) + '% del total de valores')"
      ],
      "metadata": {
        "colab": {
          "base_uri": "https://localhost:8080/"
        },
        "id": "smmDijXDWgZ7",
        "outputId": "e859fbf8-36a6-4b4e-e68b-0d69401661e7"
      },
      "execution_count": 6,
      "outputs": [
        {
          "output_type": "stream",
          "name": "stdout",
          "text": [
            "El total de registros es de: 30000\n",
            "El total de valores nulos es de: 196\n",
            "Los valores nulos representan el 0.65% del total de valores\n"
          ]
        }
      ]
    },
    {
      "cell_type": "markdown",
      "source": [
        "Debido a que los valores sólo representan el 0.65% del total de registros, es conveniente eliminar estos registros, ya que no afecta considerablemente el volumen de registros totales."
      ],
      "metadata": {
        "id": "UlJCUztXXZis"
      }
    },
    {
      "cell_type": "code",
      "source": [
        "df.dropna(inplace = True)\n",
        "print('Total de registros: ' + str(df.shape[0]))"
      ],
      "metadata": {
        "colab": {
          "base_uri": "https://localhost:8080/"
        },
        "id": "oZD4BN9SYjDM",
        "outputId": "e6baf6c2-f68d-45b2-9f16-9451984e3891"
      },
      "execution_count": 7,
      "outputs": [
        {
          "output_type": "stream",
          "name": "stdout",
          "text": [
            "Total de registros: 29958\n"
          ]
        }
      ]
    },
    {
      "cell_type": "code",
      "source": [
        "df.info()"
      ],
      "metadata": {
        "colab": {
          "base_uri": "https://localhost:8080/"
        },
        "id": "_WQgwA5_RMZC",
        "outputId": "ff651a61-b9ad-408a-bbf7-a42b3f4d43fe"
      },
      "execution_count": 8,
      "outputs": [
        {
          "output_type": "stream",
          "name": "stdout",
          "text": [
            "<class 'pandas.core.frame.DataFrame'>\n",
            "Int64Index: 29958 entries, 0 to 29999\n",
            "Data columns (total 25 columns):\n",
            " #   Column          Non-Null Count  Dtype  \n",
            "---  ------          --------------  -----  \n",
            " 0   ID              29958 non-null  int64  \n",
            " 1   amount_credit   29958 non-null  int64  \n",
            " 2   gender          29958 non-null  float64\n",
            " 3   education       29958 non-null  float64\n",
            " 4   marital_status  29958 non-null  float64\n",
            " 5   age             29958 non-null  float64\n",
            " 6   hry_sep         29958 non-null  float64\n",
            " 7   hry_aug         29958 non-null  float64\n",
            " 8   hry_jul         29958 non-null  float64\n",
            " 9   hry_jun         29958 non-null  float64\n",
            " 10  hry_may         29958 non-null  float64\n",
            " 11  hry_apl         29958 non-null  float64\n",
            " 12  amt_sep         29958 non-null  float64\n",
            " 13  amt_aug         29958 non-null  float64\n",
            " 14  amt_jul         29958 non-null  float64\n",
            " 15  amt_jun         29958 non-null  float64\n",
            " 16  amt_may         29958 non-null  float64\n",
            " 17  amt_apl         29958 non-null  float64\n",
            " 18  paid_sep        29958 non-null  float64\n",
            " 19  paid_aug        29958 non-null  float64\n",
            " 20  paid_jul        29958 non-null  float64\n",
            " 21  paid_jun        29958 non-null  float64\n",
            " 22  paid_may        29958 non-null  float64\n",
            " 23  paid_apl        29958 non-null  float64\n",
            " 24  Y               29958 non-null  float64\n",
            "dtypes: float64(23), int64(2)\n",
            "memory usage: 5.9 MB\n"
          ]
        }
      ]
    },
    {
      "cell_type": "code",
      "source": [
        "df.isna().any()"
      ],
      "metadata": {
        "colab": {
          "base_uri": "https://localhost:8080/"
        },
        "id": "GgCo1CVZRdAO",
        "outputId": "750a35d2-522d-4cca-e15d-520f2e264044"
      },
      "execution_count": 9,
      "outputs": [
        {
          "output_type": "execute_result",
          "data": {
            "text/plain": [
              "ID                False\n",
              "amount_credit     False\n",
              "gender            False\n",
              "education         False\n",
              "marital_status    False\n",
              "age               False\n",
              "hry_sep           False\n",
              "hry_aug           False\n",
              "hry_jul           False\n",
              "hry_jun           False\n",
              "hry_may           False\n",
              "hry_apl           False\n",
              "amt_sep           False\n",
              "amt_aug           False\n",
              "amt_jul           False\n",
              "amt_jun           False\n",
              "amt_may           False\n",
              "amt_apl           False\n",
              "paid_sep          False\n",
              "paid_aug          False\n",
              "paid_jul          False\n",
              "paid_jun          False\n",
              "paid_may          False\n",
              "paid_apl          False\n",
              "Y                 False\n",
              "dtype: bool"
            ]
          },
          "metadata": {},
          "execution_count": 9
        }
      ]
    },
    {
      "cell_type": "markdown",
      "source": [
        "Ahora nuestro total de registros nulos es de cero."
      ],
      "metadata": {
        "id": "AZeCiITfY9i0"
      }
    },
    {
      "cell_type": "markdown",
      "source": [
        "## Calidad de datos"
      ],
      "metadata": {
        "id": "hPDkdVZ9ZHQc"
      }
    },
    {
      "cell_type": "markdown",
      "source": [
        "En la calidad de datos evaluaremos si los datos se encuentran en los rangos descritos por el archivo de descripción del Dataset.\n",
        "\n",
        "[Descripción de datos](https://raw.githubusercontent.com/PosgradoMNA/Actividades_Aprendizaje-/main/dataset_info.txt)"
      ],
      "metadata": {
        "id": "GNzGH24UZKHa"
      }
    },
    {
      "cell_type": "markdown",
      "source": [
        "Debido a que únicamente tenemos variables numéricas (int y float), el método describe nos permite identificar datos importantes para saber si nuestro Dataset se encuentra normalizado."
      ],
      "metadata": {
        "id": "uFrT16ufZzM1"
      }
    },
    {
      "cell_type": "code",
      "source": [
        "#Observamos la distribución de los datos\n",
        "df.describe().T"
      ],
      "metadata": {
        "colab": {
          "base_uri": "https://localhost:8080/",
          "height": 833
        },
        "id": "5yAFhARWReF1",
        "outputId": "e974eebc-41ff-4dc8-983b-907aaffdb46f"
      },
      "execution_count": 10,
      "outputs": [
        {
          "output_type": "execute_result",
          "data": {
            "text/plain": [
              "                  count           mean            std       min       25%  \\\n",
              "ID              29958.0   15005.550504    8654.547473       1.0   7516.25   \n",
              "amount_credit   29958.0  167555.900928  129737.299088   10000.0  50000.00   \n",
              "gender          29958.0       1.604012       0.489070       1.0      1.00   \n",
              "education       29958.0       1.853094       0.790471       0.0      1.00   \n",
              "marital_status  29958.0       1.551739       0.521952       0.0      1.00   \n",
              "age             29958.0      35.483443       9.214319      21.0     28.00   \n",
              "hry_sep         29958.0      -0.017124       1.123989      -2.0     -1.00   \n",
              "hry_aug         29958.0      -0.134021       1.197171      -2.0     -1.00   \n",
              "hry_jul         29958.0      -0.166767       1.196026      -2.0     -1.00   \n",
              "hry_jun         29958.0      -0.221110       1.168419      -2.0     -1.00   \n",
              "hry_may         29958.0      -0.266807       1.132307      -2.0     -1.00   \n",
              "hry_apl         29958.0      -0.291575       1.149303      -2.0     -1.00   \n",
              "amt_sep         29958.0   51248.119901   73674.949943 -165580.0   3559.25   \n",
              "amt_aug         29958.0   49200.493825   71211.232744  -69777.0   2984.00   \n",
              "amt_jul         29958.0   47032.385273   69385.243340 -157264.0   2664.75   \n",
              "amt_jun         29958.0   43279.335370   64364.684347 -170000.0   2327.50   \n",
              "amt_may         29958.0   40328.984578   60826.219326  -81334.0   1762.25   \n",
              "amt_apl         29958.0   38889.925763   59582.883301 -339603.0   1256.00   \n",
              "paid_sep        29958.0    5664.614460   16568.823518       0.0   1000.00   \n",
              "paid_aug        29958.0    5925.715468   23055.983864       0.0    835.25   \n",
              "paid_jul        29958.0    5228.429969   17617.338167       0.0    390.00   \n",
              "paid_jun        29958.0    4829.873556   15676.205514       0.0    296.25   \n",
              "paid_may        29958.0    4801.481574   15285.552652       0.0    253.25   \n",
              "paid_apl        29958.0    5220.708025   17788.983767       0.0    118.00   \n",
              "Y               29958.0       0.221143       0.415023       0.0      0.00   \n",
              "\n",
              "                     50%        75%        max  \n",
              "ID               15005.5   22497.75    30000.0  \n",
              "amount_credit   140000.0  240000.00  1000000.0  \n",
              "gender               2.0       2.00        2.0  \n",
              "education            2.0       2.00        6.0  \n",
              "marital_status       2.0       2.00        3.0  \n",
              "age                 34.0      41.00       79.0  \n",
              "hry_sep              0.0       0.00        8.0  \n",
              "hry_aug              0.0       0.00        8.0  \n",
              "hry_jul              0.0       0.00        8.0  \n",
              "hry_jun              0.0       0.00        8.0  \n",
              "hry_may              0.0       0.00        8.0  \n",
              "hry_apl              0.0       0.00        8.0  \n",
              "amt_sep          22379.0   67190.00   964511.0  \n",
              "amt_aug          21194.5   64027.75   983931.0  \n",
              "amt_jul          20085.5   60183.00  1664089.0  \n",
              "amt_jun          19037.5   54551.25   891586.0  \n",
              "amt_may          18104.5   50220.75   927171.0  \n",
              "amt_apl          17067.5   49234.75   961664.0  \n",
              "paid_sep          2100.0    5007.00   873552.0  \n",
              "paid_aug          2009.0    5000.00  1684259.0  \n",
              "paid_jul          1800.0    4511.50   896040.0  \n",
              "paid_jun          1500.0    4014.75   621000.0  \n",
              "paid_may          1500.0    4040.00   426529.0  \n",
              "paid_apl          1500.0    4000.00   528666.0  \n",
              "Y                    0.0       0.00        1.0  "
            ],
            "text/html": [
              "\n",
              "  <div id=\"df-d28bce67-0d39-406f-9264-38cba90e63b0\">\n",
              "    <div class=\"colab-df-container\">\n",
              "      <div>\n",
              "<style scoped>\n",
              "    .dataframe tbody tr th:only-of-type {\n",
              "        vertical-align: middle;\n",
              "    }\n",
              "\n",
              "    .dataframe tbody tr th {\n",
              "        vertical-align: top;\n",
              "    }\n",
              "\n",
              "    .dataframe thead th {\n",
              "        text-align: right;\n",
              "    }\n",
              "</style>\n",
              "<table border=\"1\" class=\"dataframe\">\n",
              "  <thead>\n",
              "    <tr style=\"text-align: right;\">\n",
              "      <th></th>\n",
              "      <th>count</th>\n",
              "      <th>mean</th>\n",
              "      <th>std</th>\n",
              "      <th>min</th>\n",
              "      <th>25%</th>\n",
              "      <th>50%</th>\n",
              "      <th>75%</th>\n",
              "      <th>max</th>\n",
              "    </tr>\n",
              "  </thead>\n",
              "  <tbody>\n",
              "    <tr>\n",
              "      <th>ID</th>\n",
              "      <td>29958.0</td>\n",
              "      <td>15005.550504</td>\n",
              "      <td>8654.547473</td>\n",
              "      <td>1.0</td>\n",
              "      <td>7516.25</td>\n",
              "      <td>15005.5</td>\n",
              "      <td>22497.75</td>\n",
              "      <td>30000.0</td>\n",
              "    </tr>\n",
              "    <tr>\n",
              "      <th>amount_credit</th>\n",
              "      <td>29958.0</td>\n",
              "      <td>167555.900928</td>\n",
              "      <td>129737.299088</td>\n",
              "      <td>10000.0</td>\n",
              "      <td>50000.00</td>\n",
              "      <td>140000.0</td>\n",
              "      <td>240000.00</td>\n",
              "      <td>1000000.0</td>\n",
              "    </tr>\n",
              "    <tr>\n",
              "      <th>gender</th>\n",
              "      <td>29958.0</td>\n",
              "      <td>1.604012</td>\n",
              "      <td>0.489070</td>\n",
              "      <td>1.0</td>\n",
              "      <td>1.00</td>\n",
              "      <td>2.0</td>\n",
              "      <td>2.00</td>\n",
              "      <td>2.0</td>\n",
              "    </tr>\n",
              "    <tr>\n",
              "      <th>education</th>\n",
              "      <td>29958.0</td>\n",
              "      <td>1.853094</td>\n",
              "      <td>0.790471</td>\n",
              "      <td>0.0</td>\n",
              "      <td>1.00</td>\n",
              "      <td>2.0</td>\n",
              "      <td>2.00</td>\n",
              "      <td>6.0</td>\n",
              "    </tr>\n",
              "    <tr>\n",
              "      <th>marital_status</th>\n",
              "      <td>29958.0</td>\n",
              "      <td>1.551739</td>\n",
              "      <td>0.521952</td>\n",
              "      <td>0.0</td>\n",
              "      <td>1.00</td>\n",
              "      <td>2.0</td>\n",
              "      <td>2.00</td>\n",
              "      <td>3.0</td>\n",
              "    </tr>\n",
              "    <tr>\n",
              "      <th>age</th>\n",
              "      <td>29958.0</td>\n",
              "      <td>35.483443</td>\n",
              "      <td>9.214319</td>\n",
              "      <td>21.0</td>\n",
              "      <td>28.00</td>\n",
              "      <td>34.0</td>\n",
              "      <td>41.00</td>\n",
              "      <td>79.0</td>\n",
              "    </tr>\n",
              "    <tr>\n",
              "      <th>hry_sep</th>\n",
              "      <td>29958.0</td>\n",
              "      <td>-0.017124</td>\n",
              "      <td>1.123989</td>\n",
              "      <td>-2.0</td>\n",
              "      <td>-1.00</td>\n",
              "      <td>0.0</td>\n",
              "      <td>0.00</td>\n",
              "      <td>8.0</td>\n",
              "    </tr>\n",
              "    <tr>\n",
              "      <th>hry_aug</th>\n",
              "      <td>29958.0</td>\n",
              "      <td>-0.134021</td>\n",
              "      <td>1.197171</td>\n",
              "      <td>-2.0</td>\n",
              "      <td>-1.00</td>\n",
              "      <td>0.0</td>\n",
              "      <td>0.00</td>\n",
              "      <td>8.0</td>\n",
              "    </tr>\n",
              "    <tr>\n",
              "      <th>hry_jul</th>\n",
              "      <td>29958.0</td>\n",
              "      <td>-0.166767</td>\n",
              "      <td>1.196026</td>\n",
              "      <td>-2.0</td>\n",
              "      <td>-1.00</td>\n",
              "      <td>0.0</td>\n",
              "      <td>0.00</td>\n",
              "      <td>8.0</td>\n",
              "    </tr>\n",
              "    <tr>\n",
              "      <th>hry_jun</th>\n",
              "      <td>29958.0</td>\n",
              "      <td>-0.221110</td>\n",
              "      <td>1.168419</td>\n",
              "      <td>-2.0</td>\n",
              "      <td>-1.00</td>\n",
              "      <td>0.0</td>\n",
              "      <td>0.00</td>\n",
              "      <td>8.0</td>\n",
              "    </tr>\n",
              "    <tr>\n",
              "      <th>hry_may</th>\n",
              "      <td>29958.0</td>\n",
              "      <td>-0.266807</td>\n",
              "      <td>1.132307</td>\n",
              "      <td>-2.0</td>\n",
              "      <td>-1.00</td>\n",
              "      <td>0.0</td>\n",
              "      <td>0.00</td>\n",
              "      <td>8.0</td>\n",
              "    </tr>\n",
              "    <tr>\n",
              "      <th>hry_apl</th>\n",
              "      <td>29958.0</td>\n",
              "      <td>-0.291575</td>\n",
              "      <td>1.149303</td>\n",
              "      <td>-2.0</td>\n",
              "      <td>-1.00</td>\n",
              "      <td>0.0</td>\n",
              "      <td>0.00</td>\n",
              "      <td>8.0</td>\n",
              "    </tr>\n",
              "    <tr>\n",
              "      <th>amt_sep</th>\n",
              "      <td>29958.0</td>\n",
              "      <td>51248.119901</td>\n",
              "      <td>73674.949943</td>\n",
              "      <td>-165580.0</td>\n",
              "      <td>3559.25</td>\n",
              "      <td>22379.0</td>\n",
              "      <td>67190.00</td>\n",
              "      <td>964511.0</td>\n",
              "    </tr>\n",
              "    <tr>\n",
              "      <th>amt_aug</th>\n",
              "      <td>29958.0</td>\n",
              "      <td>49200.493825</td>\n",
              "      <td>71211.232744</td>\n",
              "      <td>-69777.0</td>\n",
              "      <td>2984.00</td>\n",
              "      <td>21194.5</td>\n",
              "      <td>64027.75</td>\n",
              "      <td>983931.0</td>\n",
              "    </tr>\n",
              "    <tr>\n",
              "      <th>amt_jul</th>\n",
              "      <td>29958.0</td>\n",
              "      <td>47032.385273</td>\n",
              "      <td>69385.243340</td>\n",
              "      <td>-157264.0</td>\n",
              "      <td>2664.75</td>\n",
              "      <td>20085.5</td>\n",
              "      <td>60183.00</td>\n",
              "      <td>1664089.0</td>\n",
              "    </tr>\n",
              "    <tr>\n",
              "      <th>amt_jun</th>\n",
              "      <td>29958.0</td>\n",
              "      <td>43279.335370</td>\n",
              "      <td>64364.684347</td>\n",
              "      <td>-170000.0</td>\n",
              "      <td>2327.50</td>\n",
              "      <td>19037.5</td>\n",
              "      <td>54551.25</td>\n",
              "      <td>891586.0</td>\n",
              "    </tr>\n",
              "    <tr>\n",
              "      <th>amt_may</th>\n",
              "      <td>29958.0</td>\n",
              "      <td>40328.984578</td>\n",
              "      <td>60826.219326</td>\n",
              "      <td>-81334.0</td>\n",
              "      <td>1762.25</td>\n",
              "      <td>18104.5</td>\n",
              "      <td>50220.75</td>\n",
              "      <td>927171.0</td>\n",
              "    </tr>\n",
              "    <tr>\n",
              "      <th>amt_apl</th>\n",
              "      <td>29958.0</td>\n",
              "      <td>38889.925763</td>\n",
              "      <td>59582.883301</td>\n",
              "      <td>-339603.0</td>\n",
              "      <td>1256.00</td>\n",
              "      <td>17067.5</td>\n",
              "      <td>49234.75</td>\n",
              "      <td>961664.0</td>\n",
              "    </tr>\n",
              "    <tr>\n",
              "      <th>paid_sep</th>\n",
              "      <td>29958.0</td>\n",
              "      <td>5664.614460</td>\n",
              "      <td>16568.823518</td>\n",
              "      <td>0.0</td>\n",
              "      <td>1000.00</td>\n",
              "      <td>2100.0</td>\n",
              "      <td>5007.00</td>\n",
              "      <td>873552.0</td>\n",
              "    </tr>\n",
              "    <tr>\n",
              "      <th>paid_aug</th>\n",
              "      <td>29958.0</td>\n",
              "      <td>5925.715468</td>\n",
              "      <td>23055.983864</td>\n",
              "      <td>0.0</td>\n",
              "      <td>835.25</td>\n",
              "      <td>2009.0</td>\n",
              "      <td>5000.00</td>\n",
              "      <td>1684259.0</td>\n",
              "    </tr>\n",
              "    <tr>\n",
              "      <th>paid_jul</th>\n",
              "      <td>29958.0</td>\n",
              "      <td>5228.429969</td>\n",
              "      <td>17617.338167</td>\n",
              "      <td>0.0</td>\n",
              "      <td>390.00</td>\n",
              "      <td>1800.0</td>\n",
              "      <td>4511.50</td>\n",
              "      <td>896040.0</td>\n",
              "    </tr>\n",
              "    <tr>\n",
              "      <th>paid_jun</th>\n",
              "      <td>29958.0</td>\n",
              "      <td>4829.873556</td>\n",
              "      <td>15676.205514</td>\n",
              "      <td>0.0</td>\n",
              "      <td>296.25</td>\n",
              "      <td>1500.0</td>\n",
              "      <td>4014.75</td>\n",
              "      <td>621000.0</td>\n",
              "    </tr>\n",
              "    <tr>\n",
              "      <th>paid_may</th>\n",
              "      <td>29958.0</td>\n",
              "      <td>4801.481574</td>\n",
              "      <td>15285.552652</td>\n",
              "      <td>0.0</td>\n",
              "      <td>253.25</td>\n",
              "      <td>1500.0</td>\n",
              "      <td>4040.00</td>\n",
              "      <td>426529.0</td>\n",
              "    </tr>\n",
              "    <tr>\n",
              "      <th>paid_apl</th>\n",
              "      <td>29958.0</td>\n",
              "      <td>5220.708025</td>\n",
              "      <td>17788.983767</td>\n",
              "      <td>0.0</td>\n",
              "      <td>118.00</td>\n",
              "      <td>1500.0</td>\n",
              "      <td>4000.00</td>\n",
              "      <td>528666.0</td>\n",
              "    </tr>\n",
              "    <tr>\n",
              "      <th>Y</th>\n",
              "      <td>29958.0</td>\n",
              "      <td>0.221143</td>\n",
              "      <td>0.415023</td>\n",
              "      <td>0.0</td>\n",
              "      <td>0.00</td>\n",
              "      <td>0.0</td>\n",
              "      <td>0.00</td>\n",
              "      <td>1.0</td>\n",
              "    </tr>\n",
              "  </tbody>\n",
              "</table>\n",
              "</div>\n",
              "      <button class=\"colab-df-convert\" onclick=\"convertToInteractive('df-d28bce67-0d39-406f-9264-38cba90e63b0')\"\n",
              "              title=\"Convert this dataframe to an interactive table.\"\n",
              "              style=\"display:none;\">\n",
              "        \n",
              "  <svg xmlns=\"http://www.w3.org/2000/svg\" height=\"24px\"viewBox=\"0 0 24 24\"\n",
              "       width=\"24px\">\n",
              "    <path d=\"M0 0h24v24H0V0z\" fill=\"none\"/>\n",
              "    <path d=\"M18.56 5.44l.94 2.06.94-2.06 2.06-.94-2.06-.94-.94-2.06-.94 2.06-2.06.94zm-11 1L8.5 8.5l.94-2.06 2.06-.94-2.06-.94L8.5 2.5l-.94 2.06-2.06.94zm10 10l.94 2.06.94-2.06 2.06-.94-2.06-.94-.94-2.06-.94 2.06-2.06.94z\"/><path d=\"M17.41 7.96l-1.37-1.37c-.4-.4-.92-.59-1.43-.59-.52 0-1.04.2-1.43.59L10.3 9.45l-7.72 7.72c-.78.78-.78 2.05 0 2.83L4 21.41c.39.39.9.59 1.41.59.51 0 1.02-.2 1.41-.59l7.78-7.78 2.81-2.81c.8-.78.8-2.07 0-2.86zM5.41 20L4 18.59l7.72-7.72 1.47 1.35L5.41 20z\"/>\n",
              "  </svg>\n",
              "      </button>\n",
              "      \n",
              "  <style>\n",
              "    .colab-df-container {\n",
              "      display:flex;\n",
              "      flex-wrap:wrap;\n",
              "      gap: 12px;\n",
              "    }\n",
              "\n",
              "    .colab-df-convert {\n",
              "      background-color: #E8F0FE;\n",
              "      border: none;\n",
              "      border-radius: 50%;\n",
              "      cursor: pointer;\n",
              "      display: none;\n",
              "      fill: #1967D2;\n",
              "      height: 32px;\n",
              "      padding: 0 0 0 0;\n",
              "      width: 32px;\n",
              "    }\n",
              "\n",
              "    .colab-df-convert:hover {\n",
              "      background-color: #E2EBFA;\n",
              "      box-shadow: 0px 1px 2px rgba(60, 64, 67, 0.3), 0px 1px 3px 1px rgba(60, 64, 67, 0.15);\n",
              "      fill: #174EA6;\n",
              "    }\n",
              "\n",
              "    [theme=dark] .colab-df-convert {\n",
              "      background-color: #3B4455;\n",
              "      fill: #D2E3FC;\n",
              "    }\n",
              "\n",
              "    [theme=dark] .colab-df-convert:hover {\n",
              "      background-color: #434B5C;\n",
              "      box-shadow: 0px 1px 3px 1px rgba(0, 0, 0, 0.15);\n",
              "      filter: drop-shadow(0px 1px 2px rgba(0, 0, 0, 0.3));\n",
              "      fill: #FFFFFF;\n",
              "    }\n",
              "  </style>\n",
              "\n",
              "      <script>\n",
              "        const buttonEl =\n",
              "          document.querySelector('#df-d28bce67-0d39-406f-9264-38cba90e63b0 button.colab-df-convert');\n",
              "        buttonEl.style.display =\n",
              "          google.colab.kernel.accessAllowed ? 'block' : 'none';\n",
              "\n",
              "        async function convertToInteractive(key) {\n",
              "          const element = document.querySelector('#df-d28bce67-0d39-406f-9264-38cba90e63b0');\n",
              "          const dataTable =\n",
              "            await google.colab.kernel.invokeFunction('convertToInteractive',\n",
              "                                                     [key], {});\n",
              "          if (!dataTable) return;\n",
              "\n",
              "          const docLinkHtml = 'Like what you see? Visit the ' +\n",
              "            '<a target=\"_blank\" href=https://colab.research.google.com/notebooks/data_table.ipynb>data table notebook</a>'\n",
              "            + ' to learn more about interactive tables.';\n",
              "          element.innerHTML = '';\n",
              "          dataTable['output_type'] = 'display_data';\n",
              "          await google.colab.output.renderOutput(dataTable, element);\n",
              "          const docLink = document.createElement('div');\n",
              "          docLink.innerHTML = docLinkHtml;\n",
              "          element.appendChild(docLink);\n",
              "        }\n",
              "      </script>\n",
              "    </div>\n",
              "  </div>\n",
              "  "
            ]
          },
          "metadata": {},
          "execution_count": 10
        }
      ]
    },
    {
      "cell_type": "markdown",
      "source": [
        "**education** debería tener valores entre el 1-4  (1 = graduate school; 2 = university; 3 = high school; 4 = others) -> Por lo que debemos de sustituir los valores que se encuentren fuera de los rangos.\n",
        "\n",
        "**marital_status** no debería tener valores en 0 --> Imputar valores.\n",
        "\n",
        "Identificar si los valores de las variables **hry y amt** pueden ser menores a cero."
      ],
      "metadata": {
        "id": "mURfSObzpU81"
      }
    },
    {
      "cell_type": "markdown",
      "source": [
        "### Imputar valores en education"
      ],
      "metadata": {
        "id": "W-MMsNY3fns1"
      }
    },
    {
      "cell_type": "code",
      "source": [
        "df['education'].unique()"
      ],
      "metadata": {
        "colab": {
          "base_uri": "https://localhost:8080/"
        },
        "id": "-J-S-HcGgszi",
        "outputId": "3feaabad-03f1-4afb-fea9-8a73f720ebf9"
      },
      "execution_count": 11,
      "outputs": [
        {
          "output_type": "execute_result",
          "data": {
            "text/plain": [
              "array([2., 1., 3., 5., 4., 6., 0.])"
            ]
          },
          "metadata": {},
          "execution_count": 11
        }
      ]
    },
    {
      "cell_type": "code",
      "source": [
        "print('valores menores a 1: ' + str((df['education'].values < 1).sum()))\n",
        "print('valores mayores a 4: ' + str((df['education'].values > 4).sum()))"
      ],
      "metadata": {
        "colab": {
          "base_uri": "https://localhost:8080/"
        },
        "id": "gadExZ4orIny",
        "outputId": "83b9f629-aaca-4a93-9921-96d40841faef"
      },
      "execution_count": 12,
      "outputs": [
        {
          "output_type": "stream",
          "name": "stdout",
          "text": [
            "valores menores a 1: 14\n",
            "valores mayores a 4: 331\n"
          ]
        }
      ]
    },
    {
      "cell_type": "code",
      "source": [
        "df.groupby('education').ID.nunique()"
      ],
      "metadata": {
        "colab": {
          "base_uri": "https://localhost:8080/"
        },
        "id": "P3tJxZFBgdAk",
        "outputId": "c899bde9-c7d7-49bc-8984-a4a7a0c9dac1"
      },
      "execution_count": 13,
      "outputs": [
        {
          "output_type": "execute_result",
          "data": {
            "text/plain": [
              "education\n",
              "0.0       14\n",
              "1.0    10572\n",
              "2.0    14009\n",
              "3.0     4909\n",
              "4.0      123\n",
              "5.0      280\n",
              "6.0       51\n",
              "Name: ID, dtype: int64"
            ]
          },
          "metadata": {},
          "execution_count": 13
        }
      ]
    },
    {
      "cell_type": "code",
      "source": [
        "print('Promedio: ' + str(int(df['education'].mean())))\n",
        "print('Moda: ' + str(int(df['education'].mode())))\n",
        "print('Mediana: ' + str(int(df['education'].median())))"
      ],
      "metadata": {
        "colab": {
          "base_uri": "https://localhost:8080/"
        },
        "id": "cgd74YYlf4eL",
        "outputId": "26d50003-0acd-40cd-f0b8-69bac504c640"
      },
      "execution_count": 14,
      "outputs": [
        {
          "output_type": "stream",
          "name": "stdout",
          "text": [
            "Promedio: 1\n",
            "Moda: 2\n",
            "Mediana: 2\n"
          ]
        }
      ]
    },
    {
      "cell_type": "markdown",
      "source": [
        "Los valores menores a 1 los imputaremos como 1 y los valores mayores a 4 se imputarán como 2 con base a la moda y mediana."
      ],
      "metadata": {
        "id": "5bam8w07ft2C"
      }
    },
    {
      "cell_type": "code",
      "source": [
        "df[\"education\"] = df[\"education\"].apply(lambda x: 2 if x > 4 else x)\n",
        "df[\"education\"] = df[\"education\"].apply(lambda x: 1 if x < 1 else x)"
      ],
      "metadata": {
        "id": "FtpQJ1tSlJiQ"
      },
      "execution_count": 15,
      "outputs": []
    },
    {
      "cell_type": "code",
      "source": [
        "df['education'].unique()"
      ],
      "metadata": {
        "colab": {
          "base_uri": "https://localhost:8080/"
        },
        "id": "rHNH8aYmq258",
        "outputId": "8c65755f-74cc-4087-80bb-5c20cb6d9b12"
      },
      "execution_count": 16,
      "outputs": [
        {
          "output_type": "execute_result",
          "data": {
            "text/plain": [
              "array([2., 1., 3., 4.])"
            ]
          },
          "metadata": {},
          "execution_count": 16
        }
      ]
    },
    {
      "cell_type": "markdown",
      "source": [
        "Ahora los valores de education se encuentran entre 1 y 4."
      ],
      "metadata": {
        "id": "WnZXF7d5tsHS"
      }
    },
    {
      "cell_type": "markdown",
      "source": [
        "### Imputar valores en marital_status"
      ],
      "metadata": {
        "id": "xYUf5tv8t-bB"
      }
    },
    {
      "cell_type": "code",
      "source": [
        "print('valores menores a 1: ' + str((df['marital_status'].values < 1).sum()))"
      ],
      "metadata": {
        "colab": {
          "base_uri": "https://localhost:8080/"
        },
        "id": "9mj7OKDMuHgp",
        "outputId": "d5e7af33-d0b6-4f67-f3f5-d000b6fd39bf"
      },
      "execution_count": 17,
      "outputs": [
        {
          "output_type": "stream",
          "name": "stdout",
          "text": [
            "valores menores a 1: 54\n"
          ]
        }
      ]
    },
    {
      "cell_type": "code",
      "source": [
        "print('Promedio: ' + str(int(df['marital_status'].mean())))\n",
        "print('Moda: ' + str(int(df['marital_status'].mode())))\n",
        "print('Mediana: ' + str(int(df['marital_status'].median())))"
      ],
      "metadata": {
        "colab": {
          "base_uri": "https://localhost:8080/"
        },
        "id": "TrFnzH-muLxO",
        "outputId": "f92ed165-abbd-4609-dab3-0b9c553c6600"
      },
      "execution_count": 18,
      "outputs": [
        {
          "output_type": "stream",
          "name": "stdout",
          "text": [
            "Promedio: 1\n",
            "Moda: 2\n",
            "Mediana: 2\n"
          ]
        }
      ]
    },
    {
      "cell_type": "code",
      "source": [
        "df.groupby('marital_status').ID.nunique()"
      ],
      "metadata": {
        "colab": {
          "base_uri": "https://localhost:8080/"
        },
        "id": "uBivm7UHucjg",
        "outputId": "ea7cf5c2-dbd5-4f7e-df05-49bfc0e964bb"
      },
      "execution_count": 19,
      "outputs": [
        {
          "output_type": "execute_result",
          "data": {
            "text/plain": [
              "marital_status\n",
              "0.0       54\n",
              "1.0    13643\n",
              "2.0    15939\n",
              "3.0      322\n",
              "Name: ID, dtype: int64"
            ]
          },
          "metadata": {},
          "execution_count": 19
        }
      ]
    },
    {
      "cell_type": "markdown",
      "source": [
        "Tenemos 54 valores iguales a 0, los cuales imputaremos usando la mediana."
      ],
      "metadata": {
        "id": "yGB00W48uMXW"
      }
    },
    {
      "cell_type": "code",
      "source": [
        "df[\"marital_status\"] = df[\"marital_status\"].apply(lambda x: 2 if x < 1 else x)"
      ],
      "metadata": {
        "id": "S1Py_ErOum7Q"
      },
      "execution_count": 20,
      "outputs": []
    },
    {
      "cell_type": "code",
      "source": [
        "df['marital_status'].unique()"
      ],
      "metadata": {
        "colab": {
          "base_uri": "https://localhost:8080/"
        },
        "id": "zNymRJ5luCrn",
        "outputId": "e396471a-661e-439b-ec49-8d750efa5d4f"
      },
      "execution_count": 21,
      "outputs": [
        {
          "output_type": "execute_result",
          "data": {
            "text/plain": [
              "array([1., 2., 3.])"
            ]
          },
          "metadata": {},
          "execution_count": 21
        }
      ]
    },
    {
      "cell_type": "markdown",
      "source": [
        "Ahora los valores se encuentran entre 1 y 3."
      ],
      "metadata": {
        "id": "1lfoxfYgu3YI"
      }
    },
    {
      "cell_type": "code",
      "source": [
        "df.describe().T"
      ],
      "metadata": {
        "colab": {
          "base_uri": "https://localhost:8080/",
          "height": 833
        },
        "id": "tIaT4tGn05g2",
        "outputId": "05dcb96f-e23f-4518-8f4e-9c0bf02fbdb2"
      },
      "execution_count": 22,
      "outputs": [
        {
          "output_type": "execute_result",
          "data": {
            "text/plain": [
              "                  count           mean            std       min       25%  \\\n",
              "ID              29958.0   15005.550504    8654.547473       1.0   7516.25   \n",
              "amount_credit   29958.0  167555.900928  129737.299088   10000.0  50000.00   \n",
              "gender          29958.0       1.604012       0.489070       1.0      1.00   \n",
              "education       29958.0       1.818713       0.707671       1.0      1.00   \n",
              "marital_status  29958.0       1.555344       0.518115       1.0      1.00   \n",
              "age             29958.0      35.483443       9.214319      21.0     28.00   \n",
              "hry_sep         29958.0      -0.017124       1.123989      -2.0     -1.00   \n",
              "hry_aug         29958.0      -0.134021       1.197171      -2.0     -1.00   \n",
              "hry_jul         29958.0      -0.166767       1.196026      -2.0     -1.00   \n",
              "hry_jun         29958.0      -0.221110       1.168419      -2.0     -1.00   \n",
              "hry_may         29958.0      -0.266807       1.132307      -2.0     -1.00   \n",
              "hry_apl         29958.0      -0.291575       1.149303      -2.0     -1.00   \n",
              "amt_sep         29958.0   51248.119901   73674.949943 -165580.0   3559.25   \n",
              "amt_aug         29958.0   49200.493825   71211.232744  -69777.0   2984.00   \n",
              "amt_jul         29958.0   47032.385273   69385.243340 -157264.0   2664.75   \n",
              "amt_jun         29958.0   43279.335370   64364.684347 -170000.0   2327.50   \n",
              "amt_may         29958.0   40328.984578   60826.219326  -81334.0   1762.25   \n",
              "amt_apl         29958.0   38889.925763   59582.883301 -339603.0   1256.00   \n",
              "paid_sep        29958.0    5664.614460   16568.823518       0.0   1000.00   \n",
              "paid_aug        29958.0    5925.715468   23055.983864       0.0    835.25   \n",
              "paid_jul        29958.0    5228.429969   17617.338167       0.0    390.00   \n",
              "paid_jun        29958.0    4829.873556   15676.205514       0.0    296.25   \n",
              "paid_may        29958.0    4801.481574   15285.552652       0.0    253.25   \n",
              "paid_apl        29958.0    5220.708025   17788.983767       0.0    118.00   \n",
              "Y               29958.0       0.221143       0.415023       0.0      0.00   \n",
              "\n",
              "                     50%        75%        max  \n",
              "ID               15005.5   22497.75    30000.0  \n",
              "amount_credit   140000.0  240000.00  1000000.0  \n",
              "gender               2.0       2.00        2.0  \n",
              "education            2.0       2.00        4.0  \n",
              "marital_status       2.0       2.00        3.0  \n",
              "age                 34.0      41.00       79.0  \n",
              "hry_sep              0.0       0.00        8.0  \n",
              "hry_aug              0.0       0.00        8.0  \n",
              "hry_jul              0.0       0.00        8.0  \n",
              "hry_jun              0.0       0.00        8.0  \n",
              "hry_may              0.0       0.00        8.0  \n",
              "hry_apl              0.0       0.00        8.0  \n",
              "amt_sep          22379.0   67190.00   964511.0  \n",
              "amt_aug          21194.5   64027.75   983931.0  \n",
              "amt_jul          20085.5   60183.00  1664089.0  \n",
              "amt_jun          19037.5   54551.25   891586.0  \n",
              "amt_may          18104.5   50220.75   927171.0  \n",
              "amt_apl          17067.5   49234.75   961664.0  \n",
              "paid_sep          2100.0    5007.00   873552.0  \n",
              "paid_aug          2009.0    5000.00  1684259.0  \n",
              "paid_jul          1800.0    4511.50   896040.0  \n",
              "paid_jun          1500.0    4014.75   621000.0  \n",
              "paid_may          1500.0    4040.00   426529.0  \n",
              "paid_apl          1500.0    4000.00   528666.0  \n",
              "Y                    0.0       0.00        1.0  "
            ],
            "text/html": [
              "\n",
              "  <div id=\"df-085130d3-ff70-4dbc-bff7-0ba081ab0f65\">\n",
              "    <div class=\"colab-df-container\">\n",
              "      <div>\n",
              "<style scoped>\n",
              "    .dataframe tbody tr th:only-of-type {\n",
              "        vertical-align: middle;\n",
              "    }\n",
              "\n",
              "    .dataframe tbody tr th {\n",
              "        vertical-align: top;\n",
              "    }\n",
              "\n",
              "    .dataframe thead th {\n",
              "        text-align: right;\n",
              "    }\n",
              "</style>\n",
              "<table border=\"1\" class=\"dataframe\">\n",
              "  <thead>\n",
              "    <tr style=\"text-align: right;\">\n",
              "      <th></th>\n",
              "      <th>count</th>\n",
              "      <th>mean</th>\n",
              "      <th>std</th>\n",
              "      <th>min</th>\n",
              "      <th>25%</th>\n",
              "      <th>50%</th>\n",
              "      <th>75%</th>\n",
              "      <th>max</th>\n",
              "    </tr>\n",
              "  </thead>\n",
              "  <tbody>\n",
              "    <tr>\n",
              "      <th>ID</th>\n",
              "      <td>29958.0</td>\n",
              "      <td>15005.550504</td>\n",
              "      <td>8654.547473</td>\n",
              "      <td>1.0</td>\n",
              "      <td>7516.25</td>\n",
              "      <td>15005.5</td>\n",
              "      <td>22497.75</td>\n",
              "      <td>30000.0</td>\n",
              "    </tr>\n",
              "    <tr>\n",
              "      <th>amount_credit</th>\n",
              "      <td>29958.0</td>\n",
              "      <td>167555.900928</td>\n",
              "      <td>129737.299088</td>\n",
              "      <td>10000.0</td>\n",
              "      <td>50000.00</td>\n",
              "      <td>140000.0</td>\n",
              "      <td>240000.00</td>\n",
              "      <td>1000000.0</td>\n",
              "    </tr>\n",
              "    <tr>\n",
              "      <th>gender</th>\n",
              "      <td>29958.0</td>\n",
              "      <td>1.604012</td>\n",
              "      <td>0.489070</td>\n",
              "      <td>1.0</td>\n",
              "      <td>1.00</td>\n",
              "      <td>2.0</td>\n",
              "      <td>2.00</td>\n",
              "      <td>2.0</td>\n",
              "    </tr>\n",
              "    <tr>\n",
              "      <th>education</th>\n",
              "      <td>29958.0</td>\n",
              "      <td>1.818713</td>\n",
              "      <td>0.707671</td>\n",
              "      <td>1.0</td>\n",
              "      <td>1.00</td>\n",
              "      <td>2.0</td>\n",
              "      <td>2.00</td>\n",
              "      <td>4.0</td>\n",
              "    </tr>\n",
              "    <tr>\n",
              "      <th>marital_status</th>\n",
              "      <td>29958.0</td>\n",
              "      <td>1.555344</td>\n",
              "      <td>0.518115</td>\n",
              "      <td>1.0</td>\n",
              "      <td>1.00</td>\n",
              "      <td>2.0</td>\n",
              "      <td>2.00</td>\n",
              "      <td>3.0</td>\n",
              "    </tr>\n",
              "    <tr>\n",
              "      <th>age</th>\n",
              "      <td>29958.0</td>\n",
              "      <td>35.483443</td>\n",
              "      <td>9.214319</td>\n",
              "      <td>21.0</td>\n",
              "      <td>28.00</td>\n",
              "      <td>34.0</td>\n",
              "      <td>41.00</td>\n",
              "      <td>79.0</td>\n",
              "    </tr>\n",
              "    <tr>\n",
              "      <th>hry_sep</th>\n",
              "      <td>29958.0</td>\n",
              "      <td>-0.017124</td>\n",
              "      <td>1.123989</td>\n",
              "      <td>-2.0</td>\n",
              "      <td>-1.00</td>\n",
              "      <td>0.0</td>\n",
              "      <td>0.00</td>\n",
              "      <td>8.0</td>\n",
              "    </tr>\n",
              "    <tr>\n",
              "      <th>hry_aug</th>\n",
              "      <td>29958.0</td>\n",
              "      <td>-0.134021</td>\n",
              "      <td>1.197171</td>\n",
              "      <td>-2.0</td>\n",
              "      <td>-1.00</td>\n",
              "      <td>0.0</td>\n",
              "      <td>0.00</td>\n",
              "      <td>8.0</td>\n",
              "    </tr>\n",
              "    <tr>\n",
              "      <th>hry_jul</th>\n",
              "      <td>29958.0</td>\n",
              "      <td>-0.166767</td>\n",
              "      <td>1.196026</td>\n",
              "      <td>-2.0</td>\n",
              "      <td>-1.00</td>\n",
              "      <td>0.0</td>\n",
              "      <td>0.00</td>\n",
              "      <td>8.0</td>\n",
              "    </tr>\n",
              "    <tr>\n",
              "      <th>hry_jun</th>\n",
              "      <td>29958.0</td>\n",
              "      <td>-0.221110</td>\n",
              "      <td>1.168419</td>\n",
              "      <td>-2.0</td>\n",
              "      <td>-1.00</td>\n",
              "      <td>0.0</td>\n",
              "      <td>0.00</td>\n",
              "      <td>8.0</td>\n",
              "    </tr>\n",
              "    <tr>\n",
              "      <th>hry_may</th>\n",
              "      <td>29958.0</td>\n",
              "      <td>-0.266807</td>\n",
              "      <td>1.132307</td>\n",
              "      <td>-2.0</td>\n",
              "      <td>-1.00</td>\n",
              "      <td>0.0</td>\n",
              "      <td>0.00</td>\n",
              "      <td>8.0</td>\n",
              "    </tr>\n",
              "    <tr>\n",
              "      <th>hry_apl</th>\n",
              "      <td>29958.0</td>\n",
              "      <td>-0.291575</td>\n",
              "      <td>1.149303</td>\n",
              "      <td>-2.0</td>\n",
              "      <td>-1.00</td>\n",
              "      <td>0.0</td>\n",
              "      <td>0.00</td>\n",
              "      <td>8.0</td>\n",
              "    </tr>\n",
              "    <tr>\n",
              "      <th>amt_sep</th>\n",
              "      <td>29958.0</td>\n",
              "      <td>51248.119901</td>\n",
              "      <td>73674.949943</td>\n",
              "      <td>-165580.0</td>\n",
              "      <td>3559.25</td>\n",
              "      <td>22379.0</td>\n",
              "      <td>67190.00</td>\n",
              "      <td>964511.0</td>\n",
              "    </tr>\n",
              "    <tr>\n",
              "      <th>amt_aug</th>\n",
              "      <td>29958.0</td>\n",
              "      <td>49200.493825</td>\n",
              "      <td>71211.232744</td>\n",
              "      <td>-69777.0</td>\n",
              "      <td>2984.00</td>\n",
              "      <td>21194.5</td>\n",
              "      <td>64027.75</td>\n",
              "      <td>983931.0</td>\n",
              "    </tr>\n",
              "    <tr>\n",
              "      <th>amt_jul</th>\n",
              "      <td>29958.0</td>\n",
              "      <td>47032.385273</td>\n",
              "      <td>69385.243340</td>\n",
              "      <td>-157264.0</td>\n",
              "      <td>2664.75</td>\n",
              "      <td>20085.5</td>\n",
              "      <td>60183.00</td>\n",
              "      <td>1664089.0</td>\n",
              "    </tr>\n",
              "    <tr>\n",
              "      <th>amt_jun</th>\n",
              "      <td>29958.0</td>\n",
              "      <td>43279.335370</td>\n",
              "      <td>64364.684347</td>\n",
              "      <td>-170000.0</td>\n",
              "      <td>2327.50</td>\n",
              "      <td>19037.5</td>\n",
              "      <td>54551.25</td>\n",
              "      <td>891586.0</td>\n",
              "    </tr>\n",
              "    <tr>\n",
              "      <th>amt_may</th>\n",
              "      <td>29958.0</td>\n",
              "      <td>40328.984578</td>\n",
              "      <td>60826.219326</td>\n",
              "      <td>-81334.0</td>\n",
              "      <td>1762.25</td>\n",
              "      <td>18104.5</td>\n",
              "      <td>50220.75</td>\n",
              "      <td>927171.0</td>\n",
              "    </tr>\n",
              "    <tr>\n",
              "      <th>amt_apl</th>\n",
              "      <td>29958.0</td>\n",
              "      <td>38889.925763</td>\n",
              "      <td>59582.883301</td>\n",
              "      <td>-339603.0</td>\n",
              "      <td>1256.00</td>\n",
              "      <td>17067.5</td>\n",
              "      <td>49234.75</td>\n",
              "      <td>961664.0</td>\n",
              "    </tr>\n",
              "    <tr>\n",
              "      <th>paid_sep</th>\n",
              "      <td>29958.0</td>\n",
              "      <td>5664.614460</td>\n",
              "      <td>16568.823518</td>\n",
              "      <td>0.0</td>\n",
              "      <td>1000.00</td>\n",
              "      <td>2100.0</td>\n",
              "      <td>5007.00</td>\n",
              "      <td>873552.0</td>\n",
              "    </tr>\n",
              "    <tr>\n",
              "      <th>paid_aug</th>\n",
              "      <td>29958.0</td>\n",
              "      <td>5925.715468</td>\n",
              "      <td>23055.983864</td>\n",
              "      <td>0.0</td>\n",
              "      <td>835.25</td>\n",
              "      <td>2009.0</td>\n",
              "      <td>5000.00</td>\n",
              "      <td>1684259.0</td>\n",
              "    </tr>\n",
              "    <tr>\n",
              "      <th>paid_jul</th>\n",
              "      <td>29958.0</td>\n",
              "      <td>5228.429969</td>\n",
              "      <td>17617.338167</td>\n",
              "      <td>0.0</td>\n",
              "      <td>390.00</td>\n",
              "      <td>1800.0</td>\n",
              "      <td>4511.50</td>\n",
              "      <td>896040.0</td>\n",
              "    </tr>\n",
              "    <tr>\n",
              "      <th>paid_jun</th>\n",
              "      <td>29958.0</td>\n",
              "      <td>4829.873556</td>\n",
              "      <td>15676.205514</td>\n",
              "      <td>0.0</td>\n",
              "      <td>296.25</td>\n",
              "      <td>1500.0</td>\n",
              "      <td>4014.75</td>\n",
              "      <td>621000.0</td>\n",
              "    </tr>\n",
              "    <tr>\n",
              "      <th>paid_may</th>\n",
              "      <td>29958.0</td>\n",
              "      <td>4801.481574</td>\n",
              "      <td>15285.552652</td>\n",
              "      <td>0.0</td>\n",
              "      <td>253.25</td>\n",
              "      <td>1500.0</td>\n",
              "      <td>4040.00</td>\n",
              "      <td>426529.0</td>\n",
              "    </tr>\n",
              "    <tr>\n",
              "      <th>paid_apl</th>\n",
              "      <td>29958.0</td>\n",
              "      <td>5220.708025</td>\n",
              "      <td>17788.983767</td>\n",
              "      <td>0.0</td>\n",
              "      <td>118.00</td>\n",
              "      <td>1500.0</td>\n",
              "      <td>4000.00</td>\n",
              "      <td>528666.0</td>\n",
              "    </tr>\n",
              "    <tr>\n",
              "      <th>Y</th>\n",
              "      <td>29958.0</td>\n",
              "      <td>0.221143</td>\n",
              "      <td>0.415023</td>\n",
              "      <td>0.0</td>\n",
              "      <td>0.00</td>\n",
              "      <td>0.0</td>\n",
              "      <td>0.00</td>\n",
              "      <td>1.0</td>\n",
              "    </tr>\n",
              "  </tbody>\n",
              "</table>\n",
              "</div>\n",
              "      <button class=\"colab-df-convert\" onclick=\"convertToInteractive('df-085130d3-ff70-4dbc-bff7-0ba081ab0f65')\"\n",
              "              title=\"Convert this dataframe to an interactive table.\"\n",
              "              style=\"display:none;\">\n",
              "        \n",
              "  <svg xmlns=\"http://www.w3.org/2000/svg\" height=\"24px\"viewBox=\"0 0 24 24\"\n",
              "       width=\"24px\">\n",
              "    <path d=\"M0 0h24v24H0V0z\" fill=\"none\"/>\n",
              "    <path d=\"M18.56 5.44l.94 2.06.94-2.06 2.06-.94-2.06-.94-.94-2.06-.94 2.06-2.06.94zm-11 1L8.5 8.5l.94-2.06 2.06-.94-2.06-.94L8.5 2.5l-.94 2.06-2.06.94zm10 10l.94 2.06.94-2.06 2.06-.94-2.06-.94-.94-2.06-.94 2.06-2.06.94z\"/><path d=\"M17.41 7.96l-1.37-1.37c-.4-.4-.92-.59-1.43-.59-.52 0-1.04.2-1.43.59L10.3 9.45l-7.72 7.72c-.78.78-.78 2.05 0 2.83L4 21.41c.39.39.9.59 1.41.59.51 0 1.02-.2 1.41-.59l7.78-7.78 2.81-2.81c.8-.78.8-2.07 0-2.86zM5.41 20L4 18.59l7.72-7.72 1.47 1.35L5.41 20z\"/>\n",
              "  </svg>\n",
              "      </button>\n",
              "      \n",
              "  <style>\n",
              "    .colab-df-container {\n",
              "      display:flex;\n",
              "      flex-wrap:wrap;\n",
              "      gap: 12px;\n",
              "    }\n",
              "\n",
              "    .colab-df-convert {\n",
              "      background-color: #E8F0FE;\n",
              "      border: none;\n",
              "      border-radius: 50%;\n",
              "      cursor: pointer;\n",
              "      display: none;\n",
              "      fill: #1967D2;\n",
              "      height: 32px;\n",
              "      padding: 0 0 0 0;\n",
              "      width: 32px;\n",
              "    }\n",
              "\n",
              "    .colab-df-convert:hover {\n",
              "      background-color: #E2EBFA;\n",
              "      box-shadow: 0px 1px 2px rgba(60, 64, 67, 0.3), 0px 1px 3px 1px rgba(60, 64, 67, 0.15);\n",
              "      fill: #174EA6;\n",
              "    }\n",
              "\n",
              "    [theme=dark] .colab-df-convert {\n",
              "      background-color: #3B4455;\n",
              "      fill: #D2E3FC;\n",
              "    }\n",
              "\n",
              "    [theme=dark] .colab-df-convert:hover {\n",
              "      background-color: #434B5C;\n",
              "      box-shadow: 0px 1px 3px 1px rgba(0, 0, 0, 0.15);\n",
              "      filter: drop-shadow(0px 1px 2px rgba(0, 0, 0, 0.3));\n",
              "      fill: #FFFFFF;\n",
              "    }\n",
              "  </style>\n",
              "\n",
              "      <script>\n",
              "        const buttonEl =\n",
              "          document.querySelector('#df-085130d3-ff70-4dbc-bff7-0ba081ab0f65 button.colab-df-convert');\n",
              "        buttonEl.style.display =\n",
              "          google.colab.kernel.accessAllowed ? 'block' : 'none';\n",
              "\n",
              "        async function convertToInteractive(key) {\n",
              "          const element = document.querySelector('#df-085130d3-ff70-4dbc-bff7-0ba081ab0f65');\n",
              "          const dataTable =\n",
              "            await google.colab.kernel.invokeFunction('convertToInteractive',\n",
              "                                                     [key], {});\n",
              "          if (!dataTable) return;\n",
              "\n",
              "          const docLinkHtml = 'Like what you see? Visit the ' +\n",
              "            '<a target=\"_blank\" href=https://colab.research.google.com/notebooks/data_table.ipynb>data table notebook</a>'\n",
              "            + ' to learn more about interactive tables.';\n",
              "          element.innerHTML = '';\n",
              "          dataTable['output_type'] = 'display_data';\n",
              "          await google.colab.output.renderOutput(dataTable, element);\n",
              "          const docLink = document.createElement('div');\n",
              "          docLink.innerHTML = docLinkHtml;\n",
              "          element.appendChild(docLink);\n",
              "        }\n",
              "      </script>\n",
              "    </div>\n",
              "  </div>\n",
              "  "
            ]
          },
          "metadata": {},
          "execution_count": 22
        }
      ]
    },
    {
      "cell_type": "code",
      "source": [
        "amt_list = list(df.loc[:,'amt_sep':'amt_apl'])\n",
        "amt_list"
      ],
      "metadata": {
        "colab": {
          "base_uri": "https://localhost:8080/"
        },
        "id": "Uyg5heDLPvPF",
        "outputId": "269f7691-52a1-4988-c01b-a650a1fe29f9"
      },
      "execution_count": 23,
      "outputs": [
        {
          "output_type": "execute_result",
          "data": {
            "text/plain": [
              "['amt_sep', 'amt_aug', 'amt_jul', 'amt_jun', 'amt_may', 'amt_apl']"
            ]
          },
          "metadata": {},
          "execution_count": 23
        }
      ]
    },
    {
      "cell_type": "code",
      "source": [
        "paid_list = list(df.loc[:,'paid_sep':'paid_apl'])\n",
        "paid_list "
      ],
      "metadata": {
        "colab": {
          "base_uri": "https://localhost:8080/"
        },
        "id": "f7CMlUgibpnM",
        "outputId": "9c0c9852-a5f3-4087-f6b5-4476824bbd18"
      },
      "execution_count": 24,
      "outputs": [
        {
          "output_type": "execute_result",
          "data": {
            "text/plain": [
              "['paid_sep', 'paid_aug', 'paid_jul', 'paid_jun', 'paid_may', 'paid_apl']"
            ]
          },
          "metadata": {},
          "execution_count": 24
        }
      ]
    },
    {
      "cell_type": "code",
      "source": [
        "hry_list = list(df.iloc[:,6:12])\n",
        "hry_list"
      ],
      "metadata": {
        "colab": {
          "base_uri": "https://localhost:8080/"
        },
        "id": "JPddRLsBjt5Y",
        "outputId": "0c59ddc2-bc33-4507-8449-4a9c80e51c14"
      },
      "execution_count": 25,
      "outputs": [
        {
          "output_type": "execute_result",
          "data": {
            "text/plain": [
              "['hry_sep', 'hry_aug', 'hry_jul', 'hry_jun', 'hry_may', 'hry_apl']"
            ]
          },
          "metadata": {},
          "execution_count": 25
        }
      ]
    },
    {
      "cell_type": "code",
      "source": [
        "df['total_amt'] = df[amt_list].sum(axis=1)\n",
        "df['total_amt']"
      ],
      "metadata": {
        "colab": {
          "base_uri": "https://localhost:8080/"
        },
        "id": "DlFzPyuFYHQv",
        "outputId": "4ac17a5d-4547-4e59-c6a6-2fdb0c07636d"
      },
      "execution_count": 26,
      "outputs": [
        {
          "output_type": "execute_result",
          "data": {
            "text/plain": [
              "0          7704.0\n",
              "1         17077.0\n",
              "2        101653.0\n",
              "3        231334.0\n",
              "4        109339.0\n",
              "           ...   \n",
              "29995    725349.0\n",
              "29996     21182.0\n",
              "29997     70496.0\n",
              "29998    266611.0\n",
              "29999    230874.0\n",
              "Name: total_amt, Length: 29958, dtype: float64"
            ]
          },
          "metadata": {},
          "execution_count": 26
        }
      ]
    },
    {
      "cell_type": "code",
      "source": [
        "df['total_paid'] = df[paid_list].sum(axis=1)\n",
        "df['total_paid']"
      ],
      "metadata": {
        "colab": {
          "base_uri": "https://localhost:8080/"
        },
        "id": "-phyBvzmcceW",
        "outputId": "eb7c986d-e2e0-458e-e141-8f28dd8354c5"
      },
      "execution_count": 27,
      "outputs": [
        {
          "output_type": "execute_result",
          "data": {
            "text/plain": [
              "0           689.0\n",
              "1          5000.0\n",
              "2         11018.0\n",
              "3          8388.0\n",
              "4         59049.0\n",
              "           ...   \n",
              "29995     42550.0\n",
              "29996     14490.0\n",
              "29997     31300.0\n",
              "29998    147181.0\n",
              "29999      8308.0\n",
              "Name: total_paid, Length: 29958, dtype: float64"
            ]
          },
          "metadata": {},
          "execution_count": 27
        }
      ]
    },
    {
      "cell_type": "code",
      "source": [
        "df_copy = pd.concat([df[hry_list],df['Y']],axis=1)\n",
        "df_copy"
      ],
      "metadata": {
        "colab": {
          "base_uri": "https://localhost:8080/",
          "height": 424
        },
        "id": "1OiHkYz5jAM8",
        "outputId": "5b909fe4-3a04-4c42-b114-6316511dd0f2"
      },
      "execution_count": 28,
      "outputs": [
        {
          "output_type": "execute_result",
          "data": {
            "text/plain": [
              "       hry_sep  hry_aug  hry_jul  hry_jun  hry_may  hry_apl    Y\n",
              "0          2.0      2.0     -1.0     -1.0     -2.0     -2.0  1.0\n",
              "1         -1.0      2.0      0.0      0.0      0.0      2.0  1.0\n",
              "2          0.0      0.0      0.0      0.0      0.0      0.0  0.0\n",
              "3          0.0      0.0      0.0      0.0      0.0      0.0  0.0\n",
              "4         -1.0      0.0     -1.0      0.0      0.0      0.0  0.0\n",
              "...        ...      ...      ...      ...      ...      ...  ...\n",
              "29995      0.0      0.0      0.0      0.0      0.0      0.0  0.0\n",
              "29996     -1.0     -1.0     -1.0     -1.0      0.0      0.0  0.0\n",
              "29997      4.0      3.0      2.0     -1.0      0.0      0.0  1.0\n",
              "29998      1.0     -1.0      0.0      0.0      0.0     -1.0  1.0\n",
              "29999      0.0      0.0      0.0      0.0      0.0      0.0  1.0\n",
              "\n",
              "[29958 rows x 7 columns]"
            ],
            "text/html": [
              "\n",
              "  <div id=\"df-453ecaca-d640-40ee-805c-e3467e342bac\">\n",
              "    <div class=\"colab-df-container\">\n",
              "      <div>\n",
              "<style scoped>\n",
              "    .dataframe tbody tr th:only-of-type {\n",
              "        vertical-align: middle;\n",
              "    }\n",
              "\n",
              "    .dataframe tbody tr th {\n",
              "        vertical-align: top;\n",
              "    }\n",
              "\n",
              "    .dataframe thead th {\n",
              "        text-align: right;\n",
              "    }\n",
              "</style>\n",
              "<table border=\"1\" class=\"dataframe\">\n",
              "  <thead>\n",
              "    <tr style=\"text-align: right;\">\n",
              "      <th></th>\n",
              "      <th>hry_sep</th>\n",
              "      <th>hry_aug</th>\n",
              "      <th>hry_jul</th>\n",
              "      <th>hry_jun</th>\n",
              "      <th>hry_may</th>\n",
              "      <th>hry_apl</th>\n",
              "      <th>Y</th>\n",
              "    </tr>\n",
              "  </thead>\n",
              "  <tbody>\n",
              "    <tr>\n",
              "      <th>0</th>\n",
              "      <td>2.0</td>\n",
              "      <td>2.0</td>\n",
              "      <td>-1.0</td>\n",
              "      <td>-1.0</td>\n",
              "      <td>-2.0</td>\n",
              "      <td>-2.0</td>\n",
              "      <td>1.0</td>\n",
              "    </tr>\n",
              "    <tr>\n",
              "      <th>1</th>\n",
              "      <td>-1.0</td>\n",
              "      <td>2.0</td>\n",
              "      <td>0.0</td>\n",
              "      <td>0.0</td>\n",
              "      <td>0.0</td>\n",
              "      <td>2.0</td>\n",
              "      <td>1.0</td>\n",
              "    </tr>\n",
              "    <tr>\n",
              "      <th>2</th>\n",
              "      <td>0.0</td>\n",
              "      <td>0.0</td>\n",
              "      <td>0.0</td>\n",
              "      <td>0.0</td>\n",
              "      <td>0.0</td>\n",
              "      <td>0.0</td>\n",
              "      <td>0.0</td>\n",
              "    </tr>\n",
              "    <tr>\n",
              "      <th>3</th>\n",
              "      <td>0.0</td>\n",
              "      <td>0.0</td>\n",
              "      <td>0.0</td>\n",
              "      <td>0.0</td>\n",
              "      <td>0.0</td>\n",
              "      <td>0.0</td>\n",
              "      <td>0.0</td>\n",
              "    </tr>\n",
              "    <tr>\n",
              "      <th>4</th>\n",
              "      <td>-1.0</td>\n",
              "      <td>0.0</td>\n",
              "      <td>-1.0</td>\n",
              "      <td>0.0</td>\n",
              "      <td>0.0</td>\n",
              "      <td>0.0</td>\n",
              "      <td>0.0</td>\n",
              "    </tr>\n",
              "    <tr>\n",
              "      <th>...</th>\n",
              "      <td>...</td>\n",
              "      <td>...</td>\n",
              "      <td>...</td>\n",
              "      <td>...</td>\n",
              "      <td>...</td>\n",
              "      <td>...</td>\n",
              "      <td>...</td>\n",
              "    </tr>\n",
              "    <tr>\n",
              "      <th>29995</th>\n",
              "      <td>0.0</td>\n",
              "      <td>0.0</td>\n",
              "      <td>0.0</td>\n",
              "      <td>0.0</td>\n",
              "      <td>0.0</td>\n",
              "      <td>0.0</td>\n",
              "      <td>0.0</td>\n",
              "    </tr>\n",
              "    <tr>\n",
              "      <th>29996</th>\n",
              "      <td>-1.0</td>\n",
              "      <td>-1.0</td>\n",
              "      <td>-1.0</td>\n",
              "      <td>-1.0</td>\n",
              "      <td>0.0</td>\n",
              "      <td>0.0</td>\n",
              "      <td>0.0</td>\n",
              "    </tr>\n",
              "    <tr>\n",
              "      <th>29997</th>\n",
              "      <td>4.0</td>\n",
              "      <td>3.0</td>\n",
              "      <td>2.0</td>\n",
              "      <td>-1.0</td>\n",
              "      <td>0.0</td>\n",
              "      <td>0.0</td>\n",
              "      <td>1.0</td>\n",
              "    </tr>\n",
              "    <tr>\n",
              "      <th>29998</th>\n",
              "      <td>1.0</td>\n",
              "      <td>-1.0</td>\n",
              "      <td>0.0</td>\n",
              "      <td>0.0</td>\n",
              "      <td>0.0</td>\n",
              "      <td>-1.0</td>\n",
              "      <td>1.0</td>\n",
              "    </tr>\n",
              "    <tr>\n",
              "      <th>29999</th>\n",
              "      <td>0.0</td>\n",
              "      <td>0.0</td>\n",
              "      <td>0.0</td>\n",
              "      <td>0.0</td>\n",
              "      <td>0.0</td>\n",
              "      <td>0.0</td>\n",
              "      <td>1.0</td>\n",
              "    </tr>\n",
              "  </tbody>\n",
              "</table>\n",
              "<p>29958 rows × 7 columns</p>\n",
              "</div>\n",
              "      <button class=\"colab-df-convert\" onclick=\"convertToInteractive('df-453ecaca-d640-40ee-805c-e3467e342bac')\"\n",
              "              title=\"Convert this dataframe to an interactive table.\"\n",
              "              style=\"display:none;\">\n",
              "        \n",
              "  <svg xmlns=\"http://www.w3.org/2000/svg\" height=\"24px\"viewBox=\"0 0 24 24\"\n",
              "       width=\"24px\">\n",
              "    <path d=\"M0 0h24v24H0V0z\" fill=\"none\"/>\n",
              "    <path d=\"M18.56 5.44l.94 2.06.94-2.06 2.06-.94-2.06-.94-.94-2.06-.94 2.06-2.06.94zm-11 1L8.5 8.5l.94-2.06 2.06-.94-2.06-.94L8.5 2.5l-.94 2.06-2.06.94zm10 10l.94 2.06.94-2.06 2.06-.94-2.06-.94-.94-2.06-.94 2.06-2.06.94z\"/><path d=\"M17.41 7.96l-1.37-1.37c-.4-.4-.92-.59-1.43-.59-.52 0-1.04.2-1.43.59L10.3 9.45l-7.72 7.72c-.78.78-.78 2.05 0 2.83L4 21.41c.39.39.9.59 1.41.59.51 0 1.02-.2 1.41-.59l7.78-7.78 2.81-2.81c.8-.78.8-2.07 0-2.86zM5.41 20L4 18.59l7.72-7.72 1.47 1.35L5.41 20z\"/>\n",
              "  </svg>\n",
              "      </button>\n",
              "      \n",
              "  <style>\n",
              "    .colab-df-container {\n",
              "      display:flex;\n",
              "      flex-wrap:wrap;\n",
              "      gap: 12px;\n",
              "    }\n",
              "\n",
              "    .colab-df-convert {\n",
              "      background-color: #E8F0FE;\n",
              "      border: none;\n",
              "      border-radius: 50%;\n",
              "      cursor: pointer;\n",
              "      display: none;\n",
              "      fill: #1967D2;\n",
              "      height: 32px;\n",
              "      padding: 0 0 0 0;\n",
              "      width: 32px;\n",
              "    }\n",
              "\n",
              "    .colab-df-convert:hover {\n",
              "      background-color: #E2EBFA;\n",
              "      box-shadow: 0px 1px 2px rgba(60, 64, 67, 0.3), 0px 1px 3px 1px rgba(60, 64, 67, 0.15);\n",
              "      fill: #174EA6;\n",
              "    }\n",
              "\n",
              "    [theme=dark] .colab-df-convert {\n",
              "      background-color: #3B4455;\n",
              "      fill: #D2E3FC;\n",
              "    }\n",
              "\n",
              "    [theme=dark] .colab-df-convert:hover {\n",
              "      background-color: #434B5C;\n",
              "      box-shadow: 0px 1px 3px 1px rgba(0, 0, 0, 0.15);\n",
              "      filter: drop-shadow(0px 1px 2px rgba(0, 0, 0, 0.3));\n",
              "      fill: #FFFFFF;\n",
              "    }\n",
              "  </style>\n",
              "\n",
              "      <script>\n",
              "        const buttonEl =\n",
              "          document.querySelector('#df-453ecaca-d640-40ee-805c-e3467e342bac button.colab-df-convert');\n",
              "        buttonEl.style.display =\n",
              "          google.colab.kernel.accessAllowed ? 'block' : 'none';\n",
              "\n",
              "        async function convertToInteractive(key) {\n",
              "          const element = document.querySelector('#df-453ecaca-d640-40ee-805c-e3467e342bac');\n",
              "          const dataTable =\n",
              "            await google.colab.kernel.invokeFunction('convertToInteractive',\n",
              "                                                     [key], {});\n",
              "          if (!dataTable) return;\n",
              "\n",
              "          const docLinkHtml = 'Like what you see? Visit the ' +\n",
              "            '<a target=\"_blank\" href=https://colab.research.google.com/notebooks/data_table.ipynb>data table notebook</a>'\n",
              "            + ' to learn more about interactive tables.';\n",
              "          element.innerHTML = '';\n",
              "          dataTable['output_type'] = 'display_data';\n",
              "          await google.colab.output.renderOutput(dataTable, element);\n",
              "          const docLink = document.createElement('div');\n",
              "          docLink.innerHTML = docLinkHtml;\n",
              "          element.appendChild(docLink);\n",
              "        }\n",
              "      </script>\n",
              "    </div>\n",
              "  </div>\n",
              "  "
            ]
          },
          "metadata": {},
          "execution_count": 28
        }
      ]
    },
    {
      "cell_type": "code",
      "source": [
        "data = pd.concat([df['amount_credit'],df['total_amt'],df['Y']],axis=1)\n",
        "data.head()"
      ],
      "metadata": {
        "colab": {
          "base_uri": "https://localhost:8080/",
          "height": 206
        },
        "id": "vumHGbDpRsr_",
        "outputId": "e64310ad-5415-4a3f-b92b-a2f37f3df4d8"
      },
      "execution_count": 29,
      "outputs": [
        {
          "output_type": "execute_result",
          "data": {
            "text/plain": [
              "   amount_credit  total_amt    Y\n",
              "0          20000     7704.0  1.0\n",
              "1         120000    17077.0  1.0\n",
              "2          90000   101653.0  0.0\n",
              "3          50000   231334.0  0.0\n",
              "4          50000   109339.0  0.0"
            ],
            "text/html": [
              "\n",
              "  <div id=\"df-5e4c3530-2274-4ca9-a537-20fd515c3fa1\">\n",
              "    <div class=\"colab-df-container\">\n",
              "      <div>\n",
              "<style scoped>\n",
              "    .dataframe tbody tr th:only-of-type {\n",
              "        vertical-align: middle;\n",
              "    }\n",
              "\n",
              "    .dataframe tbody tr th {\n",
              "        vertical-align: top;\n",
              "    }\n",
              "\n",
              "    .dataframe thead th {\n",
              "        text-align: right;\n",
              "    }\n",
              "</style>\n",
              "<table border=\"1\" class=\"dataframe\">\n",
              "  <thead>\n",
              "    <tr style=\"text-align: right;\">\n",
              "      <th></th>\n",
              "      <th>amount_credit</th>\n",
              "      <th>total_amt</th>\n",
              "      <th>Y</th>\n",
              "    </tr>\n",
              "  </thead>\n",
              "  <tbody>\n",
              "    <tr>\n",
              "      <th>0</th>\n",
              "      <td>20000</td>\n",
              "      <td>7704.0</td>\n",
              "      <td>1.0</td>\n",
              "    </tr>\n",
              "    <tr>\n",
              "      <th>1</th>\n",
              "      <td>120000</td>\n",
              "      <td>17077.0</td>\n",
              "      <td>1.0</td>\n",
              "    </tr>\n",
              "    <tr>\n",
              "      <th>2</th>\n",
              "      <td>90000</td>\n",
              "      <td>101653.0</td>\n",
              "      <td>0.0</td>\n",
              "    </tr>\n",
              "    <tr>\n",
              "      <th>3</th>\n",
              "      <td>50000</td>\n",
              "      <td>231334.0</td>\n",
              "      <td>0.0</td>\n",
              "    </tr>\n",
              "    <tr>\n",
              "      <th>4</th>\n",
              "      <td>50000</td>\n",
              "      <td>109339.0</td>\n",
              "      <td>0.0</td>\n",
              "    </tr>\n",
              "  </tbody>\n",
              "</table>\n",
              "</div>\n",
              "      <button class=\"colab-df-convert\" onclick=\"convertToInteractive('df-5e4c3530-2274-4ca9-a537-20fd515c3fa1')\"\n",
              "              title=\"Convert this dataframe to an interactive table.\"\n",
              "              style=\"display:none;\">\n",
              "        \n",
              "  <svg xmlns=\"http://www.w3.org/2000/svg\" height=\"24px\"viewBox=\"0 0 24 24\"\n",
              "       width=\"24px\">\n",
              "    <path d=\"M0 0h24v24H0V0z\" fill=\"none\"/>\n",
              "    <path d=\"M18.56 5.44l.94 2.06.94-2.06 2.06-.94-2.06-.94-.94-2.06-.94 2.06-2.06.94zm-11 1L8.5 8.5l.94-2.06 2.06-.94-2.06-.94L8.5 2.5l-.94 2.06-2.06.94zm10 10l.94 2.06.94-2.06 2.06-.94-2.06-.94-.94-2.06-.94 2.06-2.06.94z\"/><path d=\"M17.41 7.96l-1.37-1.37c-.4-.4-.92-.59-1.43-.59-.52 0-1.04.2-1.43.59L10.3 9.45l-7.72 7.72c-.78.78-.78 2.05 0 2.83L4 21.41c.39.39.9.59 1.41.59.51 0 1.02-.2 1.41-.59l7.78-7.78 2.81-2.81c.8-.78.8-2.07 0-2.86zM5.41 20L4 18.59l7.72-7.72 1.47 1.35L5.41 20z\"/>\n",
              "  </svg>\n",
              "      </button>\n",
              "      \n",
              "  <style>\n",
              "    .colab-df-container {\n",
              "      display:flex;\n",
              "      flex-wrap:wrap;\n",
              "      gap: 12px;\n",
              "    }\n",
              "\n",
              "    .colab-df-convert {\n",
              "      background-color: #E8F0FE;\n",
              "      border: none;\n",
              "      border-radius: 50%;\n",
              "      cursor: pointer;\n",
              "      display: none;\n",
              "      fill: #1967D2;\n",
              "      height: 32px;\n",
              "      padding: 0 0 0 0;\n",
              "      width: 32px;\n",
              "    }\n",
              "\n",
              "    .colab-df-convert:hover {\n",
              "      background-color: #E2EBFA;\n",
              "      box-shadow: 0px 1px 2px rgba(60, 64, 67, 0.3), 0px 1px 3px 1px rgba(60, 64, 67, 0.15);\n",
              "      fill: #174EA6;\n",
              "    }\n",
              "\n",
              "    [theme=dark] .colab-df-convert {\n",
              "      background-color: #3B4455;\n",
              "      fill: #D2E3FC;\n",
              "    }\n",
              "\n",
              "    [theme=dark] .colab-df-convert:hover {\n",
              "      background-color: #434B5C;\n",
              "      box-shadow: 0px 1px 3px 1px rgba(0, 0, 0, 0.15);\n",
              "      filter: drop-shadow(0px 1px 2px rgba(0, 0, 0, 0.3));\n",
              "      fill: #FFFFFF;\n",
              "    }\n",
              "  </style>\n",
              "\n",
              "      <script>\n",
              "        const buttonEl =\n",
              "          document.querySelector('#df-5e4c3530-2274-4ca9-a537-20fd515c3fa1 button.colab-df-convert');\n",
              "        buttonEl.style.display =\n",
              "          google.colab.kernel.accessAllowed ? 'block' : 'none';\n",
              "\n",
              "        async function convertToInteractive(key) {\n",
              "          const element = document.querySelector('#df-5e4c3530-2274-4ca9-a537-20fd515c3fa1');\n",
              "          const dataTable =\n",
              "            await google.colab.kernel.invokeFunction('convertToInteractive',\n",
              "                                                     [key], {});\n",
              "          if (!dataTable) return;\n",
              "\n",
              "          const docLinkHtml = 'Like what you see? Visit the ' +\n",
              "            '<a target=\"_blank\" href=https://colab.research.google.com/notebooks/data_table.ipynb>data table notebook</a>'\n",
              "            + ' to learn more about interactive tables.';\n",
              "          element.innerHTML = '';\n",
              "          dataTable['output_type'] = 'display_data';\n",
              "          await google.colab.output.renderOutput(dataTable, element);\n",
              "          const docLink = document.createElement('div');\n",
              "          docLink.innerHTML = docLinkHtml;\n",
              "          element.appendChild(docLink);\n",
              "        }\n",
              "      </script>\n",
              "    </div>\n",
              "  </div>\n",
              "  "
            ]
          },
          "metadata": {},
          "execution_count": 29
        }
      ]
    },
    {
      "cell_type": "code",
      "source": [
        "df.hist(bins = 60, figsize=(20,30))"
      ],
      "metadata": {
        "colab": {
          "base_uri": "https://localhost:8080/",
          "height": 1000
        },
        "id": "az8mtSKsN1Rb",
        "outputId": "df842b94-a028-4d5b-ad4d-82270e83968c"
      },
      "execution_count": 30,
      "outputs": [
        {
          "output_type": "execute_result",
          "data": {
            "text/plain": [
              "array([[<matplotlib.axes._subplots.AxesSubplot object at 0x7fe23de51890>,\n",
              "        <matplotlib.axes._subplots.AxesSubplot object at 0x7fe23deebd90>,\n",
              "        <matplotlib.axes._subplots.AxesSubplot object at 0x7fe23deae3d0>,\n",
              "        <matplotlib.axes._subplots.AxesSubplot object at 0x7fe23dee09d0>,\n",
              "        <matplotlib.axes._subplots.AxesSubplot object at 0x7fe23de0eb10>],\n",
              "       [<matplotlib.axes._subplots.AxesSubplot object at 0x7fe23ddd9610>,\n",
              "        <matplotlib.axes._subplots.AxesSubplot object at 0x7fe23dd8fc90>,\n",
              "        <matplotlib.axes._subplots.AxesSubplot object at 0x7fe23dd52210>,\n",
              "        <matplotlib.axes._subplots.AxesSubplot object at 0x7fe23dd52250>,\n",
              "        <matplotlib.axes._subplots.AxesSubplot object at 0x7fe23dd09950>],\n",
              "       [<matplotlib.axes._subplots.AxesSubplot object at 0x7fe23dc83490>,\n",
              "        <matplotlib.axes._subplots.AxesSubplot object at 0x7fe23dc39a90>,\n",
              "        <matplotlib.axes._subplots.AxesSubplot object at 0x7fe23dbfe0d0>,\n",
              "        <matplotlib.axes._subplots.AxesSubplot object at 0x7fe23dbb46d0>,\n",
              "        <matplotlib.axes._subplots.AxesSubplot object at 0x7fe23dbe8cd0>],\n",
              "       [<matplotlib.axes._subplots.AxesSubplot object at 0x7fe23db2d310>,\n",
              "        <matplotlib.axes._subplots.AxesSubplot object at 0x7fe23db63910>,\n",
              "        <matplotlib.axes._subplots.AxesSubplot object at 0x7fe23db19f10>,\n",
              "        <matplotlib.axes._subplots.AxesSubplot object at 0x7fe23dae2990>,\n",
              "        <matplotlib.axes._subplots.AxesSubplot object at 0x7fe23da2a110>],\n",
              "       [<matplotlib.axes._subplots.AxesSubplot object at 0x7fe23da61790>,\n",
              "        <matplotlib.axes._subplots.AxesSubplot object at 0x7fe23da17ed0>,\n",
              "        <matplotlib.axes._subplots.AxesSubplot object at 0x7fe23d9e3150>,\n",
              "        <matplotlib.axes._subplots.AxesSubplot object at 0x7fe23d98f790>,\n",
              "        <matplotlib.axes._subplots.AxesSubplot object at 0x7fe23d945d90>],\n",
              "       [<matplotlib.axes._subplots.AxesSubplot object at 0x7fe23d90a3d0>,\n",
              "        <matplotlib.axes._subplots.AxesSubplot object at 0x7fe23d8bf9d0>,\n",
              "        <matplotlib.axes._subplots.AxesSubplot object at 0x7fe23d86cb10>,\n",
              "        <matplotlib.axes._subplots.AxesSubplot object at 0x7fe23d83a610>,\n",
              "        <matplotlib.axes._subplots.AxesSubplot object at 0x7fe23d7f1c10>]],\n",
              "      dtype=object)"
            ]
          },
          "metadata": {},
          "execution_count": 30
        },
        {
          "output_type": "display_data",
          "data": {
            "text/plain": [
              "<Figure size 1440x2160 with 30 Axes>"
            ],
            "image/png": "[encoded data removed]"
          },
          "metadata": {
            "needs_background": "light"
          }
        }
      ]
    },
    {
      "cell_type": "code",
      "source": [
        "corrmat = df_copy.corr()"
      ],
      "metadata": {
        "id": "GoOeMfKOdsMZ"
      },
      "execution_count": 33,
      "outputs": []
    },
    {
      "cell_type": "code",
      "source": [
        "import seaborn as sns\n",
        "f, ax = plt.subplots(figsize = (20,10))\n",
        "sns.heatmap(corrmat, vmax = .9, square = True,annot = True)"
      ],
      "metadata": {
        "colab": {
          "base_uri": "https://localhost:8080/",
          "height": 613
        },
        "id": "g3_calCxd4R_",
        "outputId": "621a58c4-8559-4ee9-84bd-f5e792df193b"
      },
      "execution_count": 36,
      "outputs": [
        {
          "output_type": "execute_result",
          "data": {
            "text/plain": [
              "<matplotlib.axes._subplots.AxesSubplot at 0x7fe22a6e55d0>"
            ]
          },
          "metadata": {},
          "execution_count": 36
        },
        {
          "output_type": "display_data",
          "data": {
            "text/plain": [
              "<Figure size 1440x720 with 2 Axes>"
            ],
            "image/png": "[encoded data removed]"
          },
          "metadata": {
            "needs_background": "light"
          }
        }
      ]
    },
    {
      "cell_type": "code",
      "source": [
        "sns.displot(df['amount_credit'])"
      ],
      "metadata": {
        "colab": {
          "base_uri": "https://localhost:8080/",
          "height": 386
        },
        "id": "jFPX0m7qlum6",
        "outputId": "f56ff8ce-8b64-4f12-ec3b-038b5b26ef1c"
      },
      "execution_count": 37,
      "outputs": [
        {
          "output_type": "execute_result",
          "data": {
            "text/plain": [
              "<seaborn.axisgrid.FacetGrid at 0x7fe22a2c4b90>"
            ]
          },
          "metadata": {},
          "execution_count": 37
        },
        {
          "output_type": "display_data",
          "data": {
            "text/plain": [
              "<Figure size 360x360 with 1 Axes>"
            ],
            "image/png": "[encoded data removed]"
          },
          "metadata": {
            "needs_background": "light"
          }
        }
      ]
    },
    {
      "cell_type": "markdown",
      "source": [
        "---"
      ],
      "metadata": {
        "id": "B0fG1qyHDP4D"
      }
    },
    {
      "cell_type": "markdown",
      "source": [
        "# Parte 3: Preparación de los datos"
      ],
      "metadata": {
        "id": "MC_DpWb4cq91"
      }
    },
    {
      "cell_type": "markdown",
      "source": [
        "## Instruciones\n",
        "\n",
        "Con base en los resultados de tu libreta de Google Colab de la Parte 2 responde detalladamente las siguientes preguntas: \n",
        "\n",
        "1.\t¿Qué datos considero mas importantes? ¿Por qué?\n",
        "2.\t¿Se eliminaron o reemplazaron datos nulos? ¿Qué se hizo y por qué?\n",
        "3.\t¿Es necesario ordenar los datos para el análisis? Sí / No / ¿Por qué?\n",
        "4.\t¿Existen problemas de formato que deban solucionar antes del proceso de modelado? Sí / No / Por qué.\n",
        "5.\t¿Qué ajustes se realizaron en el proceso de limpieza de datos (agregar, integrar, eliminar, modificar registros (filas), cambiar atributos (columnas)?"
      ],
      "metadata": {
        "id": "Rhf56mGEcyW1"
      }
    }
  ]
}