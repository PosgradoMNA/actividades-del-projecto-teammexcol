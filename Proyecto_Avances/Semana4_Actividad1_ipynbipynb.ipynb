{
  "nbformat": 4,
  "nbformat_minor": 0,
  "metadata": {
    "colab": {
      "provenance": [],
      "collapsed_sections": [],
      "toc_visible": true,
      "authorship_tag": "ABX9TyOx8ZoVqY5xlf2uuNq8T20L",
      "include_colab_link": true
    },
    "kernelspec": {
      "name": "python3",
      "display_name": "Python 3"
    },
    "language_info": {
      "name": "python"
    }
  },
  "cells": [
    {
      "cell_type": "markdown",
      "metadata": {
        "id": "view-in-github",
        "colab_type": "text"
      },
      "source": [
        "<a href=\"https://colab.research.google.com/github/PosgradoMNA/actividades-del-projecto-teammexcol/blob/main/Proyecto_Avances/Semana4_Actividad1_ipynbipynb.ipynb\" target=\"_parent\"><img src=\"https://colab.research.google.com/assets/colab-badge.svg\" alt=\"Open In Colab\"/></a>"
      ]
    },
    {
      "cell_type": "markdown",
      "source": [
        "# Presentación\n",
        "\n",
        "Ciencia y Analítica de Datos\n",
        "\n",
        "**Equipo 40**\n",
        "\n",
        "Por:\n",
        "\n",
        "* Víctor Alejandro Regueira Romero - A01794404\n",
        "* Carlos Julio León Caicedo - A01793947\n",
        "\n",
        "Profesor asignado:\n",
        "\n",
        "* Roberto Antonio Guevara González\n",
        "\n",
        "A 11 de octubre de 2022\n",
        "---"
      ],
      "metadata": {
        "id": "4fTpjxQsELzn"
      }
    },
    {
      "cell_type": "markdown",
      "source": [
        "# Parte 1: Ejercicio guiado "
      ],
      "metadata": {
        "id": "M8wO7CuV7-b3"
      }
    },
    {
      "cell_type": "markdown",
      "source": [
        "Asignamos a la variable input la liga con nuestro dataset que ya ha pasado por limpieza y filtrado."
      ],
      "metadata": {
        "id": "V-LWGjZmK0MZ"
      }
    },
    {
      "cell_type": "code",
      "execution_count": 1,
      "metadata": {
        "id": "jMQXLYDF8q_y"
      },
      "outputs": [],
      "source": [
        "input = \"https://raw.githubusercontent.com/PosgradoMNA/actividades-del-projecto-teammexcol/main/Proyecto_Avances/Dataset_Cleaned.csv\""
      ]
    },
    {
      "cell_type": "markdown",
      "source": [
        "Librerías"
      ],
      "metadata": {
        "id": "TkwAwQs1K_Cf"
      }
    },
    {
      "cell_type": "code",
      "source": [
        "import pandas as pd\n",
        "import numpy as np\n",
        "import seaborn as sns\n",
        "import matplotlib.pyplot as plt"
      ],
      "metadata": {
        "id": "2ngwYsIcNAKA"
      },
      "execution_count": 2,
      "outputs": []
    },
    {
      "cell_type": "markdown",
      "source": [
        "Importamos el dataset dentro de la variable df y asignamos la columna ID como index"
      ],
      "metadata": {
        "id": "uE0luKffLAcB"
      }
    },
    {
      "cell_type": "code",
      "source": [
        "df = pd.read_csv(input, index_col = 'ID')"
      ],
      "metadata": {
        "id": "QoQxVSJ69LBW"
      },
      "execution_count": 3,
      "outputs": []
    },
    {
      "cell_type": "code",
      "source": [
        "lista_amt= list(df.iloc[:,11:17])\n",
        "lista_amt"
      ],
      "metadata": {
        "colab": {
          "base_uri": "https://localhost:8080/"
        },
        "id": "yGy8W-ww_JBS",
        "outputId": "ce2c117b-91bb-4e86-c1ec-8b59c0ce9a11"
      },
      "execution_count": 4,
      "outputs": [
        {
          "output_type": "execute_result",
          "data": {
            "text/plain": [
              "['amt_sep', 'amt_aug', 'amt_jul', 'amt_jun', 'amt_may', 'amt_apl']"
            ]
          },
          "metadata": {},
          "execution_count": 4
        }
      ]
    },
    {
      "cell_type": "code",
      "source": [
        "lista_paid = list(df.iloc[:,17:23])\n",
        "lista_paid"
      ],
      "metadata": {
        "colab": {
          "base_uri": "https://localhost:8080/"
        },
        "id": "xwswLLr-8GT9",
        "outputId": "90646997-1554-4fe1-a20b-353b78768e32"
      },
      "execution_count": 5,
      "outputs": [
        {
          "output_type": "execute_result",
          "data": {
            "text/plain": [
              "['paid_sep', 'paid_aug', 'paid_jul', 'paid_jun', 'paid_may', 'paid_apl']"
            ]
          },
          "metadata": {},
          "execution_count": 5
        }
      ]
    },
    {
      "cell_type": "code",
      "source": [
        "lista_hry = list(df.iloc[:,5:11])\n",
        "lista_hry"
      ],
      "metadata": {
        "colab": {
          "base_uri": "https://localhost:8080/"
        },
        "id": "oVq1iWll84Kl",
        "outputId": "37299d9b-e08d-44d8-cdbd-3d3dd594d8ee"
      },
      "execution_count": 6,
      "outputs": [
        {
          "output_type": "execute_result",
          "data": {
            "text/plain": [
              "['hry_sep', 'hry_aug', 'hry_jul', 'hry_jun', 'hry_may', 'hry_apl']"
            ]
          },
          "metadata": {},
          "execution_count": 6
        }
      ]
    },
    {
      "cell_type": "code",
      "source": [
        "df = df.drop(columns = lista_hry)"
      ],
      "metadata": {
        "id": "yd_eTdaG18gP"
      },
      "execution_count": 7,
      "outputs": []
    },
    {
      "cell_type": "code",
      "source": [
        "df = df.drop(columns = lista_paid)"
      ],
      "metadata": {
        "id": "RG2_FFME9SAI"
      },
      "execution_count": 8,
      "outputs": []
    },
    {
      "cell_type": "code",
      "source": [
        "#df = df.drop(columns = lista_amt) # No eliminamos los valores de amt"
      ],
      "metadata": {
        "id": "ilr30XMm_gJZ"
      },
      "execution_count": 9,
      "outputs": []
    },
    {
      "cell_type": "code",
      "source": [
        "df = df.drop(columns = ['marital_status', 'education','gender'])"
      ],
      "metadata": {
        "id": "X9HynUe49nv4"
      },
      "execution_count": 10,
      "outputs": []
    },
    {
      "cell_type": "code",
      "source": [
        "df.head()"
      ],
      "metadata": {
        "colab": {
          "base_uri": "https://localhost:8080/",
          "height": 237
        },
        "id": "ggG5v-D2_dsO",
        "outputId": "494fbe7b-e3e8-4eae-b294-9f29ed91d2c9"
      },
      "execution_count": 11,
      "outputs": [
        {
          "output_type": "execute_result",
          "data": {
            "text/plain": [
              "    amount_credit   age  amt_sep  amt_aug  amt_jul  amt_jun  amt_may  amt_apl  \\\n",
              "ID                                                                              \n",
              "1           20000  24.0   3913.0   3102.0    689.0      0.0      0.0      0.0   \n",
              "2          120000  26.0   2682.0   1725.0   2682.0   3272.0   3455.0   3261.0   \n",
              "3           90000  34.0  29239.0  14027.0  13559.0  14331.0  14948.0  15549.0   \n",
              "4           50000  37.0  46990.0  48233.0  49291.0  28314.0  28959.0  29547.0   \n",
              "5           50000  57.0   8617.0   5670.0  35835.0  20940.0  19146.0  19131.0   \n",
              "\n",
              "      Y  total_amt  total_paid  \n",
              "ID                              \n",
              "1   1.0     7704.0       689.0  \n",
              "2   1.0    17077.0      5000.0  \n",
              "3   0.0   101653.0     11018.0  \n",
              "4   0.0   231334.0      8388.0  \n",
              "5   0.0   109339.0     59049.0  "
            ],
            "text/html": [
              "\n",
              "  <div id=\"df-5e311554-d2f5-4e2c-a0ad-4c65ea204ecd\">\n",
              "    <div class=\"colab-df-container\">\n",
              "      <div>\n",
              "<style scoped>\n",
              "    .dataframe tbody tr th:only-of-type {\n",
              "        vertical-align: middle;\n",
              "    }\n",
              "\n",
              "    .dataframe tbody tr th {\n",
              "        vertical-align: top;\n",
              "    }\n",
              "\n",
              "    .dataframe thead th {\n",
              "        text-align: right;\n",
              "    }\n",
              "</style>\n",
              "<table border=\"1\" class=\"dataframe\">\n",
              "  <thead>\n",
              "    <tr style=\"text-align: right;\">\n",
              "      <th></th>\n",
              "      <th>amount_credit</th>\n",
              "      <th>age</th>\n",
              "      <th>amt_sep</th>\n",
              "      <th>amt_aug</th>\n",
              "      <th>amt_jul</th>\n",
              "      <th>amt_jun</th>\n",
              "      <th>amt_may</th>\n",
              "      <th>amt_apl</th>\n",
              "      <th>Y</th>\n",
              "      <th>total_amt</th>\n",
              "      <th>total_paid</th>\n",
              "    </tr>\n",
              "    <tr>\n",
              "      <th>ID</th>\n",
              "      <th></th>\n",
              "      <th></th>\n",
              "      <th></th>\n",
              "      <th></th>\n",
              "      <th></th>\n",
              "      <th></th>\n",
              "      <th></th>\n",
              "      <th></th>\n",
              "      <th></th>\n",
              "      <th></th>\n",
              "      <th></th>\n",
              "    </tr>\n",
              "  </thead>\n",
              "  <tbody>\n",
              "    <tr>\n",
              "      <th>1</th>\n",
              "      <td>20000</td>\n",
              "      <td>24.0</td>\n",
              "      <td>3913.0</td>\n",
              "      <td>3102.0</td>\n",
              "      <td>689.0</td>\n",
              "      <td>0.0</td>\n",
              "      <td>0.0</td>\n",
              "      <td>0.0</td>\n",
              "      <td>1.0</td>\n",
              "      <td>7704.0</td>\n",
              "      <td>689.0</td>\n",
              "    </tr>\n",
              "    <tr>\n",
              "      <th>2</th>\n",
              "      <td>120000</td>\n",
              "      <td>26.0</td>\n",
              "      <td>2682.0</td>\n",
              "      <td>1725.0</td>\n",
              "      <td>2682.0</td>\n",
              "      <td>3272.0</td>\n",
              "      <td>3455.0</td>\n",
              "      <td>3261.0</td>\n",
              "      <td>1.0</td>\n",
              "      <td>17077.0</td>\n",
              "      <td>5000.0</td>\n",
              "    </tr>\n",
              "    <tr>\n",
              "      <th>3</th>\n",
              "      <td>90000</td>\n",
              "      <td>34.0</td>\n",
              "      <td>29239.0</td>\n",
              "      <td>14027.0</td>\n",
              "      <td>13559.0</td>\n",
              "      <td>14331.0</td>\n",
              "      <td>14948.0</td>\n",
              "      <td>15549.0</td>\n",
              "      <td>0.0</td>\n",
              "      <td>101653.0</td>\n",
              "      <td>11018.0</td>\n",
              "    </tr>\n",
              "    <tr>\n",
              "      <th>4</th>\n",
              "      <td>50000</td>\n",
              "      <td>37.0</td>\n",
              "      <td>46990.0</td>\n",
              "      <td>48233.0</td>\n",
              "      <td>49291.0</td>\n",
              "      <td>28314.0</td>\n",
              "      <td>28959.0</td>\n",
              "      <td>29547.0</td>\n",
              "      <td>0.0</td>\n",
              "      <td>231334.0</td>\n",
              "      <td>8388.0</td>\n",
              "    </tr>\n",
              "    <tr>\n",
              "      <th>5</th>\n",
              "      <td>50000</td>\n",
              "      <td>57.0</td>\n",
              "      <td>8617.0</td>\n",
              "      <td>5670.0</td>\n",
              "      <td>35835.0</td>\n",
              "      <td>20940.0</td>\n",
              "      <td>19146.0</td>\n",
              "      <td>19131.0</td>\n",
              "      <td>0.0</td>\n",
              "      <td>109339.0</td>\n",
              "      <td>59049.0</td>\n",
              "    </tr>\n",
              "  </tbody>\n",
              "</table>\n",
              "</div>\n",
              "      <button class=\"colab-df-convert\" onclick=\"convertToInteractive('df-5e311554-d2f5-4e2c-a0ad-4c65ea204ecd')\"\n",
              "              title=\"Convert this dataframe to an interactive table.\"\n",
              "              style=\"display:none;\">\n",
              "        \n",
              "  <svg xmlns=\"http://www.w3.org/2000/svg\" height=\"24px\"viewBox=\"0 0 24 24\"\n",
              "       width=\"24px\">\n",
              "    <path d=\"M0 0h24v24H0V0z\" fill=\"none\"/>\n",
              "    <path d=\"M18.56 5.44l.94 2.06.94-2.06 2.06-.94-2.06-.94-.94-2.06-.94 2.06-2.06.94zm-11 1L8.5 8.5l.94-2.06 2.06-.94-2.06-.94L8.5 2.5l-.94 2.06-2.06.94zm10 10l.94 2.06.94-2.06 2.06-.94-2.06-.94-.94-2.06-.94 2.06-2.06.94z\"/><path d=\"M17.41 7.96l-1.37-1.37c-.4-.4-.92-.59-1.43-.59-.52 0-1.04.2-1.43.59L10.3 9.45l-7.72 7.72c-.78.78-.78 2.05 0 2.83L4 21.41c.39.39.9.59 1.41.59.51 0 1.02-.2 1.41-.59l7.78-7.78 2.81-2.81c.8-.78.8-2.07 0-2.86zM5.41 20L4 18.59l7.72-7.72 1.47 1.35L5.41 20z\"/>\n",
              "  </svg>\n",
              "      </button>\n",
              "      \n",
              "  <style>\n",
              "    .colab-df-container {\n",
              "      display:flex;\n",
              "      flex-wrap:wrap;\n",
              "      gap: 12px;\n",
              "    }\n",
              "\n",
              "    .colab-df-convert {\n",
              "      background-color: #E8F0FE;\n",
              "      border: none;\n",
              "      border-radius: 50%;\n",
              "      cursor: pointer;\n",
              "      display: none;\n",
              "      fill: #1967D2;\n",
              "      height: 32px;\n",
              "      padding: 0 0 0 0;\n",
              "      width: 32px;\n",
              "    }\n",
              "\n",
              "    .colab-df-convert:hover {\n",
              "      background-color: #E2EBFA;\n",
              "      box-shadow: 0px 1px 2px rgba(60, 64, 67, 0.3), 0px 1px 3px 1px rgba(60, 64, 67, 0.15);\n",
              "      fill: #174EA6;\n",
              "    }\n",
              "\n",
              "    [theme=dark] .colab-df-convert {\n",
              "      background-color: #3B4455;\n",
              "      fill: #D2E3FC;\n",
              "    }\n",
              "\n",
              "    [theme=dark] .colab-df-convert:hover {\n",
              "      background-color: #434B5C;\n",
              "      box-shadow: 0px 1px 3px 1px rgba(0, 0, 0, 0.15);\n",
              "      filter: drop-shadow(0px 1px 2px rgba(0, 0, 0, 0.3));\n",
              "      fill: #FFFFFF;\n",
              "    }\n",
              "  </style>\n",
              "\n",
              "      <script>\n",
              "        const buttonEl =\n",
              "          document.querySelector('#df-5e311554-d2f5-4e2c-a0ad-4c65ea204ecd button.colab-df-convert');\n",
              "        buttonEl.style.display =\n",
              "          google.colab.kernel.accessAllowed ? 'block' : 'none';\n",
              "\n",
              "        async function convertToInteractive(key) {\n",
              "          const element = document.querySelector('#df-5e311554-d2f5-4e2c-a0ad-4c65ea204ecd');\n",
              "          const dataTable =\n",
              "            await google.colab.kernel.invokeFunction('convertToInteractive',\n",
              "                                                     [key], {});\n",
              "          if (!dataTable) return;\n",
              "\n",
              "          const docLinkHtml = 'Like what you see? Visit the ' +\n",
              "            '<a target=\"_blank\" href=https://colab.research.google.com/notebooks/data_table.ipynb>data table notebook</a>'\n",
              "            + ' to learn more about interactive tables.';\n",
              "          element.innerHTML = '';\n",
              "          dataTable['output_type'] = 'display_data';\n",
              "          await google.colab.output.renderOutput(dataTable, element);\n",
              "          const docLink = document.createElement('div');\n",
              "          docLink.innerHTML = docLinkHtml;\n",
              "          element.appendChild(docLink);\n",
              "        }\n",
              "      </script>\n",
              "    </div>\n",
              "  </div>\n",
              "  "
            ]
          },
          "metadata": {},
          "execution_count": 11
        }
      ]
    },
    {
      "cell_type": "markdown",
      "source": [
        "## Normalización\n",
        "\n",
        "Para este caso debido a que la variable de salida Y se encuentra en el rango con valores de [0,1], hemos dicidido normalizar nuestro dataframe completo antes de realizar el análisis de componentes principales.\n",
        "\n",
        "Por lo tanto, utilizaremos Normalización mín.-máx. ajustando los valores de registros para mantener un rango objetivo de [0, 1].\n",
        "\n",
        "Para eso haremos la escalación usando la librería sklearn.preprocessing, e importaremos el método **MinMaxScaler**"
      ],
      "metadata": {
        "id": "7TZigMnEKwEZ"
      }
    },
    {
      "cell_type": "code",
      "source": [
        "from sklearn.preprocessing import MinMaxScaler"
      ],
      "metadata": {
        "id": "S0IssH9RKtaG"
      },
      "execution_count": 12,
      "outputs": []
    },
    {
      "cell_type": "markdown",
      "source": [
        "Definimos una variable para almacenar todos los nombres de nuestras columnas (atributos)"
      ],
      "metadata": {
        "id": "FZrNTVpiirp4"
      }
    },
    {
      "cell_type": "code",
      "source": [
        "cols = df.columns"
      ],
      "metadata": {
        "id": "0ogjTMxJhKXp"
      },
      "execution_count": 13,
      "outputs": []
    },
    {
      "cell_type": "markdown",
      "source": [
        "Corremos el método **MinMaxScaler()** y a este resultado le aplicamos el método fit_transform() para escalar nuestro DataFrame a valores entre [0,1]."
      ],
      "metadata": {
        "id": "uy-0EJUkizJG"
      }
    },
    {
      "cell_type": "code",
      "source": [
        "df[cols] = MinMaxScaler().fit_transform(df[cols])\n",
        "df.head(5)"
      ],
      "metadata": {
        "colab": {
          "base_uri": "https://localhost:8080/",
          "height": 237
        },
        "id": "8w3ddxmPg0bn",
        "outputId": "3940b339-4c08-4ae0-9a78-79c517b9d82a"
      },
      "execution_count": 14,
      "outputs": [
        {
          "output_type": "execute_result",
          "data": {
            "text/plain": [
              "    amount_credit       age   amt_sep   amt_aug   amt_jul   amt_jun   amt_may  \\\n",
              "ID                                                                              \n",
              "1        0.010101  0.051724  0.149982  0.069164  0.086723  0.160138  0.080648   \n",
              "2        0.111111  0.086207  0.148892  0.067858  0.087817  0.163220  0.084074   \n",
              "3        0.080808  0.224138  0.172392  0.079532  0.093789  0.173637  0.095470   \n",
              "4        0.040404  0.275862  0.188100  0.111995  0.113407  0.186809  0.109363   \n",
              "5        0.040404  0.620690  0.154144  0.071601  0.106020  0.179863  0.099633   \n",
              "\n",
              "     amt_apl    Y  total_amt  total_paid  \n",
              "ID                                        \n",
              "1   0.260979  1.0   0.061420    0.000183  \n",
              "2   0.263485  1.0   0.063094    0.001328  \n",
              "3   0.272928  0.0   0.078197    0.002927  \n",
              "4   0.283685  0.0   0.101353    0.002228  \n",
              "5   0.275681  0.0   0.079569    0.015688  "
            ],
            "text/html": [
              "\n",
              "  <div id=\"df-cce3244f-c762-473e-8792-8b4d696ffe4c\">\n",
              "    <div class=\"colab-df-container\">\n",
              "      <div>\n",
              "<style scoped>\n",
              "    .dataframe tbody tr th:only-of-type {\n",
              "        vertical-align: middle;\n",
              "    }\n",
              "\n",
              "    .dataframe tbody tr th {\n",
              "        vertical-align: top;\n",
              "    }\n",
              "\n",
              "    .dataframe thead th {\n",
              "        text-align: right;\n",
              "    }\n",
              "</style>\n",
              "<table border=\"1\" class=\"dataframe\">\n",
              "  <thead>\n",
              "    <tr style=\"text-align: right;\">\n",
              "      <th></th>\n",
              "      <th>amount_credit</th>\n",
              "      <th>age</th>\n",
              "      <th>amt_sep</th>\n",
              "      <th>amt_aug</th>\n",
              "      <th>amt_jul</th>\n",
              "      <th>amt_jun</th>\n",
              "      <th>amt_may</th>\n",
              "      <th>amt_apl</th>\n",
              "      <th>Y</th>\n",
              "      <th>total_amt</th>\n",
              "      <th>total_paid</th>\n",
              "    </tr>\n",
              "    <tr>\n",
              "      <th>ID</th>\n",
              "      <th></th>\n",
              "      <th></th>\n",
              "      <th></th>\n",
              "      <th></th>\n",
              "      <th></th>\n",
              "      <th></th>\n",
              "      <th></th>\n",
              "      <th></th>\n",
              "      <th></th>\n",
              "      <th></th>\n",
              "      <th></th>\n",
              "    </tr>\n",
              "  </thead>\n",
              "  <tbody>\n",
              "    <tr>\n",
              "      <th>1</th>\n",
              "      <td>0.010101</td>\n",
              "      <td>0.051724</td>\n",
              "      <td>0.149982</td>\n",
              "      <td>0.069164</td>\n",
              "      <td>0.086723</td>\n",
              "      <td>0.160138</td>\n",
              "      <td>0.080648</td>\n",
              "      <td>0.260979</td>\n",
              "      <td>1.0</td>\n",
              "      <td>0.061420</td>\n",
              "      <td>0.000183</td>\n",
              "    </tr>\n",
              "    <tr>\n",
              "      <th>2</th>\n",
              "      <td>0.111111</td>\n",
              "      <td>0.086207</td>\n",
              "      <td>0.148892</td>\n",
              "      <td>0.067858</td>\n",
              "      <td>0.087817</td>\n",
              "      <td>0.163220</td>\n",
              "      <td>0.084074</td>\n",
              "      <td>0.263485</td>\n",
              "      <td>1.0</td>\n",
              "      <td>0.063094</td>\n",
              "      <td>0.001328</td>\n",
              "    </tr>\n",
              "    <tr>\n",
              "      <th>3</th>\n",
              "      <td>0.080808</td>\n",
              "      <td>0.224138</td>\n",
              "      <td>0.172392</td>\n",
              "      <td>0.079532</td>\n",
              "      <td>0.093789</td>\n",
              "      <td>0.173637</td>\n",
              "      <td>0.095470</td>\n",
              "      <td>0.272928</td>\n",
              "      <td>0.0</td>\n",
              "      <td>0.078197</td>\n",
              "      <td>0.002927</td>\n",
              "    </tr>\n",
              "    <tr>\n",
              "      <th>4</th>\n",
              "      <td>0.040404</td>\n",
              "      <td>0.275862</td>\n",
              "      <td>0.188100</td>\n",
              "      <td>0.111995</td>\n",
              "      <td>0.113407</td>\n",
              "      <td>0.186809</td>\n",
              "      <td>0.109363</td>\n",
              "      <td>0.283685</td>\n",
              "      <td>0.0</td>\n",
              "      <td>0.101353</td>\n",
              "      <td>0.002228</td>\n",
              "    </tr>\n",
              "    <tr>\n",
              "      <th>5</th>\n",
              "      <td>0.040404</td>\n",
              "      <td>0.620690</td>\n",
              "      <td>0.154144</td>\n",
              "      <td>0.071601</td>\n",
              "      <td>0.106020</td>\n",
              "      <td>0.179863</td>\n",
              "      <td>0.099633</td>\n",
              "      <td>0.275681</td>\n",
              "      <td>0.0</td>\n",
              "      <td>0.079569</td>\n",
              "      <td>0.015688</td>\n",
              "    </tr>\n",
              "  </tbody>\n",
              "</table>\n",
              "</div>\n",
              "      <button class=\"colab-df-convert\" onclick=\"convertToInteractive('df-cce3244f-c762-473e-8792-8b4d696ffe4c')\"\n",
              "              title=\"Convert this dataframe to an interactive table.\"\n",
              "              style=\"display:none;\">\n",
              "        \n",
              "  <svg xmlns=\"http://www.w3.org/2000/svg\" height=\"24px\"viewBox=\"0 0 24 24\"\n",
              "       width=\"24px\">\n",
              "    <path d=\"M0 0h24v24H0V0z\" fill=\"none\"/>\n",
              "    <path d=\"M18.56 5.44l.94 2.06.94-2.06 2.06-.94-2.06-.94-.94-2.06-.94 2.06-2.06.94zm-11 1L8.5 8.5l.94-2.06 2.06-.94-2.06-.94L8.5 2.5l-.94 2.06-2.06.94zm10 10l.94 2.06.94-2.06 2.06-.94-2.06-.94-.94-2.06-.94 2.06-2.06.94z\"/><path d=\"M17.41 7.96l-1.37-1.37c-.4-.4-.92-.59-1.43-.59-.52 0-1.04.2-1.43.59L10.3 9.45l-7.72 7.72c-.78.78-.78 2.05 0 2.83L4 21.41c.39.39.9.59 1.41.59.51 0 1.02-.2 1.41-.59l7.78-7.78 2.81-2.81c.8-.78.8-2.07 0-2.86zM5.41 20L4 18.59l7.72-7.72 1.47 1.35L5.41 20z\"/>\n",
              "  </svg>\n",
              "      </button>\n",
              "      \n",
              "  <style>\n",
              "    .colab-df-container {\n",
              "      display:flex;\n",
              "      flex-wrap:wrap;\n",
              "      gap: 12px;\n",
              "    }\n",
              "\n",
              "    .colab-df-convert {\n",
              "      background-color: #E8F0FE;\n",
              "      border: none;\n",
              "      border-radius: 50%;\n",
              "      cursor: pointer;\n",
              "      display: none;\n",
              "      fill: #1967D2;\n",
              "      height: 32px;\n",
              "      padding: 0 0 0 0;\n",
              "      width: 32px;\n",
              "    }\n",
              "\n",
              "    .colab-df-convert:hover {\n",
              "      background-color: #E2EBFA;\n",
              "      box-shadow: 0px 1px 2px rgba(60, 64, 67, 0.3), 0px 1px 3px 1px rgba(60, 64, 67, 0.15);\n",
              "      fill: #174EA6;\n",
              "    }\n",
              "\n",
              "    [theme=dark] .colab-df-convert {\n",
              "      background-color: #3B4455;\n",
              "      fill: #D2E3FC;\n",
              "    }\n",
              "\n",
              "    [theme=dark] .colab-df-convert:hover {\n",
              "      background-color: #434B5C;\n",
              "      box-shadow: 0px 1px 3px 1px rgba(0, 0, 0, 0.15);\n",
              "      filter: drop-shadow(0px 1px 2px rgba(0, 0, 0, 0.3));\n",
              "      fill: #FFFFFF;\n",
              "    }\n",
              "  </style>\n",
              "\n",
              "      <script>\n",
              "        const buttonEl =\n",
              "          document.querySelector('#df-cce3244f-c762-473e-8792-8b4d696ffe4c button.colab-df-convert');\n",
              "        buttonEl.style.display =\n",
              "          google.colab.kernel.accessAllowed ? 'block' : 'none';\n",
              "\n",
              "        async function convertToInteractive(key) {\n",
              "          const element = document.querySelector('#df-cce3244f-c762-473e-8792-8b4d696ffe4c');\n",
              "          const dataTable =\n",
              "            await google.colab.kernel.invokeFunction('convertToInteractive',\n",
              "                                                     [key], {});\n",
              "          if (!dataTable) return;\n",
              "\n",
              "          const docLinkHtml = 'Like what you see? Visit the ' +\n",
              "            '<a target=\"_blank\" href=https://colab.research.google.com/notebooks/data_table.ipynb>data table notebook</a>'\n",
              "            + ' to learn more about interactive tables.';\n",
              "          element.innerHTML = '';\n",
              "          dataTable['output_type'] = 'display_data';\n",
              "          await google.colab.output.renderOutput(dataTable, element);\n",
              "          const docLink = document.createElement('div');\n",
              "          docLink.innerHTML = docLinkHtml;\n",
              "          element.appendChild(docLink);\n",
              "        }\n",
              "      </script>\n",
              "    </div>\n",
              "  </div>\n",
              "  "
            ]
          },
          "metadata": {},
          "execution_count": 14
        }
      ]
    },
    {
      "cell_type": "markdown",
      "source": [
        "## Determinación de Componentes Principales (PC)\n",
        "Es en el siguiente flujo en donde determinaremos cuál es el número de componentes que tienen la mayor concentración de proporción acumulada de la varianza."
      ],
      "metadata": {
        "id": "-H7H_zFsip4T"
      }
    },
    {
      "cell_type": "markdown",
      "source": [
        "Comenzamos importando la función PCA de la librería sklearn módulo decomposition"
      ],
      "metadata": {
        "id": "I4fcVgRxj-I4"
      }
    },
    {
      "cell_type": "code",
      "source": [
        "import numpy as np\n",
        "from sklearn.decomposition import PCA"
      ],
      "metadata": {
        "id": "eI76ivRVj0Qh"
      },
      "execution_count": 15,
      "outputs": []
    },
    {
      "cell_type": "code",
      "source": [
        "from sklearn import preprocessing"
      ],
      "metadata": {
        "id": "ZpiO5erzj9Ly"
      },
      "execution_count": 16,
      "outputs": []
    },
    {
      "cell_type": "code",
      "source": [
        "pcs = PCA()\n",
        "pcs.fit(preprocessing.scale(df))"
      ],
      "metadata": {
        "colab": {
          "base_uri": "https://localhost:8080/"
        },
        "id": "k35Gvn5VkN77",
        "outputId": "e6516e31-05e8-439a-b8e1-54a471ec054b"
      },
      "execution_count": 17,
      "outputs": [
        {
          "output_type": "execute_result",
          "data": {
            "text/plain": [
              "PCA()"
            ]
          },
          "metadata": {},
          "execution_count": 17
        }
      ]
    },
    {
      "cell_type": "code",
      "source": [
        "pcsSummary_df = pd.DataFrame({'Standard deviation': np.sqrt(pcs.explained_variance_),\n",
        "                             'Proportion of variance': pcs.explained_variance_ratio_,\n",
        "                             'Cumulative proportion': np.cumsum(pcs.explained_variance_ratio_)\n",
        "                             })\n",
        "\n",
        "pcsSummary_df = pcsSummary_df.transpose()\n",
        "pcsSummary_df.columns = ['PC{}'.format(i) for i in range(1, len(pcsSummary_df.columns) + 1)]\n",
        "pcsSummary_df.round(4)"
      ],
      "metadata": {
        "colab": {
          "base_uri": "https://localhost:8080/",
          "height": 143
        },
        "id": "JMMGSKQLkP3e",
        "outputId": "3e22a57d-ae4e-425a-ec82-919ed3247adc"
      },
      "execution_count": 18,
      "outputs": [
        {
          "output_type": "execute_result",
          "data": {
            "text/plain": [
              "                           PC1     PC2     PC3     PC4     PC5     PC6  \\\n",
              "Standard deviation      2.5872  1.1196  1.0080  0.9249  0.7959  0.5399   \n",
              "Proportion of variance  0.6085  0.1140  0.0924  0.0778  0.0576  0.0265   \n",
              "Cumulative proportion   0.6085  0.7224  0.8148  0.8926  0.9502  0.9767   \n",
              "\n",
              "                           PC7     PC8     PC9    PC10  PC11  \n",
              "Standard deviation      0.3297  0.2572  0.2038  0.2008   0.0  \n",
              "Proportion of variance  0.0099  0.0060  0.0038  0.0037   0.0  \n",
              "Cumulative proportion   0.9865  0.9926  0.9963  1.0000   1.0  "
            ],
            "text/html": [
              "\n",
              "  <div id=\"df-a639f6b2-06de-484c-b6ed-7e7a6b576d98\">\n",
              "    <div class=\"colab-df-container\">\n",
              "      <div>\n",
              "<style scoped>\n",
              "    .dataframe tbody tr th:only-of-type {\n",
              "        vertical-align: middle;\n",
              "    }\n",
              "\n",
              "    .dataframe tbody tr th {\n",
              "        vertical-align: top;\n",
              "    }\n",
              "\n",
              "    .dataframe thead th {\n",
              "        text-align: right;\n",
              "    }\n",
              "</style>\n",
              "<table border=\"1\" class=\"dataframe\">\n",
              "  <thead>\n",
              "    <tr style=\"text-align: right;\">\n",
              "      <th></th>\n",
              "      <th>PC1</th>\n",
              "      <th>PC2</th>\n",
              "      <th>PC3</th>\n",
              "      <th>PC4</th>\n",
              "      <th>PC5</th>\n",
              "      <th>PC6</th>\n",
              "      <th>PC7</th>\n",
              "      <th>PC8</th>\n",
              "      <th>PC9</th>\n",
              "      <th>PC10</th>\n",
              "      <th>PC11</th>\n",
              "    </tr>\n",
              "  </thead>\n",
              "  <tbody>\n",
              "    <tr>\n",
              "      <th>Standard deviation</th>\n",
              "      <td>2.5872</td>\n",
              "      <td>1.1196</td>\n",
              "      <td>1.0080</td>\n",
              "      <td>0.9249</td>\n",
              "      <td>0.7959</td>\n",
              "      <td>0.5399</td>\n",
              "      <td>0.3297</td>\n",
              "      <td>0.2572</td>\n",
              "      <td>0.2038</td>\n",
              "      <td>0.2008</td>\n",
              "      <td>0.0</td>\n",
              "    </tr>\n",
              "    <tr>\n",
              "      <th>Proportion of variance</th>\n",
              "      <td>0.6085</td>\n",
              "      <td>0.1140</td>\n",
              "      <td>0.0924</td>\n",
              "      <td>0.0778</td>\n",
              "      <td>0.0576</td>\n",
              "      <td>0.0265</td>\n",
              "      <td>0.0099</td>\n",
              "      <td>0.0060</td>\n",
              "      <td>0.0038</td>\n",
              "      <td>0.0037</td>\n",
              "      <td>0.0</td>\n",
              "    </tr>\n",
              "    <tr>\n",
              "      <th>Cumulative proportion</th>\n",
              "      <td>0.6085</td>\n",
              "      <td>0.7224</td>\n",
              "      <td>0.8148</td>\n",
              "      <td>0.8926</td>\n",
              "      <td>0.9502</td>\n",
              "      <td>0.9767</td>\n",
              "      <td>0.9865</td>\n",
              "      <td>0.9926</td>\n",
              "      <td>0.9963</td>\n",
              "      <td>1.0000</td>\n",
              "      <td>1.0</td>\n",
              "    </tr>\n",
              "  </tbody>\n",
              "</table>\n",
              "</div>\n",
              "      <button class=\"colab-df-convert\" onclick=\"convertToInteractive('df-a639f6b2-06de-484c-b6ed-7e7a6b576d98')\"\n",
              "              title=\"Convert this dataframe to an interactive table.\"\n",
              "              style=\"display:none;\">\n",
              "        \n",
              "  <svg xmlns=\"http://www.w3.org/2000/svg\" height=\"24px\"viewBox=\"0 0 24 24\"\n",
              "       width=\"24px\">\n",
              "    <path d=\"M0 0h24v24H0V0z\" fill=\"none\"/>\n",
              "    <path d=\"M18.56 5.44l.94 2.06.94-2.06 2.06-.94-2.06-.94-.94-2.06-.94 2.06-2.06.94zm-11 1L8.5 8.5l.94-2.06 2.06-.94-2.06-.94L8.5 2.5l-.94 2.06-2.06.94zm10 10l.94 2.06.94-2.06 2.06-.94-2.06-.94-.94-2.06-.94 2.06-2.06.94z\"/><path d=\"M17.41 7.96l-1.37-1.37c-.4-.4-.92-.59-1.43-.59-.52 0-1.04.2-1.43.59L10.3 9.45l-7.72 7.72c-.78.78-.78 2.05 0 2.83L4 21.41c.39.39.9.59 1.41.59.51 0 1.02-.2 1.41-.59l7.78-7.78 2.81-2.81c.8-.78.8-2.07 0-2.86zM5.41 20L4 18.59l7.72-7.72 1.47 1.35L5.41 20z\"/>\n",
              "  </svg>\n",
              "      </button>\n",
              "      \n",
              "  <style>\n",
              "    .colab-df-container {\n",
              "      display:flex;\n",
              "      flex-wrap:wrap;\n",
              "      gap: 12px;\n",
              "    }\n",
              "\n",
              "    .colab-df-convert {\n",
              "      background-color: #E8F0FE;\n",
              "      border: none;\n",
              "      border-radius: 50%;\n",
              "      cursor: pointer;\n",
              "      display: none;\n",
              "      fill: #1967D2;\n",
              "      height: 32px;\n",
              "      padding: 0 0 0 0;\n",
              "      width: 32px;\n",
              "    }\n",
              "\n",
              "    .colab-df-convert:hover {\n",
              "      background-color: #E2EBFA;\n",
              "      box-shadow: 0px 1px 2px rgba(60, 64, 67, 0.3), 0px 1px 3px 1px rgba(60, 64, 67, 0.15);\n",
              "      fill: #174EA6;\n",
              "    }\n",
              "\n",
              "    [theme=dark] .colab-df-convert {\n",
              "      background-color: #3B4455;\n",
              "      fill: #D2E3FC;\n",
              "    }\n",
              "\n",
              "    [theme=dark] .colab-df-convert:hover {\n",
              "      background-color: #434B5C;\n",
              "      box-shadow: 0px 1px 3px 1px rgba(0, 0, 0, 0.15);\n",
              "      filter: drop-shadow(0px 1px 2px rgba(0, 0, 0, 0.3));\n",
              "      fill: #FFFFFF;\n",
              "    }\n",
              "  </style>\n",
              "\n",
              "      <script>\n",
              "        const buttonEl =\n",
              "          document.querySelector('#df-a639f6b2-06de-484c-b6ed-7e7a6b576d98 button.colab-df-convert');\n",
              "        buttonEl.style.display =\n",
              "          google.colab.kernel.accessAllowed ? 'block' : 'none';\n",
              "\n",
              "        async function convertToInteractive(key) {\n",
              "          const element = document.querySelector('#df-a639f6b2-06de-484c-b6ed-7e7a6b576d98');\n",
              "          const dataTable =\n",
              "            await google.colab.kernel.invokeFunction('convertToInteractive',\n",
              "                                                     [key], {});\n",
              "          if (!dataTable) return;\n",
              "\n",
              "          const docLinkHtml = 'Like what you see? Visit the ' +\n",
              "            '<a target=\"_blank\" href=https://colab.research.google.com/notebooks/data_table.ipynb>data table notebook</a>'\n",
              "            + ' to learn more about interactive tables.';\n",
              "          element.innerHTML = '';\n",
              "          dataTable['output_type'] = 'display_data';\n",
              "          await google.colab.output.renderOutput(dataTable, element);\n",
              "          const docLink = document.createElement('div');\n",
              "          docLink.innerHTML = docLinkHtml;\n",
              "          element.appendChild(docLink);\n",
              "        }\n",
              "      </script>\n",
              "    </div>\n",
              "  </div>\n",
              "  "
            ]
          },
          "metadata": {},
          "execution_count": 18
        }
      ]
    },
    {
      "cell_type": "code",
      "source": [
        "pcsComponents_df = pd.DataFrame(pcs.components_.transpose(), \n",
        "                                columns=pcsSummary_df.columns,\n",
        "                                index=df.columns\n",
        "                                )\n",
        "pcsComponents_df.iloc[:,:]"
      ],
      "metadata": {
        "colab": {
          "base_uri": "https://localhost:8080/",
          "height": 394
        },
        "id": "EVwP28H-kTH3",
        "outputId": "8db5203d-ed27-4d39-c514-279fa1f0b018"
      },
      "execution_count": 19,
      "outputs": [
        {
          "output_type": "execute_result",
          "data": {
            "text/plain": [
              "                    PC1       PC2       PC3       PC4       PC5       PC6  \\\n",
              "amount_credit  0.142528  0.606901 -0.088020  0.243609 -0.736070 -0.035845   \n",
              "age            0.028634  0.293359 -0.855341 -0.357356  0.231788 -0.008874   \n",
              "amt_sep        0.358452 -0.094258 -0.002206 -0.119104 -0.100884  0.494457   \n",
              "amt_aug        0.367274 -0.095684  0.001541 -0.096949 -0.054615  0.404285   \n",
              "amt_jul        0.370276 -0.062249  0.009484 -0.032442  0.032771  0.196571   \n",
              "amt_jun        0.372522 -0.060192  0.009209 -0.018056  0.029316 -0.184173   \n",
              "amt_may        0.368685 -0.053112  0.009624  0.001746  0.041603 -0.443240   \n",
              "amt_apl        0.360383 -0.046043  0.010398  0.015364  0.054237 -0.541280   \n",
              "Y             -0.012057 -0.523472 -0.501958  0.670237 -0.153808  0.031269   \n",
              "total_amt      0.384802 -0.073536  0.006328 -0.047584 -0.003684  0.020518   \n",
              "total_paid     0.159965  0.485492  0.090876  0.579885  0.600865  0.165220   \n",
              "\n",
              "                    PC7       PC8       PC9      PC10          PC11  \n",
              "amount_credit  0.028925  0.016932 -0.007065 -0.002852 -1.566918e-17  \n",
              "age           -0.001500 -0.001092 -0.000352 -0.000343 -7.710712e-17  \n",
              "amt_sep       -0.459540 -0.250058  0.475415  0.249576  1.782066e-01  \n",
              "amt_aug       -0.126130  0.084574 -0.690656 -0.387800  1.722473e-01  \n",
              "amt_jul        0.593694  0.574664  0.168754  0.280727  1.678305e-01  \n",
              "amt_jun        0.471246 -0.569331  0.231888 -0.445190  1.556867e-01  \n",
              "amt_may       -0.054626 -0.272337 -0.402361  0.634247  1.471278e-01  \n",
              "amt_apl       -0.436153  0.447182  0.229653 -0.328667  1.441204e-01  \n",
              "Y             -0.003001 -0.002284  0.001357  0.000508 -3.961722e-17  \n",
              "total_amt     -0.001641  0.002389  0.004443  0.001558 -9.185590e-01  \n",
              "total_paid    -0.065607 -0.038776 -0.004488 -0.004404 -3.440457e-17  "
            ],
            "text/html": [
              "\n",
              "  <div id=\"df-ec9e08ef-2f56-4d73-8241-73dfa86e3ed4\">\n",
              "    <div class=\"colab-df-container\">\n",
              "      <div>\n",
              "<style scoped>\n",
              "    .dataframe tbody tr th:only-of-type {\n",
              "        vertical-align: middle;\n",
              "    }\n",
              "\n",
              "    .dataframe tbody tr th {\n",
              "        vertical-align: top;\n",
              "    }\n",
              "\n",
              "    .dataframe thead th {\n",
              "        text-align: right;\n",
              "    }\n",
              "</style>\n",
              "<table border=\"1\" class=\"dataframe\">\n",
              "  <thead>\n",
              "    <tr style=\"text-align: right;\">\n",
              "      <th></th>\n",
              "      <th>PC1</th>\n",
              "      <th>PC2</th>\n",
              "      <th>PC3</th>\n",
              "      <th>PC4</th>\n",
              "      <th>PC5</th>\n",
              "      <th>PC6</th>\n",
              "      <th>PC7</th>\n",
              "      <th>PC8</th>\n",
              "      <th>PC9</th>\n",
              "      <th>PC10</th>\n",
              "      <th>PC11</th>\n",
              "    </tr>\n",
              "  </thead>\n",
              "  <tbody>\n",
              "    <tr>\n",
              "      <th>amount_credit</th>\n",
              "      <td>0.142528</td>\n",
              "      <td>0.606901</td>\n",
              "      <td>-0.088020</td>\n",
              "      <td>0.243609</td>\n",
              "      <td>-0.736070</td>\n",
              "      <td>-0.035845</td>\n",
              "      <td>0.028925</td>\n",
              "      <td>0.016932</td>\n",
              "      <td>-0.007065</td>\n",
              "      <td>-0.002852</td>\n",
              "      <td>-1.566918e-17</td>\n",
              "    </tr>\n",
              "    <tr>\n",
              "      <th>age</th>\n",
              "      <td>0.028634</td>\n",
              "      <td>0.293359</td>\n",
              "      <td>-0.855341</td>\n",
              "      <td>-0.357356</td>\n",
              "      <td>0.231788</td>\n",
              "      <td>-0.008874</td>\n",
              "      <td>-0.001500</td>\n",
              "      <td>-0.001092</td>\n",
              "      <td>-0.000352</td>\n",
              "      <td>-0.000343</td>\n",
              "      <td>-7.710712e-17</td>\n",
              "    </tr>\n",
              "    <tr>\n",
              "      <th>amt_sep</th>\n",
              "      <td>0.358452</td>\n",
              "      <td>-0.094258</td>\n",
              "      <td>-0.002206</td>\n",
              "      <td>-0.119104</td>\n",
              "      <td>-0.100884</td>\n",
              "      <td>0.494457</td>\n",
              "      <td>-0.459540</td>\n",
              "      <td>-0.250058</td>\n",
              "      <td>0.475415</td>\n",
              "      <td>0.249576</td>\n",
              "      <td>1.782066e-01</td>\n",
              "    </tr>\n",
              "    <tr>\n",
              "      <th>amt_aug</th>\n",
              "      <td>0.367274</td>\n",
              "      <td>-0.095684</td>\n",
              "      <td>0.001541</td>\n",
              "      <td>-0.096949</td>\n",
              "      <td>-0.054615</td>\n",
              "      <td>0.404285</td>\n",
              "      <td>-0.126130</td>\n",
              "      <td>0.084574</td>\n",
              "      <td>-0.690656</td>\n",
              "      <td>-0.387800</td>\n",
              "      <td>1.722473e-01</td>\n",
              "    </tr>\n",
              "    <tr>\n",
              "      <th>amt_jul</th>\n",
              "      <td>0.370276</td>\n",
              "      <td>-0.062249</td>\n",
              "      <td>0.009484</td>\n",
              "      <td>-0.032442</td>\n",
              "      <td>0.032771</td>\n",
              "      <td>0.196571</td>\n",
              "      <td>0.593694</td>\n",
              "      <td>0.574664</td>\n",
              "      <td>0.168754</td>\n",
              "      <td>0.280727</td>\n",
              "      <td>1.678305e-01</td>\n",
              "    </tr>\n",
              "    <tr>\n",
              "      <th>amt_jun</th>\n",
              "      <td>0.372522</td>\n",
              "      <td>-0.060192</td>\n",
              "      <td>0.009209</td>\n",
              "      <td>-0.018056</td>\n",
              "      <td>0.029316</td>\n",
              "      <td>-0.184173</td>\n",
              "      <td>0.471246</td>\n",
              "      <td>-0.569331</td>\n",
              "      <td>0.231888</td>\n",
              "      <td>-0.445190</td>\n",
              "      <td>1.556867e-01</td>\n",
              "    </tr>\n",
              "    <tr>\n",
              "      <th>amt_may</th>\n",
              "      <td>0.368685</td>\n",
              "      <td>-0.053112</td>\n",
              "      <td>0.009624</td>\n",
              "      <td>0.001746</td>\n",
              "      <td>0.041603</td>\n",
              "      <td>-0.443240</td>\n",
              "      <td>-0.054626</td>\n",
              "      <td>-0.272337</td>\n",
              "      <td>-0.402361</td>\n",
              "      <td>0.634247</td>\n",
              "      <td>1.471278e-01</td>\n",
              "    </tr>\n",
              "    <tr>\n",
              "      <th>amt_apl</th>\n",
              "      <td>0.360383</td>\n",
              "      <td>-0.046043</td>\n",
              "      <td>0.010398</td>\n",
              "      <td>0.015364</td>\n",
              "      <td>0.054237</td>\n",
              "      <td>-0.541280</td>\n",
              "      <td>-0.436153</td>\n",
              "      <td>0.447182</td>\n",
              "      <td>0.229653</td>\n",
              "      <td>-0.328667</td>\n",
              "      <td>1.441204e-01</td>\n",
              "    </tr>\n",
              "    <tr>\n",
              "      <th>Y</th>\n",
              "      <td>-0.012057</td>\n",
              "      <td>-0.523472</td>\n",
              "      <td>-0.501958</td>\n",
              "      <td>0.670237</td>\n",
              "      <td>-0.153808</td>\n",
              "      <td>0.031269</td>\n",
              "      <td>-0.003001</td>\n",
              "      <td>-0.002284</td>\n",
              "      <td>0.001357</td>\n",
              "      <td>0.000508</td>\n",
              "      <td>-3.961722e-17</td>\n",
              "    </tr>\n",
              "    <tr>\n",
              "      <th>total_amt</th>\n",
              "      <td>0.384802</td>\n",
              "      <td>-0.073536</td>\n",
              "      <td>0.006328</td>\n",
              "      <td>-0.047584</td>\n",
              "      <td>-0.003684</td>\n",
              "      <td>0.020518</td>\n",
              "      <td>-0.001641</td>\n",
              "      <td>0.002389</td>\n",
              "      <td>0.004443</td>\n",
              "      <td>0.001558</td>\n",
              "      <td>-9.185590e-01</td>\n",
              "    </tr>\n",
              "    <tr>\n",
              "      <th>total_paid</th>\n",
              "      <td>0.159965</td>\n",
              "      <td>0.485492</td>\n",
              "      <td>0.090876</td>\n",
              "      <td>0.579885</td>\n",
              "      <td>0.600865</td>\n",
              "      <td>0.165220</td>\n",
              "      <td>-0.065607</td>\n",
              "      <td>-0.038776</td>\n",
              "      <td>-0.004488</td>\n",
              "      <td>-0.004404</td>\n",
              "      <td>-3.440457e-17</td>\n",
              "    </tr>\n",
              "  </tbody>\n",
              "</table>\n",
              "</div>\n",
              "      <button class=\"colab-df-convert\" onclick=\"convertToInteractive('df-ec9e08ef-2f56-4d73-8241-73dfa86e3ed4')\"\n",
              "              title=\"Convert this dataframe to an interactive table.\"\n",
              "              style=\"display:none;\">\n",
              "        \n",
              "  <svg xmlns=\"http://www.w3.org/2000/svg\" height=\"24px\"viewBox=\"0 0 24 24\"\n",
              "       width=\"24px\">\n",
              "    <path d=\"M0 0h24v24H0V0z\" fill=\"none\"/>\n",
              "    <path d=\"M18.56 5.44l.94 2.06.94-2.06 2.06-.94-2.06-.94-.94-2.06-.94 2.06-2.06.94zm-11 1L8.5 8.5l.94-2.06 2.06-.94-2.06-.94L8.5 2.5l-.94 2.06-2.06.94zm10 10l.94 2.06.94-2.06 2.06-.94-2.06-.94-.94-2.06-.94 2.06-2.06.94z\"/><path d=\"M17.41 7.96l-1.37-1.37c-.4-.4-.92-.59-1.43-.59-.52 0-1.04.2-1.43.59L10.3 9.45l-7.72 7.72c-.78.78-.78 2.05 0 2.83L4 21.41c.39.39.9.59 1.41.59.51 0 1.02-.2 1.41-.59l7.78-7.78 2.81-2.81c.8-.78.8-2.07 0-2.86zM5.41 20L4 18.59l7.72-7.72 1.47 1.35L5.41 20z\"/>\n",
              "  </svg>\n",
              "      </button>\n",
              "      \n",
              "  <style>\n",
              "    .colab-df-container {\n",
              "      display:flex;\n",
              "      flex-wrap:wrap;\n",
              "      gap: 12px;\n",
              "    }\n",
              "\n",
              "    .colab-df-convert {\n",
              "      background-color: #E8F0FE;\n",
              "      border: none;\n",
              "      border-radius: 50%;\n",
              "      cursor: pointer;\n",
              "      display: none;\n",
              "      fill: #1967D2;\n",
              "      height: 32px;\n",
              "      padding: 0 0 0 0;\n",
              "      width: 32px;\n",
              "    }\n",
              "\n",
              "    .colab-df-convert:hover {\n",
              "      background-color: #E2EBFA;\n",
              "      box-shadow: 0px 1px 2px rgba(60, 64, 67, 0.3), 0px 1px 3px 1px rgba(60, 64, 67, 0.15);\n",
              "      fill: #174EA6;\n",
              "    }\n",
              "\n",
              "    [theme=dark] .colab-df-convert {\n",
              "      background-color: #3B4455;\n",
              "      fill: #D2E3FC;\n",
              "    }\n",
              "\n",
              "    [theme=dark] .colab-df-convert:hover {\n",
              "      background-color: #434B5C;\n",
              "      box-shadow: 0px 1px 3px 1px rgba(0, 0, 0, 0.15);\n",
              "      filter: drop-shadow(0px 1px 2px rgba(0, 0, 0, 0.3));\n",
              "      fill: #FFFFFF;\n",
              "    }\n",
              "  </style>\n",
              "\n",
              "      <script>\n",
              "        const buttonEl =\n",
              "          document.querySelector('#df-ec9e08ef-2f56-4d73-8241-73dfa86e3ed4 button.colab-df-convert');\n",
              "        buttonEl.style.display =\n",
              "          google.colab.kernel.accessAllowed ? 'block' : 'none';\n",
              "\n",
              "        async function convertToInteractive(key) {\n",
              "          const element = document.querySelector('#df-ec9e08ef-2f56-4d73-8241-73dfa86e3ed4');\n",
              "          const dataTable =\n",
              "            await google.colab.kernel.invokeFunction('convertToInteractive',\n",
              "                                                     [key], {});\n",
              "          if (!dataTable) return;\n",
              "\n",
              "          const docLinkHtml = 'Like what you see? Visit the ' +\n",
              "            '<a target=\"_blank\" href=https://colab.research.google.com/notebooks/data_table.ipynb>data table notebook</a>'\n",
              "            + ' to learn more about interactive tables.';\n",
              "          element.innerHTML = '';\n",
              "          dataTable['output_type'] = 'display_data';\n",
              "          await google.colab.output.renderOutput(dataTable, element);\n",
              "          const docLink = document.createElement('div');\n",
              "          docLink.innerHTML = docLinkHtml;\n",
              "          element.appendChild(docLink);\n",
              "        }\n",
              "      </script>\n",
              "    </div>\n",
              "  </div>\n",
              "  "
            ]
          },
          "metadata": {},
          "execution_count": 19
        }
      ]
    },
    {
      "cell_type": "code",
      "source": [
        "pcsComponents_df.PC1.idxmax()"
      ],
      "metadata": {
        "colab": {
          "base_uri": "https://localhost:8080/",
          "height": 35
        },
        "id": "FsN8InMAkW9T",
        "outputId": "f0645612-52ef-4f52-81d4-4e5125e2bf82"
      },
      "execution_count": 20,
      "outputs": [
        {
          "output_type": "execute_result",
          "data": {
            "text/plain": [
              "'total_amt'"
            ],
            "application/vnd.google.colaboratory.intrinsic+json": {
              "type": "string"
            }
          },
          "metadata": {},
          "execution_count": 20
        }
      ]
    },
    {
      "cell_type": "code",
      "source": [
        "pcsComponents_df.PC1.idxmin()"
      ],
      "metadata": {
        "colab": {
          "base_uri": "https://localhost:8080/",
          "height": 35
        },
        "id": "JzEqAhb8AtyB",
        "outputId": "a42145f9-3a73-49dc-c4e2-55d2fa3eed9e"
      },
      "execution_count": 25,
      "outputs": [
        {
          "output_type": "execute_result",
          "data": {
            "text/plain": [
              "'Y'"
            ],
            "application/vnd.google.colaboratory.intrinsic+json": {
              "type": "string"
            }
          },
          "metadata": {},
          "execution_count": 25
        }
      ]
    },
    {
      "cell_type": "code",
      "source": [
        "pcsComponents_df.PC1.nlargest(7)"
      ],
      "metadata": {
        "colab": {
          "base_uri": "https://localhost:8080/"
        },
        "id": "20i4Jf-NkazD",
        "outputId": "12fb61df-4fea-4b35-d957-278d15698730"
      },
      "execution_count": 21,
      "outputs": [
        {
          "output_type": "execute_result",
          "data": {
            "text/plain": [
              "total_amt    0.384802\n",
              "amt_jun      0.372522\n",
              "amt_jul      0.370276\n",
              "amt_may      0.368685\n",
              "amt_aug      0.367274\n",
              "amt_apl      0.360383\n",
              "amt_sep      0.358452\n",
              "Name: PC1, dtype: float64"
            ]
          },
          "metadata": {},
          "execution_count": 21
        }
      ]
    },
    {
      "cell_type": "code",
      "source": [
        "pcsComponents_df.PC1.nsmallest(7)"
      ],
      "metadata": {
        "colab": {
          "base_uri": "https://localhost:8080/"
        },
        "id": "Fq0Q9QK_kdwy",
        "outputId": "ce0c2c53-7b00-4d8f-f835-e7b6cd3d168f"
      },
      "execution_count": 22,
      "outputs": [
        {
          "output_type": "execute_result",
          "data": {
            "text/plain": [
              "Y               -0.012057\n",
              "age              0.028634\n",
              "amount_credit    0.142528\n",
              "total_paid       0.159965\n",
              "amt_sep          0.358452\n",
              "amt_apl          0.360383\n",
              "amt_aug          0.367274\n",
              "Name: PC1, dtype: float64"
            ]
          },
          "metadata": {},
          "execution_count": 22
        }
      ]
    },
    {
      "cell_type": "code",
      "source": [
        "PC_components = np.arange(pcs.n_components_) + 1\n",
        "#PC_components\n",
        "\n",
        "_ = sns.set(style = 'whitegrid', \n",
        "            font_scale = 1.2\n",
        "            )\n",
        "\n",
        "fig, ax = plt.subplots(figsize=(10, 7))\n",
        "\n",
        "_ = sns.barplot(x = PC_components, \n",
        "                y = pcs.explained_variance_ratio_, \n",
        "                color = 'b'\n",
        "                )\n",
        "\n",
        "_ = sns.lineplot(x = PC_components-1, \n",
        "                 y = np.cumsum(pcs.explained_variance_ratio_), \n",
        "                 color = 'black', \n",
        "                 linestyle = '-', \n",
        "                 linewidth = 2, \n",
        "                 marker = 'o', \n",
        "                 markersize = 8\n",
        "                 )\n",
        "\n",
        "plt.title('Scree Plot')\n",
        "plt.xlabel('N-th Principal Component')\n",
        "plt.ylabel('Variance Explained')\n",
        "plt.ylim(0, 1)\n",
        "plt.show()"
      ],
      "metadata": {
        "colab": {
          "base_uri": "https://localhost:8080/",
          "height": 469
        },
        "id": "YYK0Vaf1kj4G",
        "outputId": "c3edb504-eeba-43d9-fdb9-12b00c531c32"
      },
      "execution_count": 23,
      "outputs": [
        {
          "output_type": "display_data",
          "data": {
            "text/plain": [
              "<Figure size 720x504 with 1 Axes>"
            ],
            "image/png": "[encoded data removed]"
          },
          "metadata": {}
        }
      ]
    },
    {
      "cell_type": "code",
      "source": [
        "pcs.explained_variance_ratio_[0:4].sum()"
      ],
      "metadata": {
        "colab": {
          "base_uri": "https://localhost:8080/"
        },
        "id": "cxffEy8Fknnx",
        "outputId": "9799e6c1-446d-46f2-b64c-0b8801f60618"
      },
      "execution_count": 40,
      "outputs": [
        {
          "output_type": "execute_result",
          "data": {
            "text/plain": [
              "0.8925773818701307"
            ]
          },
          "metadata": {},
          "execution_count": 40
        }
      ]
    },
    {
      "cell_type": "code",
      "source": [
        "corrmatt = df.corr()\n",
        "corrmatt"
      ],
      "metadata": {
        "colab": {
          "base_uri": "https://localhost:8080/",
          "height": 394
        },
        "id": "mLpCNkHlkxid",
        "outputId": "657c772b-4e72-4ea4-caab-b1597a493f22"
      },
      "execution_count": 29,
      "outputs": [
        {
          "output_type": "execute_result",
          "data": {
            "text/plain": [
              "               amount_credit       age   amt_sep   amt_aug   amt_jul  \\\n",
              "amount_credit       1.000000  0.144515  0.285616  0.278435  0.283373   \n",
              "age                 0.144515  1.000000  0.056357  0.054469  0.053911   \n",
              "amt_sep             0.285616  0.056357  1.000000  0.951494  0.892272   \n",
              "amt_aug             0.278435  0.054469  0.951494  1.000000  0.928306   \n",
              "amt_jul             0.283373  0.053911  0.892272  0.928306  1.000000   \n",
              "amt_jun             0.294090  0.051528  0.860273  0.892456  0.923953   \n",
              "amt_may             0.295625  0.049515  0.829781  0.859756  0.883893   \n",
              "amt_apl             0.290517  0.047810  0.802638  0.831570  0.853302   \n",
              "Y                  -0.153781  0.013881 -0.019686 -0.014240 -0.014141   \n",
              "total_amt           0.302176  0.055163  0.940106  0.961170  0.961950   \n",
              "total_paid          0.352499  0.040752  0.256352  0.286628  0.359513   \n",
              "\n",
              "                amt_jun   amt_may   amt_apl         Y  total_amt  total_paid  \n",
              "amount_credit  0.294090  0.295625  0.290517 -0.153781   0.302176    0.352499  \n",
              "age            0.051528  0.049515  0.047810  0.013881   0.055163    0.040752  \n",
              "amt_sep        0.860273  0.829781  0.802638 -0.019686   0.940106    0.256352  \n",
              "amt_aug        0.892456  0.859756  0.831570 -0.014240   0.961170    0.286628  \n",
              "amt_jul        0.923953  0.883893  0.853302 -0.014141   0.961950    0.359513  \n",
              "amt_jun        1.000000  0.940133  0.900931 -0.010216   0.964495    0.354552  \n",
              "amt_may        0.940133  1.000000  0.946187 -0.006856   0.951671    0.359727  \n",
              "amt_apl        0.900931  0.946187  1.000000 -0.005505   0.928710    0.362983  \n",
              "Y             -0.010216 -0.006856 -0.005505  1.000000  -0.012767   -0.102355  \n",
              "total_amt      0.964495  0.951671  0.928710 -0.012767   1.000000    0.343832  \n",
              "total_paid     0.354552  0.359727  0.362983 -0.102355   0.343832    1.000000  "
            ],
            "text/html": [
              "\n",
              "  <div id=\"df-d40381f2-7f7b-4ef1-b36d-ad58987c07df\">\n",
              "    <div class=\"colab-df-container\">\n",
              "      <div>\n",
              "<style scoped>\n",
              "    .dataframe tbody tr th:only-of-type {\n",
              "        vertical-align: middle;\n",
              "    }\n",
              "\n",
              "    .dataframe tbody tr th {\n",
              "        vertical-align: top;\n",
              "    }\n",
              "\n",
              "    .dataframe thead th {\n",
              "        text-align: right;\n",
              "    }\n",
              "</style>\n",
              "<table border=\"1\" class=\"dataframe\">\n",
              "  <thead>\n",
              "    <tr style=\"text-align: right;\">\n",
              "      <th></th>\n",
              "      <th>amount_credit</th>\n",
              "      <th>age</th>\n",
              "      <th>amt_sep</th>\n",
              "      <th>amt_aug</th>\n",
              "      <th>amt_jul</th>\n",
              "      <th>amt_jun</th>\n",
              "      <th>amt_may</th>\n",
              "      <th>amt_apl</th>\n",
              "      <th>Y</th>\n",
              "      <th>total_amt</th>\n",
              "      <th>total_paid</th>\n",
              "    </tr>\n",
              "  </thead>\n",
              "  <tbody>\n",
              "    <tr>\n",
              "      <th>amount_credit</th>\n",
              "      <td>1.000000</td>\n",
              "      <td>0.144515</td>\n",
              "      <td>0.285616</td>\n",
              "      <td>0.278435</td>\n",
              "      <td>0.283373</td>\n",
              "      <td>0.294090</td>\n",
              "      <td>0.295625</td>\n",
              "      <td>0.290517</td>\n",
              "      <td>-0.153781</td>\n",
              "      <td>0.302176</td>\n",
              "      <td>0.352499</td>\n",
              "    </tr>\n",
              "    <tr>\n",
              "      <th>age</th>\n",
              "      <td>0.144515</td>\n",
              "      <td>1.000000</td>\n",
              "      <td>0.056357</td>\n",
              "      <td>0.054469</td>\n",
              "      <td>0.053911</td>\n",
              "      <td>0.051528</td>\n",
              "      <td>0.049515</td>\n",
              "      <td>0.047810</td>\n",
              "      <td>0.013881</td>\n",
              "      <td>0.055163</td>\n",
              "      <td>0.040752</td>\n",
              "    </tr>\n",
              "    <tr>\n",
              "      <th>amt_sep</th>\n",
              "      <td>0.285616</td>\n",
              "      <td>0.056357</td>\n",
              "      <td>1.000000</td>\n",
              "      <td>0.951494</td>\n",
              "      <td>0.892272</td>\n",
              "      <td>0.860273</td>\n",
              "      <td>0.829781</td>\n",
              "      <td>0.802638</td>\n",
              "      <td>-0.019686</td>\n",
              "      <td>0.940106</td>\n",
              "      <td>0.256352</td>\n",
              "    </tr>\n",
              "    <tr>\n",
              "      <th>amt_aug</th>\n",
              "      <td>0.278435</td>\n",
              "      <td>0.054469</td>\n",
              "      <td>0.951494</td>\n",
              "      <td>1.000000</td>\n",
              "      <td>0.928306</td>\n",
              "      <td>0.892456</td>\n",
              "      <td>0.859756</td>\n",
              "      <td>0.831570</td>\n",
              "      <td>-0.014240</td>\n",
              "      <td>0.961170</td>\n",
              "      <td>0.286628</td>\n",
              "    </tr>\n",
              "    <tr>\n",
              "      <th>amt_jul</th>\n",
              "      <td>0.283373</td>\n",
              "      <td>0.053911</td>\n",
              "      <td>0.892272</td>\n",
              "      <td>0.928306</td>\n",
              "      <td>1.000000</td>\n",
              "      <td>0.923953</td>\n",
              "      <td>0.883893</td>\n",
              "      <td>0.853302</td>\n",
              "      <td>-0.014141</td>\n",
              "      <td>0.961950</td>\n",
              "      <td>0.359513</td>\n",
              "    </tr>\n",
              "    <tr>\n",
              "      <th>amt_jun</th>\n",
              "      <td>0.294090</td>\n",
              "      <td>0.051528</td>\n",
              "      <td>0.860273</td>\n",
              "      <td>0.892456</td>\n",
              "      <td>0.923953</td>\n",
              "      <td>1.000000</td>\n",
              "      <td>0.940133</td>\n",
              "      <td>0.900931</td>\n",
              "      <td>-0.010216</td>\n",
              "      <td>0.964495</td>\n",
              "      <td>0.354552</td>\n",
              "    </tr>\n",
              "    <tr>\n",
              "      <th>amt_may</th>\n",
              "      <td>0.295625</td>\n",
              "      <td>0.049515</td>\n",
              "      <td>0.829781</td>\n",
              "      <td>0.859756</td>\n",
              "      <td>0.883893</td>\n",
              "      <td>0.940133</td>\n",
              "      <td>1.000000</td>\n",
              "      <td>0.946187</td>\n",
              "      <td>-0.006856</td>\n",
              "      <td>0.951671</td>\n",
              "      <td>0.359727</td>\n",
              "    </tr>\n",
              "    <tr>\n",
              "      <th>amt_apl</th>\n",
              "      <td>0.290517</td>\n",
              "      <td>0.047810</td>\n",
              "      <td>0.802638</td>\n",
              "      <td>0.831570</td>\n",
              "      <td>0.853302</td>\n",
              "      <td>0.900931</td>\n",
              "      <td>0.946187</td>\n",
              "      <td>1.000000</td>\n",
              "      <td>-0.005505</td>\n",
              "      <td>0.928710</td>\n",
              "      <td>0.362983</td>\n",
              "    </tr>\n",
              "    <tr>\n",
              "      <th>Y</th>\n",
              "      <td>-0.153781</td>\n",
              "      <td>0.013881</td>\n",
              "      <td>-0.019686</td>\n",
              "      <td>-0.014240</td>\n",
              "      <td>-0.014141</td>\n",
              "      <td>-0.010216</td>\n",
              "      <td>-0.006856</td>\n",
              "      <td>-0.005505</td>\n",
              "      <td>1.000000</td>\n",
              "      <td>-0.012767</td>\n",
              "      <td>-0.102355</td>\n",
              "    </tr>\n",
              "    <tr>\n",
              "      <th>total_amt</th>\n",
              "      <td>0.302176</td>\n",
              "      <td>0.055163</td>\n",
              "      <td>0.940106</td>\n",
              "      <td>0.961170</td>\n",
              "      <td>0.961950</td>\n",
              "      <td>0.964495</td>\n",
              "      <td>0.951671</td>\n",
              "      <td>0.928710</td>\n",
              "      <td>-0.012767</td>\n",
              "      <td>1.000000</td>\n",
              "      <td>0.343832</td>\n",
              "    </tr>\n",
              "    <tr>\n",
              "      <th>total_paid</th>\n",
              "      <td>0.352499</td>\n",
              "      <td>0.040752</td>\n",
              "      <td>0.256352</td>\n",
              "      <td>0.286628</td>\n",
              "      <td>0.359513</td>\n",
              "      <td>0.354552</td>\n",
              "      <td>0.359727</td>\n",
              "      <td>0.362983</td>\n",
              "      <td>-0.102355</td>\n",
              "      <td>0.343832</td>\n",
              "      <td>1.000000</td>\n",
              "    </tr>\n",
              "  </tbody>\n",
              "</table>\n",
              "</div>\n",
              "      <button class=\"colab-df-convert\" onclick=\"convertToInteractive('df-d40381f2-7f7b-4ef1-b36d-ad58987c07df')\"\n",
              "              title=\"Convert this dataframe to an interactive table.\"\n",
              "              style=\"display:none;\">\n",
              "        \n",
              "  <svg xmlns=\"http://www.w3.org/2000/svg\" height=\"24px\"viewBox=\"0 0 24 24\"\n",
              "       width=\"24px\">\n",
              "    <path d=\"M0 0h24v24H0V0z\" fill=\"none\"/>\n",
              "    <path d=\"M18.56 5.44l.94 2.06.94-2.06 2.06-.94-2.06-.94-.94-2.06-.94 2.06-2.06.94zm-11 1L8.5 8.5l.94-2.06 2.06-.94-2.06-.94L8.5 2.5l-.94 2.06-2.06.94zm10 10l.94 2.06.94-2.06 2.06-.94-2.06-.94-.94-2.06-.94 2.06-2.06.94z\"/><path d=\"M17.41 7.96l-1.37-1.37c-.4-.4-.92-.59-1.43-.59-.52 0-1.04.2-1.43.59L10.3 9.45l-7.72 7.72c-.78.78-.78 2.05 0 2.83L4 21.41c.39.39.9.59 1.41.59.51 0 1.02-.2 1.41-.59l7.78-7.78 2.81-2.81c.8-.78.8-2.07 0-2.86zM5.41 20L4 18.59l7.72-7.72 1.47 1.35L5.41 20z\"/>\n",
              "  </svg>\n",
              "      </button>\n",
              "      \n",
              "  <style>\n",
              "    .colab-df-container {\n",
              "      display:flex;\n",
              "      flex-wrap:wrap;\n",
              "      gap: 12px;\n",
              "    }\n",
              "\n",
              "    .colab-df-convert {\n",
              "      background-color: #E8F0FE;\n",
              "      border: none;\n",
              "      border-radius: 50%;\n",
              "      cursor: pointer;\n",
              "      display: none;\n",
              "      fill: #1967D2;\n",
              "      height: 32px;\n",
              "      padding: 0 0 0 0;\n",
              "      width: 32px;\n",
              "    }\n",
              "\n",
              "    .colab-df-convert:hover {\n",
              "      background-color: #E2EBFA;\n",
              "      box-shadow: 0px 1px 2px rgba(60, 64, 67, 0.3), 0px 1px 3px 1px rgba(60, 64, 67, 0.15);\n",
              "      fill: #174EA6;\n",
              "    }\n",
              "\n",
              "    [theme=dark] .colab-df-convert {\n",
              "      background-color: #3B4455;\n",
              "      fill: #D2E3FC;\n",
              "    }\n",
              "\n",
              "    [theme=dark] .colab-df-convert:hover {\n",
              "      background-color: #434B5C;\n",
              "      box-shadow: 0px 1px 3px 1px rgba(0, 0, 0, 0.15);\n",
              "      filter: drop-shadow(0px 1px 2px rgba(0, 0, 0, 0.3));\n",
              "      fill: #FFFFFF;\n",
              "    }\n",
              "  </style>\n",
              "\n",
              "      <script>\n",
              "        const buttonEl =\n",
              "          document.querySelector('#df-d40381f2-7f7b-4ef1-b36d-ad58987c07df button.colab-df-convert');\n",
              "        buttonEl.style.display =\n",
              "          google.colab.kernel.accessAllowed ? 'block' : 'none';\n",
              "\n",
              "        async function convertToInteractive(key) {\n",
              "          const element = document.querySelector('#df-d40381f2-7f7b-4ef1-b36d-ad58987c07df');\n",
              "          const dataTable =\n",
              "            await google.colab.kernel.invokeFunction('convertToInteractive',\n",
              "                                                     [key], {});\n",
              "          if (!dataTable) return;\n",
              "\n",
              "          const docLinkHtml = 'Like what you see? Visit the ' +\n",
              "            '<a target=\"_blank\" href=https://colab.research.google.com/notebooks/data_table.ipynb>data table notebook</a>'\n",
              "            + ' to learn more about interactive tables.';\n",
              "          element.innerHTML = '';\n",
              "          dataTable['output_type'] = 'display_data';\n",
              "          await google.colab.output.renderOutput(dataTable, element);\n",
              "          const docLink = document.createElement('div');\n",
              "          docLink.innerHTML = docLinkHtml;\n",
              "          element.appendChild(docLink);\n",
              "        }\n",
              "      </script>\n",
              "    </div>\n",
              "  </div>\n",
              "  "
            ]
          },
          "metadata": {},
          "execution_count": 29
        }
      ]
    },
    {
      "cell_type": "code",
      "source": [
        "f, ax = plt.subplots(figsize = (15,15)) #Definir el área de trabajo.\n",
        "sns.heatmap(corrmatt, vmax = .9, square = True, annot = True)"
      ],
      "metadata": {
        "colab": {
          "base_uri": "https://localhost:8080/",
          "height": 896
        },
        "id": "Q2EQbyd9A4uo",
        "outputId": "a8fd6ef2-37b4-4ac5-ddec-bd629957d709"
      },
      "execution_count": 38,
      "outputs": [
        {
          "output_type": "execute_result",
          "data": {
            "text/plain": [
              "<matplotlib.axes._subplots.AxesSubplot at 0x7f3900128990>"
            ]
          },
          "metadata": {},
          "execution_count": 38
        },
        {
          "output_type": "display_data",
          "data": {
            "text/plain": [
              "<Figure size 1080x1080 with 2 Axes>"
            ],
            "image/png": "[encoded data removed]"
          },
          "metadata": {}
        }
      ]
    },
    {
      "cell_type": "code",
      "source": [],
      "metadata": {
        "id": "Cg0Ko_HjBS6_"
      },
      "execution_count": null,
      "outputs": []
    }
  ]
}