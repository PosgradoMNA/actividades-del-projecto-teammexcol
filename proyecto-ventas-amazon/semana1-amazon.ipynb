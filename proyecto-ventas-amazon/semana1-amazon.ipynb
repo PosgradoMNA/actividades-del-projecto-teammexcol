{
  "cells": [
    {
      "cell_type": "markdown",
      "metadata": {
        "id": "view-in-github",
        "colab_type": "text"
      },
      "source": [
        "<a href=\"https://colab.research.google.com/github/PosgradoMNA/actividades-del-projecto-teammexcol/blob/main/proyecto-ventas-amazon/semana1-amazon.ipynb\" target=\"_parent\"><img src=\"https://colab.research.google.com/assets/colab-badge.svg\" alt=\"Open In Colab\"/></a>"
      ]
    },
    {
      "cell_type": "markdown",
      "source": [
        "# Equipo 40 **Análisis de Amazon**\n",
        "\n",
        "Por:\n",
        "*   Víctor Alejandro Regueira Romero - A01794404\n",
        "*   Carlos Julio León Caicedo - A01793947\n",
        "\n",
        "Profesor asignado:\n",
        "*   Roberto Antonio Guevara González\n",
        "\n",
        "---\n",
        "\n"
      ],
      "metadata": {
        "id": "xF4SA9LZInnG"
      }
    },
    {
      "cell_type": "markdown",
      "source": [
        "## Actividad 1"
      ],
      "metadata": {
        "id": "gEM_AVJnJiCQ"
      }
    },
    {
      "cell_type": "markdown",
      "source": [
        "### **1 El nombre que caracteriza el conjunto de datos.**\n",
        "\n"
      ],
      "metadata": {
        "id": "6mosIJ5fJvl9"
      }
    },
    {
      "cell_type": "markdown",
      "source": [
        "Amazon All Categories Best Sellers + Reviews"
      ],
      "metadata": {
        "id": "cjK8FzxvKIOp"
      }
    },
    {
      "cell_type": "markdown",
      "source": [
        "### **2 La organización que lo generó.**"
      ],
      "metadata": {
        "id": "znFPp8nHKIFa"
      }
    },
    {
      "cell_type": "markdown",
      "source": [
        "amazon.com"
      ],
      "metadata": {
        "id": "TjSd0VAeKH8X"
      }
    },
    {
      "cell_type": "markdown",
      "source": [
        "### **3 Incluya un enlace de Internet donde se puedan descargar en línea y enviar como una hoja de cálculo junto con su informe correspondiente.**"
      ],
      "metadata": {
        "id": "nW6zpKj0KHvq"
      }
    },
    {
      "cell_type": "markdown",
      "source": [
        "https://www.kaggle.com/datasets/tigboatnc/amazon-all-categories-best-sellers-reviews"
      ],
      "metadata": {
        "id": "P7c6_AHuKGcM"
      }
    },
    {
      "cell_type": "markdown",
      "source": [
        "### **4 Describe el conjunto de datos. ¿Qué datos contiene?**"
      ],
      "metadata": {
        "id": "Np-02BYaKQKB"
      }
    },
    {
      "cell_type": "markdown",
      "source": [
        "Son **1316 registros** de Datos de Amazon EE. UU. sobre **los 50 productos más vendidos** para las 40 categorías enumeradas.\n",
        "\n",
        "Incluye:\n",
        "\n",
        "1.     nombre del producto\n",
        "2.     Categorías de Producto\n",
        "3.     Ranking de producto en su categoría\n",
        "4.     Recuento de reseñas de productos (Número de reseñas)\n",
        "5.     Revisión del producto (primera página de revisiones)\n",
        "       Incluye Meta + Revisión completa + Calificación otorgada por revisión\n",
        "6.     Coste del artículo en el momento del raspado.\n",
        "7.    URL del producto\n",
        "\n",
        "\n",
        "\n"
      ],
      "metadata": {
        "id": "53sh_cbzKQA7"
      }
    },
    {
      "cell_type": "markdown",
      "source": [
        "### **5 ¿Cuáles son algunas de las preguntas de investigación que podría responder con estos datos? Enumere al menos OCHO (no responda las preguntas).**"
      ],
      "metadata": {
        "id": "vmpiH-uDKP9i"
      }
    },
    {
      "cell_type": "markdown",
      "source": [
        "\n",
        "\n",
        "1.   ¿Cúal es el producto más vendido?\n",
        "2.   ¿Cuales son las diez categorias con mayor cantidad de ventas?\n",
        "3.   ¿Cuales son los productos más vendidos en las primeras diez categorias con mayor cantidad de ventas?\n",
        "4.   ¿Cúal es el precio promedio de los productos en las primeras cinco categorías más vendidas?\n",
        "5.   ¿Cúales son los cinco productos más costosos por categoría?\n",
        "6.   ¿Cúales son los cinco productos menos costosos por categoría?\n",
        "7.   ¿Cúal es la diferencia entre los cinco productos más y menos costosos por categoría?\n",
        "8.   ¿Qué logros podemos generar a través de las *reviews* de los usuarios?"
      ],
      "metadata": {
        "id": "ZHFyBke2KP4e"
      }
    },
    {
      "cell_type": "markdown",
      "metadata": {
        "id": "hv-FTwyWCt3G"
      },
      "source": [
        "### **6 ¿Qué actor (empresa, sector de la sociedad, organismo descentralizado, gobierno, etc.) estaría interesado en las preguntas mencionadas que identificó?**\n"
      ]
    },
    {
      "cell_type": "markdown",
      "source": [
        "Hoy en día existe un alto porcentaje de población que realiza sus compras en línea, Amazon es el líder en el mercado de ventas por internet. Por lo que esta información será de utilidad tanto para inversionistas que busques apuntar a Amazon y reforzar sus argumentos de inversión, para clientes que ya usan Amazon y quiren medir el rendimiento y clientes potenciales que aún están viendo la posibilidad de realizar pedidos a través de la plataforma."
      ],
      "metadata": {
        "id": "-j0TKuoBKts5"
      }
    },
    {
      "cell_type": "markdown",
      "source": [
        "## Conexión a Google Drive"
      ],
      "metadata": {
        "id": "cBNMGsm3NeJS"
      }
    },
    {
      "cell_type": "code",
      "source": [
        "from google.colab import drive\n",
        "drive.mount('/content/drive')"
      ],
      "metadata": {
        "colab": {
          "base_uri": "https://localhost:8080/"
        },
        "id": "xvUba9EFCyzK",
        "outputId": "47a88f20-2098-43d9-fc62-599215506816"
      },
      "execution_count": 15,
      "outputs": [
        {
          "output_type": "stream",
          "name": "stdout",
          "text": [
            "Drive already mounted at /content/drive; to attempt to forcibly remount, call drive.mount(\"/content/drive\", force_remount=True).\n"
          ]
        }
      ]
    },
    {
      "cell_type": "markdown",
      "metadata": {
        "id": "fZpnhqE9Ct3N"
      },
      "source": [
        "## Importando Librerías"
      ]
    },
    {
      "cell_type": "code",
      "execution_count": 16,
      "metadata": {
        "id": "G_iTRvnKCt3R"
      },
      "outputs": [],
      "source": [
        "import numpy as np # linear algebra\n",
        "import pandas as pd # data processing, CSV file I/O (e.g. pd.read_csv)\n",
        "import matplotlib.pyplot as plt\n",
        "import seaborn as sns\n",
        "%matplotlib inline"
      ]
    },
    {
      "cell_type": "markdown",
      "source": [
        "## Leyendo información"
      ],
      "metadata": {
        "id": "Gc8hrU1XNwpk"
      }
    },
    {
      "cell_type": "code",
      "source": [
        "# la ruta de lectura del csv depende de la ubicación local en donde se almaceno el archivo por parte del usuario\n",
        "df = pd.read_csv('/content/drive/MyDrive/Colab Notebooks/1. Curso ciencia y analítica/proyecto-ventas-amazon/abs080922 - clear.csv')\n",
        "df.head()"
      ],
      "metadata": {
        "id": "MZ8z1SJSN49g",
        "colab": {
          "base_uri": "https://localhost:8080/",
          "height": 441
        },
        "outputId": "e4eb8970-2287-4004-a410-9cef66621558"
      },
      "execution_count": 17,
      "outputs": [
        {
          "output_type": "execute_result",
          "data": {
            "text/plain": [
              "   Unnamed: 0                                       product_name  \\\n",
              "0           0  Fire TV Stick with Alexa Voice Remote (include...   \n",
              "1           1  All-new Ring Video Doorbell (2nd Gen) – 1080p ...   \n",
              "2           2  Echo Dot (3rd Gen, 2018 release) - Smart speak...   \n",
              "3           3  Fire TV Stick 4K Max streaming device, Wi-Fi 6...   \n",
              "4           4                                  Amazon Smart Plug   \n",
              "\n",
              "                       category categoryRank noRatings              cost  \\\n",
              "0  Amazon Devices & Accessories           #1   256,226            $39.99   \n",
              "1  Amazon Devices & Accessories           #2   112,689  $89.99 - $199.98   \n",
              "2  Amazon Devices & Accessories           #3   936,447            $29.99   \n",
              "3  Amazon Devices & Accessories           #4    69,684            $54.99   \n",
              "4  Amazon Devices & Accessories           #5   508,565            $24.99   \n",
              "\n",
              "                                          REVIEWLIST  \\\n",
              "0  [{'review_meta': 'Reviewed in the United State...   \n",
              "1  [{'review_meta': 'Reviewed in the United State...   \n",
              "2  [{'review_meta': 'Reviewed in the United State...   \n",
              "3  [{'review_meta': 'Reviewed in the United State...   \n",
              "4  [{'review_meta': 'Reviewed in the United State...   \n",
              "\n",
              "                                         product_url  \n",
              "0  https://www.amazon.com/fire-tv-stick-with-3rd-...  \n",
              "1  https://www.amazon.com/All-new-Ring-Video-Door...  \n",
              "2  https://www.amazon.com/Echo-Dot/dp/B07FZ8S74R/...  \n",
              "3  https://www.amazon.com/fire-tv-stick-4k-max-wi...  \n",
              "4  https://www.amazon.com/Amazon-Smart-Plug/dp/B0...  "
            ],
            "text/html": [
              "\n",
              "  <div id=\"df-dacf885f-fc14-414d-9124-a1242e012d22\">\n",
              "    <div class=\"colab-df-container\">\n",
              "      <div>\n",
              "<style scoped>\n",
              "    .dataframe tbody tr th:only-of-type {\n",
              "        vertical-align: middle;\n",
              "    }\n",
              "\n",
              "    .dataframe tbody tr th {\n",
              "        vertical-align: top;\n",
              "    }\n",
              "\n",
              "    .dataframe thead th {\n",
              "        text-align: right;\n",
              "    }\n",
              "</style>\n",
              "<table border=\"1\" class=\"dataframe\">\n",
              "  <thead>\n",
              "    <tr style=\"text-align: right;\">\n",
              "      <th></th>\n",
              "      <th>Unnamed: 0</th>\n",
              "      <th>product_name</th>\n",
              "      <th>category</th>\n",
              "      <th>categoryRank</th>\n",
              "      <th>noRatings</th>\n",
              "      <th>cost</th>\n",
              "      <th>REVIEWLIST</th>\n",
              "      <th>product_url</th>\n",
              "    </tr>\n",
              "  </thead>\n",
              "  <tbody>\n",
              "    <tr>\n",
              "      <th>0</th>\n",
              "      <td>0</td>\n",
              "      <td>Fire TV Stick with Alexa Voice Remote (include...</td>\n",
              "      <td>Amazon Devices &amp; Accessories</td>\n",
              "      <td>#1</td>\n",
              "      <td>256,226</td>\n",
              "      <td>$39.99</td>\n",
              "      <td>[{'review_meta': 'Reviewed in the United State...</td>\n",
              "      <td>https://www.amazon.com/fire-tv-stick-with-3rd-...</td>\n",
              "    </tr>\n",
              "    <tr>\n",
              "      <th>1</th>\n",
              "      <td>1</td>\n",
              "      <td>All-new Ring Video Doorbell (2nd Gen) – 1080p ...</td>\n",
              "      <td>Amazon Devices &amp; Accessories</td>\n",
              "      <td>#2</td>\n",
              "      <td>112,689</td>\n",
              "      <td>$89.99 - $199.98</td>\n",
              "      <td>[{'review_meta': 'Reviewed in the United State...</td>\n",
              "      <td>https://www.amazon.com/All-new-Ring-Video-Door...</td>\n",
              "    </tr>\n",
              "    <tr>\n",
              "      <th>2</th>\n",
              "      <td>2</td>\n",
              "      <td>Echo Dot (3rd Gen, 2018 release) - Smart speak...</td>\n",
              "      <td>Amazon Devices &amp; Accessories</td>\n",
              "      <td>#3</td>\n",
              "      <td>936,447</td>\n",
              "      <td>$29.99</td>\n",
              "      <td>[{'review_meta': 'Reviewed in the United State...</td>\n",
              "      <td>https://www.amazon.com/Echo-Dot/dp/B07FZ8S74R/...</td>\n",
              "    </tr>\n",
              "    <tr>\n",
              "      <th>3</th>\n",
              "      <td>3</td>\n",
              "      <td>Fire TV Stick 4K Max streaming device, Wi-Fi 6...</td>\n",
              "      <td>Amazon Devices &amp; Accessories</td>\n",
              "      <td>#4</td>\n",
              "      <td>69,684</td>\n",
              "      <td>$54.99</td>\n",
              "      <td>[{'review_meta': 'Reviewed in the United State...</td>\n",
              "      <td>https://www.amazon.com/fire-tv-stick-4k-max-wi...</td>\n",
              "    </tr>\n",
              "    <tr>\n",
              "      <th>4</th>\n",
              "      <td>4</td>\n",
              "      <td>Amazon Smart Plug</td>\n",
              "      <td>Amazon Devices &amp; Accessories</td>\n",
              "      <td>#5</td>\n",
              "      <td>508,565</td>\n",
              "      <td>$24.99</td>\n",
              "      <td>[{'review_meta': 'Reviewed in the United State...</td>\n",
              "      <td>https://www.amazon.com/Amazon-Smart-Plug/dp/B0...</td>\n",
              "    </tr>\n",
              "  </tbody>\n",
              "</table>\n",
              "</div>\n",
              "      <button class=\"colab-df-convert\" onclick=\"convertToInteractive('df-dacf885f-fc14-414d-9124-a1242e012d22')\"\n",
              "              title=\"Convert this dataframe to an interactive table.\"\n",
              "              style=\"display:none;\">\n",
              "        \n",
              "  <svg xmlns=\"http://www.w3.org/2000/svg\" height=\"24px\"viewBox=\"0 0 24 24\"\n",
              "       width=\"24px\">\n",
              "    <path d=\"M0 0h24v24H0V0z\" fill=\"none\"/>\n",
              "    <path d=\"M18.56 5.44l.94 2.06.94-2.06 2.06-.94-2.06-.94-.94-2.06-.94 2.06-2.06.94zm-11 1L8.5 8.5l.94-2.06 2.06-.94-2.06-.94L8.5 2.5l-.94 2.06-2.06.94zm10 10l.94 2.06.94-2.06 2.06-.94-2.06-.94-.94-2.06-.94 2.06-2.06.94z\"/><path d=\"M17.41 7.96l-1.37-1.37c-.4-.4-.92-.59-1.43-.59-.52 0-1.04.2-1.43.59L10.3 9.45l-7.72 7.72c-.78.78-.78 2.05 0 2.83L4 21.41c.39.39.9.59 1.41.59.51 0 1.02-.2 1.41-.59l7.78-7.78 2.81-2.81c.8-.78.8-2.07 0-2.86zM5.41 20L4 18.59l7.72-7.72 1.47 1.35L5.41 20z\"/>\n",
              "  </svg>\n",
              "      </button>\n",
              "      \n",
              "  <style>\n",
              "    .colab-df-container {\n",
              "      display:flex;\n",
              "      flex-wrap:wrap;\n",
              "      gap: 12px;\n",
              "    }\n",
              "\n",
              "    .colab-df-convert {\n",
              "      background-color: #E8F0FE;\n",
              "      border: none;\n",
              "      border-radius: 50%;\n",
              "      cursor: pointer;\n",
              "      display: none;\n",
              "      fill: #1967D2;\n",
              "      height: 32px;\n",
              "      padding: 0 0 0 0;\n",
              "      width: 32px;\n",
              "    }\n",
              "\n",
              "    .colab-df-convert:hover {\n",
              "      background-color: #E2EBFA;\n",
              "      box-shadow: 0px 1px 2px rgba(60, 64, 67, 0.3), 0px 1px 3px 1px rgba(60, 64, 67, 0.15);\n",
              "      fill: #174EA6;\n",
              "    }\n",
              "\n",
              "    [theme=dark] .colab-df-convert {\n",
              "      background-color: #3B4455;\n",
              "      fill: #D2E3FC;\n",
              "    }\n",
              "\n",
              "    [theme=dark] .colab-df-convert:hover {\n",
              "      background-color: #434B5C;\n",
              "      box-shadow: 0px 1px 3px 1px rgba(0, 0, 0, 0.15);\n",
              "      filter: drop-shadow(0px 1px 2px rgba(0, 0, 0, 0.3));\n",
              "      fill: #FFFFFF;\n",
              "    }\n",
              "  </style>\n",
              "\n",
              "      <script>\n",
              "        const buttonEl =\n",
              "          document.querySelector('#df-dacf885f-fc14-414d-9124-a1242e012d22 button.colab-df-convert');\n",
              "        buttonEl.style.display =\n",
              "          google.colab.kernel.accessAllowed ? 'block' : 'none';\n",
              "\n",
              "        async function convertToInteractive(key) {\n",
              "          const element = document.querySelector('#df-dacf885f-fc14-414d-9124-a1242e012d22');\n",
              "          const dataTable =\n",
              "            await google.colab.kernel.invokeFunction('convertToInteractive',\n",
              "                                                     [key], {});\n",
              "          if (!dataTable) return;\n",
              "\n",
              "          const docLinkHtml = 'Like what you see? Visit the ' +\n",
              "            '<a target=\"_blank\" href=https://colab.research.google.com/notebooks/data_table.ipynb>data table notebook</a>'\n",
              "            + ' to learn more about interactive tables.';\n",
              "          element.innerHTML = '';\n",
              "          dataTable['output_type'] = 'display_data';\n",
              "          await google.colab.output.renderOutput(dataTable, element);\n",
              "          const docLink = document.createElement('div');\n",
              "          docLink.innerHTML = docLinkHtml;\n",
              "          element.appendChild(docLink);\n",
              "        }\n",
              "      </script>\n",
              "    </div>\n",
              "  </div>\n",
              "  "
            ]
          },
          "metadata": {},
          "execution_count": 17
        }
      ]
    },
    {
      "cell_type": "markdown",
      "metadata": {
        "id": "PaqlfhiLCt3V"
      },
      "source": [
        "## Información general de los datos"
      ]
    },
    {
      "cell_type": "code",
      "source": [
        "df.shape"
      ],
      "metadata": {
        "colab": {
          "base_uri": "https://localhost:8080/"
        },
        "id": "IFfe47b8DK7J",
        "outputId": "74cabaf5-a039-46e2-ceaf-3cfe560b4ad8"
      },
      "execution_count": 18,
      "outputs": [
        {
          "output_type": "execute_result",
          "data": {
            "text/plain": [
              "(1316, 8)"
            ]
          },
          "metadata": {},
          "execution_count": 18
        }
      ]
    },
    {
      "cell_type": "code",
      "source": [
        "print('Son ',df.shape[0], 'filas y ', df.shape[1], 'atributos')"
      ],
      "metadata": {
        "id": "MmMSpODnVlIO",
        "outputId": "7d6c4beb-fd97-441f-d107-fa72870683bf",
        "colab": {
          "base_uri": "https://localhost:8080/"
        }
      },
      "execution_count": 19,
      "outputs": [
        {
          "output_type": "stream",
          "name": "stdout",
          "text": [
            "Son  1316 filas y  8 atributos\n"
          ]
        }
      ]
    },
    {
      "cell_type": "code",
      "source": [
        "df.info()"
      ],
      "metadata": {
        "id": "kW2N7rdIBUmJ",
        "outputId": "67518f4b-a066-4236-d02e-cfd827f1aaaf",
        "colab": {
          "base_uri": "https://localhost:8080/"
        }
      },
      "execution_count": 20,
      "outputs": [
        {
          "output_type": "stream",
          "name": "stdout",
          "text": [
            "<class 'pandas.core.frame.DataFrame'>\n",
            "RangeIndex: 1316 entries, 0 to 1315\n",
            "Data columns (total 8 columns):\n",
            " #   Column        Non-Null Count  Dtype \n",
            "---  ------        --------------  ----- \n",
            " 0   Unnamed: 0    1316 non-null   int64 \n",
            " 1   product_name  1316 non-null   object\n",
            " 2   category      1316 non-null   object\n",
            " 3   categoryRank  1314 non-null   object\n",
            " 4   noRatings     1316 non-null   object\n",
            " 5   cost          1316 non-null   object\n",
            " 6   REVIEWLIST    1316 non-null   object\n",
            " 7   product_url   1316 non-null   object\n",
            "dtypes: int64(1), object(7)\n",
            "memory usage: 82.4+ KB\n"
          ]
        }
      ]
    }
  ],
  "metadata": {
    "kernelspec": {
      "display_name": "Python 3.10.6 64-bit",
      "language": "python",
      "name": "python3"
    },
    "language_info": {
      "codemirror_mode": {
        "name": "ipython",
        "version": 3
      },
      "file_extension": ".py",
      "mimetype": "text/x-python",
      "name": "python",
      "nbconvert_exporter": "python",
      "pygments_lexer": "ipython3",
      "version": "3.10.6"
    },
    "orig_nbformat": 4,
    "vscode": {
      "interpreter": {
        "hash": "b27fa327a95f0eef0f878177ae37ed790559c26732ddc28a8c687325a6119dd9"
      }
    },
    "colab": {
      "provenance": [],
      "collapsed_sections": [],
      "include_colab_link": true
    }
  },
  "nbformat": 4,
  "nbformat_minor": 0
}