{
  "cells": [
    {
      "cell_type": "markdown",
      "metadata": {
        "id": "view-in-github",
        "colab_type": "text"
      },
      "source": [
        "<a href=\"https://colab.research.google.com/github/PosgradoMNA/actividades-del-projecto-teammexcol/blob/main/proyecto-ventas-amazon/semana1-amazon.ipynb\" target=\"_parent\"><img src=\"https://colab.research.google.com/assets/colab-badge.svg\" alt=\"Open In Colab\"/></a>"
      ]
    },
    {
      "cell_type": "markdown",
      "source": [
        "# Equipo 40 **Análisis de ventas de Amazon**\n",
        "\n",
        "Por:\n",
        "*   Víctor Alejandro Regueira Romero - A01794404\n",
        "*   Carlos Julio León Caicedo - A01793947\n",
        "\n",
        "Profesor asignado:\n",
        "*   Roberto Antonio Guevara González\n",
        "---\n",
        "\n"
      ],
      "metadata": {
        "id": "xF4SA9LZInnG"
      }
    },
    {
      "cell_type": "markdown",
      "source": [
        "## Actividad 1"
      ],
      "metadata": {
        "id": "gEM_AVJnJiCQ"
      }
    },
    {
      "cell_type": "markdown",
      "source": [
        "### **El nombre que caracteriza el conjunto de datos.**\n",
        "\n"
      ],
      "metadata": {
        "id": "6mosIJ5fJvl9"
      }
    },
    {
      "cell_type": "markdown",
      "source": [
        "Amazon All Categories Best Sellers + Reviews"
      ],
      "metadata": {
        "id": "cjK8FzxvKIOp"
      }
    },
    {
      "cell_type": "markdown",
      "source": [
        "### **La organización que lo generó.**"
      ],
      "metadata": {
        "id": "znFPp8nHKIFa"
      }
    },
    {
      "cell_type": "markdown",
      "source": [
        "amazon.com"
      ],
      "metadata": {
        "id": "TjSd0VAeKH8X"
      }
    },
    {
      "cell_type": "markdown",
      "source": [
        "### **Incluya un enlace de Internet donde se puedan descargar en línea y enviar como una hoja de cálculo junto con su informe correspondiente.**"
      ],
      "metadata": {
        "id": "nW6zpKj0KHvq"
      }
    },
    {
      "cell_type": "markdown",
      "source": [
        "https://www.kaggle.com/datasets/tigboatnc/amazon-all-categories-best-sellers-reviews"
      ],
      "metadata": {
        "id": "P7c6_AHuKGcM"
      }
    },
    {
      "cell_type": "markdown",
      "source": [
        "### **Describe el conjunto de datos. ¿Qué datos contiene?**"
      ],
      "metadata": {
        "id": "Np-02BYaKQKB"
      }
    },
    {
      "cell_type": "markdown",
      "source": [
        "Son **1316 registros** de Datos de Amazon EE. UU. sobre **los 50 productos más vendidos** para las 40 categorías enumeradas.\n",
        "\n",
        "Incluye:\n",
        "\n",
        "1.     nombre del producto\n",
        "2.     Categorías de Producto\n",
        "3.     Ranking de producto en su categoría\n",
        "4.     Recuento de reseñas de productos (Número de reseñas)\n",
        "5.     Revisión del producto (primera página de revisiones)\n",
        "       Incluye Meta + Revisión completa + Calificación otorgada por revisión\n",
        "6.     Coste del artículo en el momento del raspado.\n",
        "7.    URL del producto\n",
        "\n",
        "\n",
        "\n"
      ],
      "metadata": {
        "id": "53sh_cbzKQA7"
      }
    },
    {
      "cell_type": "markdown",
      "source": [
        "### **¿Cuáles son algunas de las preguntas de investigación que podría responder con estos datos? Enumere al menos OCHO (no responda las preguntas).**"
      ],
      "metadata": {
        "id": "vmpiH-uDKP9i"
      }
    },
    {
      "cell_type": "markdown",
      "source": [],
      "metadata": {
        "id": "ZHFyBke2KP4e"
      }
    },
    {
      "cell_type": "markdown",
      "source": [],
      "metadata": {
        "id": "-j0TKuoBKts5"
      }
    },
    {
      "cell_type": "markdown",
      "metadata": {
        "id": "hv-FTwyWCt3G"
      },
      "source": [
        "# Proyecto Amazon Review\n",
        "\n"
      ]
    },
    {
      "cell_type": "markdown",
      "source": [
        "## Conexión a Google Drive"
      ],
      "metadata": {
        "id": "cBNMGsm3NeJS"
      }
    },
    {
      "cell_type": "code",
      "source": [
        "from google.colab import drive\n",
        "drive.mount('/content/drive')"
      ],
      "metadata": {
        "colab": {
          "base_uri": "https://localhost:8080/"
        },
        "id": "xvUba9EFCyzK",
        "outputId": "b0aa68c5-7cf6-4326-f084-e1930379b3b8"
      },
      "execution_count": null,
      "outputs": [
        {
          "output_type": "stream",
          "name": "stdout",
          "text": [
            "Drive already mounted at /content/drive; to attempt to forcibly remount, call drive.mount(\"/content/drive\", force_remount=True).\n"
          ]
        }
      ]
    },
    {
      "cell_type": "markdown",
      "metadata": {
        "id": "fZpnhqE9Ct3N"
      },
      "source": [
        "## Importando Librerías"
      ]
    },
    {
      "cell_type": "code",
      "execution_count": null,
      "metadata": {
        "id": "G_iTRvnKCt3R"
      },
      "outputs": [],
      "source": [
        "import numpy as np # linear algebra\n",
        "import pandas as pd # data processing, CSV file I/O (e.g. pd.read_csv)\n",
        "import matplotlib.pyplot as plt\n",
        "import seaborn as sns\n",
        "%matplotlib inline"
      ]
    },
    {
      "cell_type": "markdown",
      "source": [
        "## Leyendo información"
      ],
      "metadata": {
        "id": "Gc8hrU1XNwpk"
      }
    },
    {
      "cell_type": "code",
      "source": [
        "df = pd.read_csv('abs080922 - clear.csv')"
      ],
      "metadata": {
        "id": "MZ8z1SJSN49g"
      },
      "execution_count": null,
      "outputs": []
    },
    {
      "cell_type": "markdown",
      "metadata": {
        "id": "PaqlfhiLCt3V"
      },
      "source": [
        "## Preparación de datos"
      ]
    },
    {
      "cell_type": "code",
      "source": [
        "df.shape"
      ],
      "metadata": {
        "colab": {
          "base_uri": "https://localhost:8080/"
        },
        "id": "IFfe47b8DK7J",
        "outputId": "6f53629a-3dd3-43b1-bf0a-41a5834f4064"
      },
      "execution_count": null,
      "outputs": [
        {
          "output_type": "execute_result",
          "data": {
            "text/plain": [
              "(1316, 8)"
            ]
          },
          "metadata": {},
          "execution_count": 41
        }
      ]
    },
    {
      "cell_type": "code",
      "source": [
        "print('Son ',df.shape[0], 'filas\\n y ', df.shape[1], 'atributos')"
      ],
      "metadata": {
        "id": "MmMSpODnVlIO",
        "outputId": "4eb93c53-cfb1-4b35-9986-303a26c93f1a",
        "colab": {
          "base_uri": "https://localhost:8080/"
        }
      },
      "execution_count": 51,
      "outputs": [
        {
          "output_type": "stream",
          "name": "stdout",
          "text": [
            "Son  1316 filas\n",
            " y  8 atributos\n"
          ]
        }
      ]
    }
  ],
  "metadata": {
    "kernelspec": {
      "display_name": "Python 3.10.6 64-bit",
      "language": "python",
      "name": "python3"
    },
    "language_info": {
      "codemirror_mode": {
        "name": "ipython",
        "version": 3
      },
      "file_extension": ".py",
      "mimetype": "text/x-python",
      "name": "python",
      "nbconvert_exporter": "python",
      "pygments_lexer": "ipython3",
      "version": "3.10.6"
    },
    "orig_nbformat": 4,
    "vscode": {
      "interpreter": {
        "hash": "b27fa327a95f0eef0f878177ae37ed790559c26732ddc28a8c687325a6119dd9"
      }
    },
    "colab": {
      "provenance": [],
      "collapsed_sections": [],
      "toc_visible": true,
      "include_colab_link": true
    }
  },
  "nbformat": 4,
  "nbformat_minor": 0
}